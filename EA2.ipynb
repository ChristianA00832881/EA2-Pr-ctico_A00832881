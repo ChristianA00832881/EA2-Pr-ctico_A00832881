{
 "cells": [
  {
   "cell_type": "markdown",
   "metadata": {},
   "source": [
    "# Examen Argumentativo 2: Práctico\n",
    "## Uso de Geometría y Topología para Ciencia de Datos\n",
    "### Christian Jaffé Alarcón Acosta A00832881"
   ]
  },
  {
   "cell_type": "code",
   "execution_count": 2,
   "metadata": {},
   "outputs": [],
   "source": [
    "import pandas as pd\n",
    "pd.plotting.register_matplotlib_converters()\n",
    "import numpy as np\n",
    "import matplotlib.pyplot as plt\n",
    "%matplotlib inline\n",
    "import kmapper as km\n",
    "import sklearn\n",
    "from IPython.display import display, HTML\n",
    "from sklearn.manifold import Isomap\n",
    "from sklearn.pipeline import Pipeline\n",
    "from sklearn.preprocessing import StandardScaler\n",
    "from sklearn.cluster import KMeans\n",
    "from sklearn.decomposition import PCA\n",
    "import warnings\n",
    "import seaborn as sns\n",
    "import umap\n",
    "import umap.plot\n",
    "import plotly.express as px\n",
    "from umap.umap_ import UMAP"
   ]
  },
  {
   "cell_type": "markdown",
   "metadata": {},
   "source": [
    "Lo que corresponde hacer ahora es buscar grupos de vinos que compartan características e identificar si realmente hay una relación entre estas caracteríticas con el tipo de vino y así poder determinar su calidad.\n",
    " \n",
    "Para atacar esta problemática se realizarán inicialmente procesos de ML y  posteriormente con TDA para analizar los resultados obtenidos y validar las diferencias entre ellos para así encontrar nuevos hallazgos."
   ]
  },
  {
   "cell_type": "markdown",
   "metadata": {},
   "source": [
    "## Exploratory Data Analysis"
   ]
  },
  {
   "cell_type": "markdown",
   "metadata": {},
   "source": [
    "Inicialmente se sabe que la base de datos está compuesta de características de tres diferentes tipos de vinos, sin embargo, estos no se encuentran clasificados dentro de la base de datos."
   ]
  },
  {
   "cell_type": "code",
   "execution_count": 3,
   "metadata": {},
   "outputs": [
    {
     "name": "stdout",
     "output_type": "stream",
     "text": [
      "Dimensión:  (178, 13)\n"
     ]
    },
    {
     "data": {
      "text/html": [
       "<div>\n",
       "<style scoped>\n",
       "    .dataframe tbody tr th:only-of-type {\n",
       "        vertical-align: middle;\n",
       "    }\n",
       "\n",
       "    .dataframe tbody tr th {\n",
       "        vertical-align: top;\n",
       "    }\n",
       "\n",
       "    .dataframe thead th {\n",
       "        text-align: right;\n",
       "    }\n",
       "</style>\n",
       "<table border=\"1\" class=\"dataframe\">\n",
       "  <thead>\n",
       "    <tr style=\"text-align: right;\">\n",
       "      <th></th>\n",
       "      <th>Alcohol</th>\n",
       "      <th>Malic_Acid</th>\n",
       "      <th>Ash</th>\n",
       "      <th>Ash_Alcanity</th>\n",
       "      <th>Magnesium</th>\n",
       "      <th>Total_Phenols</th>\n",
       "      <th>Flavanoids</th>\n",
       "      <th>Nonflavanoid_Phenols</th>\n",
       "      <th>Proanthocyanins</th>\n",
       "      <th>Color_Intensity</th>\n",
       "      <th>Hue</th>\n",
       "      <th>OD280</th>\n",
       "      <th>Proline</th>\n",
       "    </tr>\n",
       "  </thead>\n",
       "  <tbody>\n",
       "    <tr>\n",
       "      <th>0</th>\n",
       "      <td>14.23</td>\n",
       "      <td>1.71</td>\n",
       "      <td>2.43</td>\n",
       "      <td>15.6</td>\n",
       "      <td>127</td>\n",
       "      <td>2.80</td>\n",
       "      <td>3.06</td>\n",
       "      <td>0.28</td>\n",
       "      <td>2.29</td>\n",
       "      <td>5.64</td>\n",
       "      <td>1.04</td>\n",
       "      <td>3.92</td>\n",
       "      <td>1065</td>\n",
       "    </tr>\n",
       "    <tr>\n",
       "      <th>1</th>\n",
       "      <td>13.20</td>\n",
       "      <td>1.78</td>\n",
       "      <td>2.14</td>\n",
       "      <td>11.2</td>\n",
       "      <td>100</td>\n",
       "      <td>2.65</td>\n",
       "      <td>2.76</td>\n",
       "      <td>0.26</td>\n",
       "      <td>1.28</td>\n",
       "      <td>4.38</td>\n",
       "      <td>1.05</td>\n",
       "      <td>3.40</td>\n",
       "      <td>1050</td>\n",
       "    </tr>\n",
       "    <tr>\n",
       "      <th>2</th>\n",
       "      <td>13.16</td>\n",
       "      <td>2.36</td>\n",
       "      <td>2.67</td>\n",
       "      <td>18.6</td>\n",
       "      <td>101</td>\n",
       "      <td>2.80</td>\n",
       "      <td>3.24</td>\n",
       "      <td>0.30</td>\n",
       "      <td>2.81</td>\n",
       "      <td>5.68</td>\n",
       "      <td>1.03</td>\n",
       "      <td>3.17</td>\n",
       "      <td>1185</td>\n",
       "    </tr>\n",
       "    <tr>\n",
       "      <th>3</th>\n",
       "      <td>14.37</td>\n",
       "      <td>1.95</td>\n",
       "      <td>2.50</td>\n",
       "      <td>16.8</td>\n",
       "      <td>113</td>\n",
       "      <td>3.85</td>\n",
       "      <td>3.49</td>\n",
       "      <td>0.24</td>\n",
       "      <td>2.18</td>\n",
       "      <td>7.80</td>\n",
       "      <td>0.86</td>\n",
       "      <td>3.45</td>\n",
       "      <td>1480</td>\n",
       "    </tr>\n",
       "    <tr>\n",
       "      <th>4</th>\n",
       "      <td>13.24</td>\n",
       "      <td>2.59</td>\n",
       "      <td>2.87</td>\n",
       "      <td>21.0</td>\n",
       "      <td>118</td>\n",
       "      <td>2.80</td>\n",
       "      <td>2.69</td>\n",
       "      <td>0.39</td>\n",
       "      <td>1.82</td>\n",
       "      <td>4.32</td>\n",
       "      <td>1.04</td>\n",
       "      <td>2.93</td>\n",
       "      <td>735</td>\n",
       "    </tr>\n",
       "  </tbody>\n",
       "</table>\n",
       "</div>"
      ],
      "text/plain": [
       "   Alcohol  Malic_Acid   Ash  Ash_Alcanity  Magnesium  Total_Phenols  \\\n",
       "0    14.23        1.71  2.43          15.6        127           2.80   \n",
       "1    13.20        1.78  2.14          11.2        100           2.65   \n",
       "2    13.16        2.36  2.67          18.6        101           2.80   \n",
       "3    14.37        1.95  2.50          16.8        113           3.85   \n",
       "4    13.24        2.59  2.87          21.0        118           2.80   \n",
       "\n",
       "   Flavanoids  Nonflavanoid_Phenols  Proanthocyanins  Color_Intensity   Hue  \\\n",
       "0        3.06                  0.28             2.29             5.64  1.04   \n",
       "1        2.76                  0.26             1.28             4.38  1.05   \n",
       "2        3.24                  0.30             2.81             5.68  1.03   \n",
       "3        3.49                  0.24             2.18             7.80  0.86   \n",
       "4        2.69                  0.39             1.82             4.32  1.04   \n",
       "\n",
       "   OD280  Proline  \n",
       "0   3.92     1065  \n",
       "1   3.40     1050  \n",
       "2   3.17     1185  \n",
       "3   3.45     1480  \n",
       "4   2.93      735  "
      ]
     },
     "execution_count": 3,
     "metadata": {},
     "output_type": "execute_result"
    }
   ],
   "source": [
    "data = pd.read_csv('wine-clustering.csv') #Se lee la base de datos y se despliega la dimensión y las primeras 5 filas\n",
    "print('Dimensión: ', data.shape)\n",
    "data.head(5)"
   ]
  },
  {
   "cell_type": "markdown",
   "metadata": {},
   "source": [
    "Se puede observar que el dataset tiene una dimensión de 178 filas y 13 columnas, que nos representan 13 características distintas 178 tipos de vinos"
   ]
  },
  {
   "cell_type": "code",
   "execution_count": 5,
   "metadata": {},
   "outputs": [
    {
     "name": "stdout",
     "output_type": "stream",
     "text": [
      "Valores faltantes en el DataFrame: 0\n",
      "\n",
      "Valores duplicados: 0 (0.0%)\n",
      "\n",
      "Tipos de datos presentes en el DataFrame: [dtype('float64') dtype('int64')]\n"
     ]
    }
   ],
   "source": [
    "# Calculando valores faltantes totales\n",
    "total_missing_values = data.isna().sum().sum()\n",
    "print(f'Valores faltantes en el DataFrame: {total_missing_values}')\n",
    "\n",
    "# Calculando valores duplicados\n",
    "total_duplicated = data.duplicated().sum()\n",
    "percentage_duplicated = np.round(100 * total_duplicated / len(data), 1)\n",
    "print(f'\\nValores duplicados: {total_duplicated} ({percentage_duplicated}%)')\n",
    "\n",
    "# Mostrando los tipos de datos únicos presentes en el DataFrame\n",
    "unique_data_types = data.dtypes.unique()\n",
    "print(f'\\nTipos de datos presentes en el DataFrame: {unique_data_types}')"
   ]
  },
  {
   "cell_type": "markdown",
   "metadata": {},
   "source": [
    "### Detección de Outliers"
   ]
  },
  {
   "cell_type": "markdown",
   "metadata": {},
   "source": [
    "Al hacer una detección de outliers, se puede observar que variables como 'Malic_Acid', 'Ash', 'Ash_alcalinity', 'Magnesium', 'Proanthocyanins', 'Color_intensity' y'Hue' presentan outliers de acuerdo al IQR, por lo que por este mismo método procederemos a eliminarlos."
   ]
  },
  {
   "cell_type": "code",
   "execution_count": 6,
   "metadata": {},
   "outputs": [
    {
     "data": {
      "text/plain": [
       "(161, 13)"
      ]
     },
     "execution_count": 6,
     "metadata": {},
     "output_type": "execute_result"
    }
   ],
   "source": [
    "#Función para identificar y eliminar outliers\n",
    "def remove_outliers(df):\n",
    "    for column in df.select_dtypes(include=['float64', 'int64']).columns:\n",
    "        Q1 = df[column].quantile(0.25)\n",
    "        Q3 = df[column].quantile(0.75)\n",
    "        IQR = Q3 - Q1\n",
    "        lower_bound = Q1 - 1.5 * IQR\n",
    "        upper_bound = Q3 + 1.5 * IQR\n",
    "        \n",
    "        # Solo conservar las filas que no son outliers\n",
    "        df = df[(df[column] >= lower_bound) & (df[column] <= upper_bound)]\n",
    "    return df\n",
    "\n",
    "data = remove_outliers(data)\n",
    "data.shape"
   ]
  },
  {
   "cell_type": "markdown",
   "metadata": {},
   "source": [
    "Se puede observar que no hubo una pérdida significativa de datos al eliminar los outliers, por lo que se usará el dataset sin outliers."
   ]
  },
  {
   "cell_type": "markdown",
   "metadata": {},
   "source": [
    "# Método: PCA y K-Means"
   ]
  },
  {
   "cell_type": "markdown",
   "metadata": {},
   "source": [
    "En este caso como queremos utilizar todo las variables del dataframe para realizar la clusterización, inicialmente se hará un PCA para reeducir dimensionalidad uy posteriormente se aplicará K-Means."
   ]
  },
  {
   "cell_type": "markdown",
   "metadata": {},
   "source": [
    "### Normalización de la data"
   ]
  },
  {
   "cell_type": "code",
   "execution_count": 7,
   "metadata": {},
   "outputs": [],
   "source": [
    "# This scales each column to have mean=0 and standard deviation=1\n",
    "scaler =StandardScaler()\n",
    "\n",
    "# Apply scaling\n",
    "X=pd.DataFrame(scaler.fit_transform(data), columns=data.columns)"
   ]
  },
  {
   "cell_type": "markdown",
   "metadata": {},
   "source": [
    "### Número óptimo de clusters"
   ]
  },
  {
   "cell_type": "code",
   "execution_count": 8,
   "metadata": {},
   "outputs": [
    {
     "data": {
      "image/png": "[encoded data removed]",
      "text/plain": [
       "<Figure size 800x550 with 2 Axes>"
      ]
     },
     "metadata": {},
     "output_type": "display_data"
    },
    {
     "data": {
      "text/plain": [
       "<AxesSubplot: title={'center': 'Distortion Score Elbow for KMeans Clustering'}, xlabel='k', ylabel='distortion score'>"
      ]
     },
     "execution_count": 8,
     "metadata": {},
     "output_type": "execute_result"
    }
   ],
   "source": [
    "#Número óptimo de clusters\n",
    "from yellowbrick.cluster import KElbowVisualizer\n",
    "from sklearn.cluster import KMeans\n",
    "warnings.filterwarnings('ignore')\n",
    "\n",
    "X1 = X\n",
    "model = KMeans()\n",
    "visualizer = KElbowVisualizer(model, k=(2,10), timings= True)\n",
    "visualizer.fit(X1)\n",
    "visualizer.show()"
   ]
  },
  {
   "cell_type": "markdown",
   "metadata": {},
   "source": [
    "Apoyándonos con kmeans, que es un método que requiere que le indiques el número de clusters, se puede observar que recomienda un número de 3 clusters, que coincide con la información de nuestro dataset, correspondiente a 3 tipos de vinos. Posteriormente se inicia el proceso de PCA"
   ]
  },
  {
   "cell_type": "code",
   "execution_count": 9,
   "metadata": {},
   "outputs": [
    {
     "name": "stdout",
     "output_type": "stream",
     "text": [
      "(161, 2)\n"
     ]
    },
    {
     "data": {
      "text/html": [
       "<div>\n",
       "<style scoped>\n",
       "    .dataframe tbody tr th:only-of-type {\n",
       "        vertical-align: middle;\n",
       "    }\n",
       "\n",
       "    .dataframe tbody tr th {\n",
       "        vertical-align: top;\n",
       "    }\n",
       "\n",
       "    .dataframe thead th {\n",
       "        text-align: right;\n",
       "    }\n",
       "</style>\n",
       "<table border=\"1\" class=\"dataframe\">\n",
       "  <thead>\n",
       "    <tr style=\"text-align: right;\">\n",
       "      <th></th>\n",
       "      <th>PC1</th>\n",
       "      <th>PC2</th>\n",
       "    </tr>\n",
       "  </thead>\n",
       "  <tbody>\n",
       "    <tr>\n",
       "      <th>0</th>\n",
       "      <td>-3.503528</td>\n",
       "      <td>-1.609446</td>\n",
       "    </tr>\n",
       "    <tr>\n",
       "      <th>1</th>\n",
       "      <td>-2.342642</td>\n",
       "      <td>0.331164</td>\n",
       "    </tr>\n",
       "    <tr>\n",
       "      <th>2</th>\n",
       "      <td>-2.661349</td>\n",
       "      <td>-0.936183</td>\n",
       "    </tr>\n",
       "    <tr>\n",
       "      <th>3</th>\n",
       "      <td>-3.925301</td>\n",
       "      <td>-2.710827</td>\n",
       "    </tr>\n",
       "    <tr>\n",
       "      <th>4</th>\n",
       "      <td>-1.032831</td>\n",
       "      <td>-1.074396</td>\n",
       "    </tr>\n",
       "  </tbody>\n",
       "</table>\n",
       "</div>"
      ],
      "text/plain": [
       "        PC1       PC2\n",
       "0 -3.503528 -1.609446\n",
       "1 -2.342642  0.331164\n",
       "2 -2.661349 -0.936183\n",
       "3 -3.925301 -2.710827\n",
       "4 -1.032831 -1.074396"
      ]
     },
     "execution_count": 9,
     "metadata": {},
     "output_type": "execute_result"
    }
   ],
   "source": [
    "# PCA\n",
    "pca = PCA(n_components=2)\n",
    "X_pca = pca.fit_transform(X)\n",
    "\n",
    "# Convert to data frame\n",
    "principal_df = pd.DataFrame(data = X_pca, columns = ['PC1', 'PC2'])\n",
    "\n",
    "# Componentes\n",
    "print(principal_df.shape)\n",
    "principal_df.head()"
   ]
  },
  {
   "cell_type": "markdown",
   "metadata": {},
   "source": [
    "En este caso se utilizarán dos componentes para representar la información y se colorearán dependiendo al cluster al que correspondan"
   ]
  },
  {
   "cell_type": "code",
   "execution_count": 12,
   "metadata": {},
   "outputs": [],
   "source": [
    "# KMeans\n",
    "kmeans = KMeans(n_clusters=3, random_state=0)\n",
    "clusters = kmeans.fit_predict(X)\n",
    "\n",
    "# Centroides de los clusters\n",
    "centroids = kmeans.cluster_centers_\n",
    "centroids_pca = pca.transform(centroids)"
   ]
  },
  {
   "cell_type": "code",
   "execution_count": 13,
   "metadata": {},
   "outputs": [
    {
     "data": {
      "image/png": "[encoded data removed]",
      "text/plain": [
       "<Figure size 1000x600 with 2 Axes>"
      ]
     },
     "metadata": {},
     "output_type": "display_data"
    }
   ],
   "source": [
    "plt.figure(figsize=(10, 6))\n",
    "plt.scatter(X_pca[:, 0], X_pca[:, 1], c=clusters, cmap='viridis', marker='o', edgecolor='k')\n",
    "plt.scatter(x=centroids_pca[:,0], y=centroids_pca[:,1], marker=\"x\", s=500, linewidths=3, color=\"black\")\n",
    "plt.title('Visualización de Clusters en 2D usando PCA')\n",
    "plt.xlabel('Componente Principal 1')\n",
    "plt.ylabel('Componente Principal 2')\n",
    "plt.colorbar(label='Cluster')\n",
    "plt.show()"
   ]
  },
  {
   "cell_type": "markdown",
   "metadata": {},
   "source": [
    "Se puede observar claramente los 3 clusters separados y los componentes que mejor describe a cada uno."
   ]
  },
  {
   "cell_type": "code",
   "execution_count": 14,
   "metadata": {},
   "outputs": [
    {
     "data": {
      "application/vnd.plotly.v1+json": {
       "config": {
        "plotlyServerURL": "https://plot.ly"
       },
       "data": [
        {
         "hovertemplate": "PC 1=%{x}<br>PC 2=%{y}<br>PC 3=%{z}<br>size=%{marker.size}<br>color=%{marker.color}<extra></extra>",
         "legendgroup": "",
         "marker": {
          "color": [
           0,
           0,
           0,
           0,
           0,
           0,
           0,
           0,
           0,
           0,
           0,
           0,
           0,
           0,
           0,
           0,
           0,
           0,
           0,
           0,
           0,
           0,
           0,
           0,
           0,
           0,
           0,
           0,
           0,
           0,
           0,
           0,
           0,
           0,
           0,
           0,
           0,
           0,
           0,
           0,
           0,
           0,
           0,
           0,
           0,
           0,
           0,
           0,
           0,
           0,
           0,
           0,
           0,
           0,
           0,
           0,
           0,
           2,
           1,
           2,
           2,
           2,
           2,
           2,
           2,
           2,
           2,
           2,
           2,
           2,
           2,
           2,
           2,
           2,
           2,
           2,
           2,
           1,
           2,
           2,
           2,
           2,
           2,
           2,
           2,
           2,
           2,
           2,
           2,
           2,
           2,
           2,
           2,
           2,
           2,
           2,
           2,
           2,
           2,
           2,
           2,
           2,
           2,
           2,
           2,
           2,
           2,
           2,
           2,
           1,
           2,
           2,
           2,
           2,
           2,
           2,
           2,
           2,
           1,
           1,
           1,
           1,
           1,
           1,
           1,
           1,
           1,
           1,
           1,
           1,
           1,
           1,
           1,
           1,
           1,
           1,
           1,
           1,
           1,
           1,
           1,
           1,
           1,
           1,
           1,
           1,
           1,
           1,
           1,
           1,
           1,
           1,
           1,
           1,
           1,
           1,
           1,
           1,
           1,
           1,
           1
          ],
          "coloraxis": "coloraxis",
          "opacity": 1,
          "size": [
           0.1,
           0.1,
           0.1,
           0.1,
           0.1,
           0.1,
           0.1,
           0.1,
           0.1,
           0.1,
           0.1,
           0.1,
           0.1,
           0.1,
           0.1,
           0.1,
           0.1,
           0.1,
           0.1,
           0.1,
           0.1,
           0.1,
           0.1,
           0.1,
           0.1,
           0.1,
           0.1,
           0.1,
           0.1,
           0.1,
           0.1,
           0.1,
           0.1,
           0.1,
           0.1,
           0.1,
           0.1,
           0.1,
           0.1,
           0.1,
           0.1,
           0.1,
           0.1,
           0.1,
           0.1,
           0.1,
           0.1,
           0.1,
           0.1,
           0.1,
           0.1,
           0.1,
           0.1,
           0.1,
           0.1,
           0.1,
           0.1,
           0.1,
           0.1,
           0.1,
           0.1,
           0.1,
           0.1,
           0.1,
           0.1,
           0.1,
           0.1,
           0.1,
           0.1,
           0.1,
           0.1,
           0.1,
           0.1,
           0.1,
           0.1,
           0.1,
           0.1,
           0.1,
           0.1,
           0.1,
           0.1,
           0.1,
           0.1,
           0.1,
           0.1,
           0.1,
           0.1,
           0.1,
           0.1,
           0.1,
           0.1,
           0.1,
           0.1,
           0.1,
           0.1,
           0.1,
           0.1,
           0.1,
           0.1,
           0.1,
           0.1,
           0.1,
           0.1,
           0.1,
           0.1,
           0.1,
           0.1,
           0.1,
           0.1,
           0.1,
           0.1,
           0.1,
           0.1,
           0.1,
           0.1,
           0.1,
           0.1,
           0.1,
           0.1,
           0.1,
           0.1,
           0.1,
           0.1,
           0.1,
           0.1,
           0.1,
           0.1,
           0.1,
           0.1,
           0.1,
           0.1,
           0.1,
           0.1,
           0.1,
           0.1,
           0.1,
           0.1,
           0.1,
           0.1,
           0.1,
           0.1,
           0.1,
           0.1,
           0.1,
           0.1,
           0.1,
           0.1,
           0.1,
           0.1,
           0.1,
           0.1,
           0.1,
           0.1,
           0.1,
           0.1,
           0.1,
           0.1,
           0.1,
           0.1,
           0.1,
           0.1
          ],
          "sizemode": "area",
          "sizeref": 0.00025,
          "symbol": "circle"
         },
         "mode": "markers",
         "name": "",
         "scene": "scene",
         "showlegend": false,
         "type": "scatter3d",
         "x": [
          -3.50352797428429,
          -2.342641895707748,
          -2.661348989708022,
          -3.9253006211881956,
          -1.0328314196358022,
          -3.2387743888309664,
          -2.6281659600234404,
          -2.1116020484579594,
          -2.7299196640986554,
          -2.88925137791986,
          -3.621308133458813,
          -1.8592418491300953,
          -2.2431557714818453,
          -3.8160818989638323,
          -2.411611290615029,
          -2.2843001075660276,
          -1.977365595812202,
          -3.7170785989689614,
          -2.2112124577638883,
          -3.283674565062562,
          -1.1300886959418746,
          -2.6066697206166367,
          -1.6528043721136885,
          -1.7672174195226151,
          -1.8517064805058947,
          -1.2590024737563401,
          -2.258529681191059,
          -2.3784077738509466,
          -2.56765561734363,
          -2.756965396281883,
          -1.7376730554649307,
          -1.9408187466711675,
          -1.4538366922548112,
          -1.924485617131075,
          -1.4953206239670003,
          -1.1603204939446239,
          -1.5621564717077354,
          -2.743807588446312,
          -2.7488020302832017,
          -0.658208918901334,
          -3.212012338205962,
          -0.5001202454629893,
          -2.1740760578795606,
          -1.1501057941371973,
          -2.880147191283763,
          -2.9691006340263906,
          -2.1538171862520867,
          -2.8613881704387474,
          -3.4857433764650496,
          -3.0154115479251353,
          -3.689502924840599,
          -2.338727774377417,
          -2.246314517366221,
          -2.559292214112602,
          -2.897876024390124,
          -2.274955199883599,
          -3.2893107041507093,
          1.5777422194527297,
          1.8503869059536178,
          -0.008862919543482568,
          -2.06484040366812,
          0.6450851189224935,
          -0.984678285365628,
          -2.385470745444061,
          -0.08723626042443366,
          0.8365664067884393,
          1.6260920260859877,
          -1.6205745415679078,
          0.8496290309032868,
          -1.744504020491679,
          0.8823290714957822,
          -0.42936118824606445,
          1.540261934717942,
          -0.3012504774260653,
          -0.7042150280571942,
          -1.0443642343728405,
          0.6383099471307957,
          2.5925732022382832,
          -0.8887118095025438,
          -0.786419244208711,
          0.9021033581993038,
          0.7646382326628847,
          1.2413034564801046,
          0.7283696918461734,
          1.3619544409955358,
          1.6453664979227085,
          1.9629690554426946,
          -0.755362440012976,
          -0.9081368238418247,
          0.6112030389734717,
          -1.0773217874239,
          -2.279462373388356,
          -1.5021099555391464,
          -0.7519346161371302,
          0.5936707672850614,
          0.26474236159118797,
          0.7564080830868547,
          -0.29784015276856807,
          1.890290214613563,
          0.40164829949965863,
          1.690136723494441,
          -0.07104028223577587,
          -1.5911724213606655,
          0.3859804186796858,
          1.368821833937785,
          0.5434867145629159,
          0.6463088915417079,
          0.37680789682830346,
          0.2044688904894765,
          2.459747262301472,
          0.6149078259680137,
          -0.6666342863578025,
          1.3495292041470883,
          -0.9734735106073171,
          0.21488658215805376,
          0.012387878267480048,
          0.5939159297574219,
          1.9316030710031364,
          1.3202964522150427,
          2.4270626303617573,
          3.0616814733987825,
          2.235306502288016,
          2.3592563612967536,
          3.0907147052716226,
          4.0355183587366525,
          3.134049547869835,
          2.527231572563854,
          2.8697214384504908,
          2.36433926824589,
          3.1148301341419553,
          2.419433161143397,
          2.237070591741974,
          2.6909685565779693,
          4.333279595012489,
          3.6726460963676226,
          2.831813513999273,
          2.916418711548469,
          2.3452233801698736,
          1.8653715224348268,
          2.6591514602267066,
          2.750261835510666,
          3.63808788976105,
          2.8231616771873775,
          3.573437925885564,
          3.2221530784598595,
          2.2621307053193758,
          2.9373622504612498,
          2.620733226197884,
          2.9692274639853733,
          3.5886141971302807,
          2.3970851427253983,
          2.9416618396357386,
          2.205964753331285,
          2.4659630670207506,
          3.2917380615890717,
          3.7172684471222373,
          2.405825834423552,
          2.6428601015970097,
          2.6560308884384445,
          2.354087003330739,
          3.2340792791635846
         ],
         "y": [
          -1.6094455056453303,
          0.33116436805713856,
          -0.9361826860601858,
          -2.7108273872671154,
          -1.0743956861800423,
          -2.1280582614813275,
          -1.0581831178398313,
          -1.8221252828480177,
          -0.7652622523201366,
          -0.654370797517543,
          -1.1847415081299377,
          -0.5076204026129882,
          -0.49688348533263915,
          -0.8735847913462068,
          -1.7920940701579928,
          -2.4544891714412675,
          -1.70626265435897,
          -2.4631764580539373,
          -1.2742959221223216,
          -0.9466703385617787,
          -0.3302651864799451,
          0.1609886892331258,
          0.5788615827500755,
          0.4098440752206182,
          -0.5834372451075364,
          0.19814035610069258,
          -0.7128165669075736,
          -0.04476428044176432,
          -1.0919003339706856,
          -1.4072626371577275,
          -0.028089586915836746,
          -1.9272990674803907,
          -0.8013053742983104,
          -0.0763889519828545,
          -0.8344484712922126,
          -0.1040691025788392,
          0.8190925975752503,
          -2.128947267202918,
          -0.8326334059134749,
          -0.05738837731355162,
          -1.093944933182588,
          -0.40214648031551525,
          0.11983791193043654,
          -1.9103157955117964,
          -1.1131425728011046,
          -0.4996725770196088,
          -1.1594039108577323,
          -1.7074949455026491,
          0.043346962231154834,
          -0.5956133350397469,
          -1.6019191454491406,
          -1.9931856170572886,
          -1.145917948170015,
          -1.3613936073537065,
          -1.502848755263391,
          -1.2063608659917153,
          -1.6815465397470877,
          1.219956687299225,
          0.7116704878617778,
          1.317115096555763,
          2.174263897063994,
          1.7256543567484688,
          0.7889025358038441,
          2.296543737371108,
          2.674867303033245,
          0.039405386118213696,
          0.7720412861298579,
          1.213361214033091,
          1.204760102247788,
          1.3746893312194248,
          2.3447339438199233,
          2.325447930614596,
          1.0853481220318189,
          1.0320591952349782,
          3.5557418671032828,
          1.6331189676472786,
          2.6065029773921338,
          0.15504341673361008,
          1.5526242130207295,
          2.0379404456257775,
          2.3112990547565313,
          2.4568224998121853,
          1.9074657491413167,
          3.0174787905516824,
          2.24182233063466,
          1.9350532152664592,
          1.7375478248764251,
          2.4223939030939543,
          2.194897664565216,
          -0.1583145159912999,
          2.7596234713189496,
          1.7217353738132875,
          2.3632669517398166,
          2.4267695803294567,
          2.401699254342892,
          1.1532284939338973,
          2.8465301264461855,
          2.3182080241027854,
          1.7897570303981623,
          2.369342216298256,
          1.5095577287037751,
          2.4780111165918344,
          1.594650420901426,
          2.048417258669738,
          0.5248324419447497,
          2.3709004535932583,
          2.1005497564931566,
          2.997125593362978,
          1.8681025435977203,
          1.297919401361353,
          2.3340017406051743,
          1.4722837109311535,
          0.5641765580628931,
          1.6870774446094834,
          2.2961837716495412,
          1.5019977749104254,
          2.1448012843732287,
          1.245384515021095,
          -0.5520951361684039,
          -0.6410813344150051,
          -0.410589395149177,
          -0.6421000494757815,
          0.526517116175711,
          -0.4552411273873038,
          -0.33157529294535876,
          -0.39657753364002873,
          -0.44510340427325107,
          -0.45634259915012965,
          -0.42164077957586343,
          -0.67085153212978,
          -0.5948496818639447,
          -1.5206120437653845,
          -0.7032129241714781,
          -0.7228937651075003,
          -1.3742045486102683,
          -1.6283014625953565,
          -2.3998808200931356,
          -2.785791545903955,
          -1.785652033331692,
          -2.251337463007267,
          -0.5240933559795717,
          -1.913640137926927,
          -1.9840768237254625,
          -1.405118131882655,
          -0.7995487570750406,
          -1.4504487261566743,
          -0.8168635952369712,
          -0.9833459635466755,
          -1.608041297272048,
          -0.9440394133161765,
          -2.9016978103548112,
          -1.378864899621097,
          -2.253060762675405,
          -2.952146533570594,
          0.039869359354797525,
          -0.9300701269358348,
          -2.242186854400675,
          -1.9326602292667943,
          -3.1796932657146715,
          -2.646938673732596,
          -2.890993579417717
         ],
         "z": [
          0.03941198072991273,
          -1.978330754841683,
          1.1265332947128994,
          -0.14629630132312116,
          2.4458407593557907,
          -0.5436520044894294,
          -0.8012396229994004,
          0.6262168837523722,
          -1.7977674314776702,
          -1.055483296220316,
          -0.26109254323615744,
          -0.9196010479789128,
          -0.7220762987872223,
          -1.3533896846207096,
          0.6130826579779358,
          1.222965676909137,
          0.986209110753322,
          -0.4231555226806044,
          0.17810196141893522,
          -0.2592840347015942,
          1.2383730916271123,
          -0.12041552595177177,
          0.4606671091515538,
          1.22702207002167,
          0.09660536045612221,
          -1.2351925984410161,
          1.782514060483276,
          -1.0413761566512771,
          1.6889182045570827,
          -0.17053638762487236,
          -0.027519729224041667,
          1.5924637359886993,
          0.9734457085940502,
          0.5674043588526526,
          0.9434653686456982,
          0.3357732853852927,
          -1.3121161246190558,
          -0.09058554960766747,
          -0.24201156962140316,
          -0.8352164738872675,
          -0.10647976174968196,
          -0.24025599101674192,
          -0.8159857265601677,
          0.21709951410689557,
          -0.5632717369431386,
          -1.3249611670399601,
          -0.017485639134462626,
          -0.7940003567753967,
          -2.2200316776190743,
          0.3213654641102284,
          -0.6022004506059395,
          0.653837342390749,
          -0.8000402213242471,
          0.7301727838848568,
          -0.5847790305791142,
          0.5140610026776566,
          -0.1692844363284827,
          -0.7200319700095319,
          -1.7951830069743457,
          -1.722649661301245,
          -0.13200893361980126,
          1.0845402448229855,
          0.7405835313588095,
          -2.6188874090728893,
          -1.2544339417320274,
          -0.4563464556064952,
          -0.33221085223489083,
          2.3179886025037963,
          0.2397088166861272,
          0.7162980691864442,
          -1.5718575884037367,
          -2.666990586297711,
          -0.03404030914572433,
          1.832406736724322,
          -0.40228579396382264,
          -0.33066419014800785,
          1.6398948558773545,
          0.2430254471209402,
          0.8371870106460921,
          -0.041487178424081575,
          0.9662630450706262,
          2.6993828367430814,
          1.0519575053667147,
          0.8764052391804847,
          -0.04580274499880148,
          0.848865282333557,
          -0.19572422552537616,
          0.14782235698111848,
          0.31395515108111055,
          2.2530629516161764,
          -1.227535030791212,
          -0.5028230776719129,
          0.5326390886361769,
          -1.6911148751026026,
          -1.460639667256965,
          1.124876224578352,
          -0.9784456280539613,
          -0.5768356441881857,
          0.6941293877004949,
          -0.6076659184062342,
          0.23861841961370428,
          -0.7741200581048616,
          1.989321979520717,
          0.10509197274153248,
          2.397279166340544,
          1.183288428257027,
          1.3560493983344797,
          -0.3503451631940945,
          0.8429734956214241,
          -2.130800068619074,
          -0.466101674348414,
          1.0879870534907161,
          3.290532068133607,
          1.2911488477605857,
          0.2321289169313548,
          0.38705019250213535,
          1.239062890756939,
          0.7652515699898634,
          -0.6645326696936099,
          -0.36683572363351025,
          0.1349779899068965,
          -0.03761420184504541,
          -1.2973972790074326,
          -1.34830263382704,
          0.44627197727150647,
          -1.1740797769384164,
          1.4753618074816528,
          0.9209248458657241,
          -0.7866381785751618,
          1.3775348165791055,
          -0.1730172811981868,
          -1.1787572267973883,
          -0.7754639227040584,
          -1.4231137040666275,
          -0.19393695257410704,
          -0.6186937930988256,
          -0.4970538042450287,
          0.8124772735446928,
          1.7531221773740402,
          -1.4395582924047086,
          -1.4372116185727628,
          -0.39238010774286447,
          -1.0483907620490773,
          1.6122245912161177,
          -0.34286245884929867,
          0.198911282179967,
          0.9730167369464143,
          -0.6787770602200768,
          -1.0884782529841093,
          -0.5668039358792274,
          0.5173837440564124,
          -1.3831493586064265,
          1.0161319832450537,
          1.85697008483284,
          -0.731905544238029,
          -1.6045332726193728,
          -0.9901730432846461,
          0.3104548146798131,
          -1.0262586909202558,
          -0.6064446464889705,
          0.9804190049883387
         ]
        }
       ],
       "layout": {
        "coloraxis": {
         "colorbar": {
          "title": {
           "text": "color"
          }
         },
         "colorscale": [
          [
           0,
           "#0d0887"
          ],
          [
           0.1111111111111111,
           "#46039f"
          ],
          [
           0.2222222222222222,
           "#7201a8"
          ],
          [
           0.3333333333333333,
           "#9c179e"
          ],
          [
           0.4444444444444444,
           "#bd3786"
          ],
          [
           0.5555555555555556,
           "#d8576b"
          ],
          [
           0.6666666666666666,
           "#ed7953"
          ],
          [
           0.7777777777777778,
           "#fb9f3a"
          ],
          [
           0.8888888888888888,
           "#fdca26"
          ],
          [
           1,
           "#f0f921"
          ]
         ]
        },
        "height": 500,
        "legend": {
         "itemsizing": "constant",
         "tracegroupgap": 0
        },
        "scene": {
         "domain": {
          "x": [
           0,
           1
          ],
          "y": [
           0,
           1
          ]
         },
         "xaxis": {
          "title": {
           "text": "PC 1"
          }
         },
         "yaxis": {
          "title": {
           "text": "PC 2"
          }
         },
         "zaxis": {
          "title": {
           "text": "PC 3"
          }
         }
        },
        "template": {
         "data": {
          "bar": [
           {
            "error_x": {
             "color": "#2a3f5f"
            },
            "error_y": {
             "color": "#2a3f5f"
            },
            "marker": {
             "line": {
              "color": "#E5ECF6",
              "width": 0.5
             },
             "pattern": {
              "fillmode": "overlay",
              "size": 10,
              "solidity": 0.2
             }
            },
            "type": "bar"
           }
          ],
          "barpolar": [
           {
            "marker": {
             "line": {
              "color": "#E5ECF6",
              "width": 0.5
             },
             "pattern": {
              "fillmode": "overlay",
              "size": 10,
              "solidity": 0.2
             }
            },
            "type": "barpolar"
           }
          ],
          "carpet": [
           {
            "aaxis": {
             "endlinecolor": "#2a3f5f",
             "gridcolor": "white",
             "linecolor": "white",
             "minorgridcolor": "white",
             "startlinecolor": "#2a3f5f"
            },
            "baxis": {
             "endlinecolor": "#2a3f5f",
             "gridcolor": "white",
             "linecolor": "white",
             "minorgridcolor": "white",
             "startlinecolor": "#2a3f5f"
            },
            "type": "carpet"
           }
          ],
          "choropleth": [
           {
            "colorbar": {
             "outlinewidth": 0,
             "ticks": ""
            },
            "type": "choropleth"
           }
          ],
          "contour": [
           {
            "colorbar": {
             "outlinewidth": 0,
             "ticks": ""
            },
            "colorscale": [
             [
              0,
              "#0d0887"
             ],
             [
              0.1111111111111111,
              "#46039f"
             ],
             [
              0.2222222222222222,
              "#7201a8"
             ],
             [
              0.3333333333333333,
              "#9c179e"
             ],
             [
              0.4444444444444444,
              "#bd3786"
             ],
             [
              0.5555555555555556,
              "#d8576b"
             ],
             [
              0.6666666666666666,
              "#ed7953"
             ],
             [
              0.7777777777777778,
              "#fb9f3a"
             ],
             [
              0.8888888888888888,
              "#fdca26"
             ],
             [
              1,
              "#f0f921"
             ]
            ],
            "type": "contour"
           }
          ],
          "contourcarpet": [
           {
            "colorbar": {
             "outlinewidth": 0,
             "ticks": ""
            },
            "type": "contourcarpet"
           }
          ],
          "heatmap": [
           {
            "colorbar": {
             "outlinewidth": 0,
             "ticks": ""
            },
            "colorscale": [
             [
              0,
              "#0d0887"
             ],
             [
              0.1111111111111111,
              "#46039f"
             ],
             [
              0.2222222222222222,
              "#7201a8"
             ],
             [
              0.3333333333333333,
              "#9c179e"
             ],
             [
              0.4444444444444444,
              "#bd3786"
             ],
             [
              0.5555555555555556,
              "#d8576b"
             ],
             [
              0.6666666666666666,
              "#ed7953"
             ],
             [
              0.7777777777777778,
              "#fb9f3a"
             ],
             [
              0.8888888888888888,
              "#fdca26"
             ],
             [
              1,
              "#f0f921"
             ]
            ],
            "type": "heatmap"
           }
          ],
          "heatmapgl": [
           {
            "colorbar": {
             "outlinewidth": 0,
             "ticks": ""
            },
            "colorscale": [
             [
              0,
              "#0d0887"
             ],
             [
              0.1111111111111111,
              "#46039f"
             ],
             [
              0.2222222222222222,
              "#7201a8"
             ],
             [
              0.3333333333333333,
              "#9c179e"
             ],
             [
              0.4444444444444444,
              "#bd3786"
             ],
             [
              0.5555555555555556,
              "#d8576b"
             ],
             [
              0.6666666666666666,
              "#ed7953"
             ],
             [
              0.7777777777777778,
              "#fb9f3a"
             ],
             [
              0.8888888888888888,
              "#fdca26"
             ],
             [
              1,
              "#f0f921"
             ]
            ],
            "type": "heatmapgl"
           }
          ],
          "histogram": [
           {
            "marker": {
             "pattern": {
              "fillmode": "overlay",
              "size": 10,
              "solidity": 0.2
             }
            },
            "type": "histogram"
           }
          ],
          "histogram2d": [
           {
            "colorbar": {
             "outlinewidth": 0,
             "ticks": ""
            },
            "colorscale": [
             [
              0,
              "#0d0887"
             ],
             [
              0.1111111111111111,
              "#46039f"
             ],
             [
              0.2222222222222222,
              "#7201a8"
             ],
             [
              0.3333333333333333,
              "#9c179e"
             ],
             [
              0.4444444444444444,
              "#bd3786"
             ],
             [
              0.5555555555555556,
              "#d8576b"
             ],
             [
              0.6666666666666666,
              "#ed7953"
             ],
             [
              0.7777777777777778,
              "#fb9f3a"
             ],
             [
              0.8888888888888888,
              "#fdca26"
             ],
             [
              1,
              "#f0f921"
             ]
            ],
            "type": "histogram2d"
           }
          ],
          "histogram2dcontour": [
           {
            "colorbar": {
             "outlinewidth": 0,
             "ticks": ""
            },
            "colorscale": [
             [
              0,
              "#0d0887"
             ],
             [
              0.1111111111111111,
              "#46039f"
             ],
             [
              0.2222222222222222,
              "#7201a8"
             ],
             [
              0.3333333333333333,
              "#9c179e"
             ],
             [
              0.4444444444444444,
              "#bd3786"
             ],
             [
              0.5555555555555556,
              "#d8576b"
             ],
             [
              0.6666666666666666,
              "#ed7953"
             ],
             [
              0.7777777777777778,
              "#fb9f3a"
             ],
             [
              0.8888888888888888,
              "#fdca26"
             ],
             [
              1,
              "#f0f921"
             ]
            ],
            "type": "histogram2dcontour"
           }
          ],
          "mesh3d": [
           {
            "colorbar": {
             "outlinewidth": 0,
             "ticks": ""
            },
            "type": "mesh3d"
           }
          ],
          "parcoords": [
           {
            "line": {
             "colorbar": {
              "outlinewidth": 0,
              "ticks": ""
             }
            },
            "type": "parcoords"
           }
          ],
          "pie": [
           {
            "automargin": true,
            "type": "pie"
           }
          ],
          "scatter": [
           {
            "fillpattern": {
             "fillmode": "overlay",
             "size": 10,
             "solidity": 0.2
            },
            "type": "scatter"
           }
          ],
          "scatter3d": [
           {
            "line": {
             "colorbar": {
              "outlinewidth": 0,
              "ticks": ""
             }
            },
            "marker": {
             "colorbar": {
              "outlinewidth": 0,
              "ticks": ""
             }
            },
            "type": "scatter3d"
           }
          ],
          "scattercarpet": [
           {
            "marker": {
             "colorbar": {
              "outlinewidth": 0,
              "ticks": ""
             }
            },
            "type": "scattercarpet"
           }
          ],
          "scattergeo": [
           {
            "marker": {
             "colorbar": {
              "outlinewidth": 0,
              "ticks": ""
             }
            },
            "type": "scattergeo"
           }
          ],
          "scattergl": [
           {
            "marker": {
             "colorbar": {
              "outlinewidth": 0,
              "ticks": ""
             }
            },
            "type": "scattergl"
           }
          ],
          "scattermapbox": [
           {
            "marker": {
             "colorbar": {
              "outlinewidth": 0,
              "ticks": ""
             }
            },
            "type": "scattermapbox"
           }
          ],
          "scatterpolar": [
           {
            "marker": {
             "colorbar": {
              "outlinewidth": 0,
              "ticks": ""
             }
            },
            "type": "scatterpolar"
           }
          ],
          "scatterpolargl": [
           {
            "marker": {
             "colorbar": {
              "outlinewidth": 0,
              "ticks": ""
             }
            },
            "type": "scatterpolargl"
           }
          ],
          "scatterternary": [
           {
            "marker": {
             "colorbar": {
              "outlinewidth": 0,
              "ticks": ""
             }
            },
            "type": "scatterternary"
           }
          ],
          "surface": [
           {
            "colorbar": {
             "outlinewidth": 0,
             "ticks": ""
            },
            "colorscale": [
             [
              0,
              "#0d0887"
             ],
             [
              0.1111111111111111,
              "#46039f"
             ],
             [
              0.2222222222222222,
              "#7201a8"
             ],
             [
              0.3333333333333333,
              "#9c179e"
             ],
             [
              0.4444444444444444,
              "#bd3786"
             ],
             [
              0.5555555555555556,
              "#d8576b"
             ],
             [
              0.6666666666666666,
              "#ed7953"
             ],
             [
              0.7777777777777778,
              "#fb9f3a"
             ],
             [
              0.8888888888888888,
              "#fdca26"
             ],
             [
              1,
              "#f0f921"
             ]
            ],
            "type": "surface"
           }
          ],
          "table": [
           {
            "cells": {
             "fill": {
              "color": "#EBF0F8"
             },
             "line": {
              "color": "white"
             }
            },
            "header": {
             "fill": {
              "color": "#C8D4E3"
             },
             "line": {
              "color": "white"
             }
            },
            "type": "table"
           }
          ]
         },
         "layout": {
          "annotationdefaults": {
           "arrowcolor": "#2a3f5f",
           "arrowhead": 0,
           "arrowwidth": 1
          },
          "autotypenumbers": "strict",
          "coloraxis": {
           "colorbar": {
            "outlinewidth": 0,
            "ticks": ""
           }
          },
          "colorscale": {
           "diverging": [
            [
             0,
             "#8e0152"
            ],
            [
             0.1,
             "#c51b7d"
            ],
            [
             0.2,
             "#de77ae"
            ],
            [
             0.3,
             "#f1b6da"
            ],
            [
             0.4,
             "#fde0ef"
            ],
            [
             0.5,
             "#f7f7f7"
            ],
            [
             0.6,
             "#e6f5d0"
            ],
            [
             0.7,
             "#b8e186"
            ],
            [
             0.8,
             "#7fbc41"
            ],
            [
             0.9,
             "#4d9221"
            ],
            [
             1,
             "#276419"
            ]
           ],
           "sequential": [
            [
             0,
             "#0d0887"
            ],
            [
             0.1111111111111111,
             "#46039f"
            ],
            [
             0.2222222222222222,
             "#7201a8"
            ],
            [
             0.3333333333333333,
             "#9c179e"
            ],
            [
             0.4444444444444444,
             "#bd3786"
            ],
            [
             0.5555555555555556,
             "#d8576b"
            ],
            [
             0.6666666666666666,
             "#ed7953"
            ],
            [
             0.7777777777777778,
             "#fb9f3a"
            ],
            [
             0.8888888888888888,
             "#fdca26"
            ],
            [
             1,
             "#f0f921"
            ]
           ],
           "sequentialminus": [
            [
             0,
             "#0d0887"
            ],
            [
             0.1111111111111111,
             "#46039f"
            ],
            [
             0.2222222222222222,
             "#7201a8"
            ],
            [
             0.3333333333333333,
             "#9c179e"
            ],
            [
             0.4444444444444444,
             "#bd3786"
            ],
            [
             0.5555555555555556,
             "#d8576b"
            ],
            [
             0.6666666666666666,
             "#ed7953"
            ],
            [
             0.7777777777777778,
             "#fb9f3a"
            ],
            [
             0.8888888888888888,
             "#fdca26"
            ],
            [
             1,
             "#f0f921"
            ]
           ]
          },
          "colorway": [
           "#636efa",
           "#EF553B",
           "#00cc96",
           "#ab63fa",
           "#FFA15A",
           "#19d3f3",
           "#FF6692",
           "#B6E880",
           "#FF97FF",
           "#FECB52"
          ],
          "font": {
           "color": "#2a3f5f"
          },
          "geo": {
           "bgcolor": "white",
           "lakecolor": "white",
           "landcolor": "#E5ECF6",
           "showlakes": true,
           "showland": true,
           "subunitcolor": "white"
          },
          "hoverlabel": {
           "align": "left"
          },
          "hovermode": "closest",
          "mapbox": {
           "style": "light"
          },
          "paper_bgcolor": "white",
          "plot_bgcolor": "#E5ECF6",
          "polar": {
           "angularaxis": {
            "gridcolor": "white",
            "linecolor": "white",
            "ticks": ""
           },
           "bgcolor": "#E5ECF6",
           "radialaxis": {
            "gridcolor": "white",
            "linecolor": "white",
            "ticks": ""
           }
          },
          "scene": {
           "xaxis": {
            "backgroundcolor": "#E5ECF6",
            "gridcolor": "white",
            "gridwidth": 2,
            "linecolor": "white",
            "showbackground": true,
            "ticks": "",
            "zerolinecolor": "white"
           },
           "yaxis": {
            "backgroundcolor": "#E5ECF6",
            "gridcolor": "white",
            "gridwidth": 2,
            "linecolor": "white",
            "showbackground": true,
            "ticks": "",
            "zerolinecolor": "white"
           },
           "zaxis": {
            "backgroundcolor": "#E5ECF6",
            "gridcolor": "white",
            "gridwidth": 2,
            "linecolor": "white",
            "showbackground": true,
            "ticks": "",
            "zerolinecolor": "white"
           }
          },
          "shapedefaults": {
           "line": {
            "color": "#2a3f5f"
           }
          },
          "ternary": {
           "aaxis": {
            "gridcolor": "white",
            "linecolor": "white",
            "ticks": ""
           },
           "baxis": {
            "gridcolor": "white",
            "linecolor": "white",
            "ticks": ""
           },
           "bgcolor": "#E5ECF6",
           "caxis": {
            "gridcolor": "white",
            "linecolor": "white",
            "ticks": ""
           }
          },
          "title": {
           "x": 0.05
          },
          "xaxis": {
           "automargin": true,
           "gridcolor": "white",
           "linecolor": "white",
           "ticks": "",
           "title": {
            "standoff": 15
           },
           "zerolinecolor": "white",
           "zerolinewidth": 2
          },
          "yaxis": {
           "automargin": true,
           "gridcolor": "white",
           "linecolor": "white",
           "ticks": "",
           "title": {
            "standoff": 15
           },
           "zerolinecolor": "white",
           "zerolinewidth": 2
          }
         }
        },
        "title": {
         "text": "PCA plot in 3D"
        },
        "width": 650
       }
      }
     },
     "metadata": {},
     "output_type": "display_data"
    }
   ],
   "source": [
    "\n",
    "pca = PCA(n_components=3)\n",
    "components = pca.fit_transform(X)\n",
    "\n",
    "# Gráfica 3D\n",
    "fig = px.scatter_3d(\n",
    "    components, x=0, y=1, z=2, color=clusters, size=0.1*np.ones(len(X)), opacity = 1,\n",
    "    title='PCA plot in 3D',\n",
    "    labels={'0': 'PC 1', '1': 'PC 2', '2': 'PC 3'},\n",
    "    width=650, height=500\n",
    ")\n",
    "fig.show()"
   ]
  },
  {
   "cell_type": "markdown",
   "metadata": {},
   "source": [
    "De igual manera con 3 componentes se puede observar claramente los 3 clusters separados y los componentes que mejor describe a cada uno."
   ]
  },
  {
   "cell_type": "code",
   "execution_count": 15,
   "metadata": {},
   "outputs": [
    {
     "data": {
      "image/png": "[encoded data removed]",
      "text/plain": [
       "<Figure size 1000x500 with 1 Axes>"
      ]
     },
     "metadata": {},
     "output_type": "display_data"
    }
   ],
   "source": [
    "pca_var = PCA()\n",
    "pca_var.fit(X)\n",
    "\n",
    "# Graficar\n",
    "plt.figure(figsize=(10,5))\n",
    "xi = np.arange(1, 1+X.shape[1], step=1)\n",
    "yi = np.cumsum(pca_var.explained_variance_ratio_)\n",
    "plt.plot(xi, yi, marker='o', linestyle='--', color='b')\n",
    "\n",
    "plt.ylim(0.0,1.1)\n",
    "plt.xlabel('Number of Components')\n",
    "plt.xticks(np.arange(1, 1+X.shape[1], step=1))\n",
    "plt.ylabel('Cumulative variance (%)')\n",
    "plt.title('Explained variance by each component')\n",
    "plt.axhline(y=1, color='r', linestyle='-')\n",
    "plt.gca().xaxis.grid(False)"
   ]
  },
  {
   "cell_type": "markdown",
   "metadata": {},
   "source": [
    "Con la gráfica de la explicación de varianza se puede observar que al usaer 3 componentes se explica casi 2/3 de la base de datos, que considerando la reducción de dimensionalidad, es un buen porcentaje"
   ]
  },
  {
   "cell_type": "markdown",
   "metadata": {},
   "source": [
    "# UMAP"
   ]
  },
  {
   "cell_type": "markdown",
   "metadata": {},
   "source": [
    "Dejando de lado los proceso más clásicos para clusters y reducir dimensionalidaes como el PCA y kmeans, usaremos UMAP, que de igual manera va a reducir dimensionalidad, pero igual nos va a brindar una visualización de grafos conectados, que nos úede ser muy útil para obtener hallazgos de un análisis topológico"
   ]
  },
  {
   "cell_type": "code",
   "execution_count": 16,
   "metadata": {},
   "outputs": [
    {
     "name": "stdout",
     "output_type": "stream",
     "text": [
      "(161, 2)\n"
     ]
    },
    {
     "data": {
      "text/html": [
       "<div>\n",
       "<style scoped>\n",
       "    .dataframe tbody tr th:only-of-type {\n",
       "        vertical-align: middle;\n",
       "    }\n",
       "\n",
       "    .dataframe tbody tr th {\n",
       "        vertical-align: top;\n",
       "    }\n",
       "\n",
       "    .dataframe thead th {\n",
       "        text-align: right;\n",
       "    }\n",
       "</style>\n",
       "<table border=\"1\" class=\"dataframe\">\n",
       "  <thead>\n",
       "    <tr style=\"text-align: right;\">\n",
       "      <th></th>\n",
       "      <th>umap comp. 1</th>\n",
       "      <th>umap comp. 2</th>\n",
       "    </tr>\n",
       "  </thead>\n",
       "  <tbody>\n",
       "    <tr>\n",
       "      <th>0</th>\n",
       "      <td>10.132556</td>\n",
       "      <td>3.078893</td>\n",
       "    </tr>\n",
       "    <tr>\n",
       "      <th>1</th>\n",
       "      <td>10.098187</td>\n",
       "      <td>4.658535</td>\n",
       "    </tr>\n",
       "    <tr>\n",
       "      <th>2</th>\n",
       "      <td>11.437482</td>\n",
       "      <td>3.997308</td>\n",
       "    </tr>\n",
       "    <tr>\n",
       "      <th>3</th>\n",
       "      <td>10.992873</td>\n",
       "      <td>3.014531</td>\n",
       "    </tr>\n",
       "    <tr>\n",
       "      <th>4</th>\n",
       "      <td>11.554201</td>\n",
       "      <td>5.161108</td>\n",
       "    </tr>\n",
       "  </tbody>\n",
       "</table>\n",
       "</div>"
      ],
      "text/plain": [
       "   umap comp. 1  umap comp. 2\n",
       "0     10.132556      3.078893\n",
       "1     10.098187      4.658535\n",
       "2     11.437482      3.997308\n",
       "3     10.992873      3.014531\n",
       "4     11.554201      5.161108"
      ]
     },
     "execution_count": 16,
     "metadata": {},
     "output_type": "execute_result"
    }
   ],
   "source": [
    "# UMAP\n",
    "um = umap.UMAP()\n",
    "X_fit = um.fit(X)\n",
    "X_umap = um.transform(X)\n",
    "\n",
    "# Guardar el umap en un dataframe\n",
    "umap_df = pd.DataFrame(data = X_umap, columns = ['umap comp. 1', 'umap comp. 2'])\n",
    "\n",
    "# Forma\n",
    "print(umap_df.shape)\n",
    "umap_df.head()"
   ]
  },
  {
   "cell_type": "code",
   "execution_count": 17,
   "metadata": {},
   "outputs": [
    {
     "data": {
      "text/plain": [
       "Text(0, 0.5, 'umap component 2')"
      ]
     },
     "execution_count": 17,
     "metadata": {},
     "output_type": "execute_result"
    },
    {
     "data": {
      "image/png": "[encoded data removed]",
      "text/plain": [
       "<Figure size 800x600 with 1 Axes>"
      ]
     },
     "metadata": {},
     "output_type": "display_data"
    }
   ],
   "source": [
    "#Gráfica\n",
    "plt.figure(figsize=(8,6))\n",
    "plt.scatter(umap_df.iloc[:,0], umap_df.iloc[:,1], c=clusters, cmap=\"brg\", s=40)\n",
    "centroids_umap = um.transform(centroids)\n",
    "plt.scatter(x=centroids_umap[:,0], y=centroids_umap[:,1], marker=\"x\", s=500, linewidths=3, color=\"black\")\n",
    "plt.title('UMAP plot in 2D')\n",
    "plt.xlabel('umap component 1')\n",
    "plt.ylabel('umap component 2')"
   ]
  },
  {
   "cell_type": "code",
   "execution_count": 18,
   "metadata": {},
   "outputs": [
    {
     "data": {
      "application/vnd.plotly.v1+json": {
       "config": {
        "plotlyServerURL": "https://plot.ly"
       },
       "data": [
        {
         "hovertemplate": "comp. 1=%{x}<br>comp. 2=%{y}<br>comp. 3=%{z}<br>size=%{marker.size}<br>color=%{marker.color}<extra></extra>",
         "legendgroup": "",
         "marker": {
          "color": [
           0,
           0,
           0,
           0,
           0,
           0,
           0,
           0,
           0,
           0,
           0,
           0,
           0,
           0,
           0,
           0,
           0,
           0,
           0,
           0,
           0,
           0,
           0,
           0,
           0,
           0,
           0,
           0,
           0,
           0,
           0,
           0,
           0,
           0,
           0,
           0,
           0,
           0,
           0,
           0,
           0,
           0,
           0,
           0,
           0,
           0,
           0,
           0,
           0,
           0,
           0,
           0,
           0,
           0,
           0,
           0,
           0,
           2,
           1,
           2,
           2,
           2,
           2,
           2,
           2,
           2,
           2,
           2,
           2,
           2,
           2,
           2,
           2,
           2,
           2,
           2,
           2,
           1,
           2,
           2,
           2,
           2,
           2,
           2,
           2,
           2,
           2,
           2,
           2,
           2,
           2,
           2,
           2,
           2,
           2,
           2,
           2,
           2,
           2,
           2,
           2,
           2,
           2,
           2,
           2,
           2,
           2,
           2,
           2,
           1,
           2,
           2,
           2,
           2,
           2,
           2,
           2,
           2,
           1,
           1,
           1,
           1,
           1,
           1,
           1,
           1,
           1,
           1,
           1,
           1,
           1,
           1,
           1,
           1,
           1,
           1,
           1,
           1,
           1,
           1,
           1,
           1,
           1,
           1,
           1,
           1,
           1,
           1,
           1,
           1,
           1,
           1,
           1,
           1,
           1,
           1,
           1,
           1,
           1,
           1,
           1
          ],
          "coloraxis": "coloraxis",
          "opacity": 1,
          "size": [
           0.1,
           0.1,
           0.1,
           0.1,
           0.1,
           0.1,
           0.1,
           0.1,
           0.1,
           0.1,
           0.1,
           0.1,
           0.1,
           0.1,
           0.1,
           0.1,
           0.1,
           0.1,
           0.1,
           0.1,
           0.1,
           0.1,
           0.1,
           0.1,
           0.1,
           0.1,
           0.1,
           0.1,
           0.1,
           0.1,
           0.1,
           0.1,
           0.1,
           0.1,
           0.1,
           0.1,
           0.1,
           0.1,
           0.1,
           0.1,
           0.1,
           0.1,
           0.1,
           0.1,
           0.1,
           0.1,
           0.1,
           0.1,
           0.1,
           0.1,
           0.1,
           0.1,
           0.1,
           0.1,
           0.1,
           0.1,
           0.1,
           0.1,
           0.1,
           0.1,
           0.1,
           0.1,
           0.1,
           0.1,
           0.1,
           0.1,
           0.1,
           0.1,
           0.1,
           0.1,
           0.1,
           0.1,
           0.1,
           0.1,
           0.1,
           0.1,
           0.1,
           0.1,
           0.1,
           0.1,
           0.1,
           0.1,
           0.1,
           0.1,
           0.1,
           0.1,
           0.1,
           0.1,
           0.1,
           0.1,
           0.1,
           0.1,
           0.1,
           0.1,
           0.1,
           0.1,
           0.1,
           0.1,
           0.1,
           0.1,
           0.1,
           0.1,
           0.1,
           0.1,
           0.1,
           0.1,
           0.1,
           0.1,
           0.1,
           0.1,
           0.1,
           0.1,
           0.1,
           0.1,
           0.1,
           0.1,
           0.1,
           0.1,
           0.1,
           0.1,
           0.1,
           0.1,
           0.1,
           0.1,
           0.1,
           0.1,
           0.1,
           0.1,
           0.1,
           0.1,
           0.1,
           0.1,
           0.1,
           0.1,
           0.1,
           0.1,
           0.1,
           0.1,
           0.1,
           0.1,
           0.1,
           0.1,
           0.1,
           0.1,
           0.1,
           0.1,
           0.1,
           0.1,
           0.1,
           0.1,
           0.1,
           0.1,
           0.1,
           0.1,
           0.1,
           0.1,
           0.1,
           0.1,
           0.1,
           0.1,
           0.1
          ],
          "sizemode": "area",
          "sizeref": 0.00025,
          "symbol": "circle"
         },
         "mode": "markers",
         "name": "",
         "scene": "scene",
         "showlegend": false,
         "type": "scatter3d",
         "x": [
          7.9206318855285645,
          7.089723110198975,
          8.414063453674316,
          8.59334659576416,
          8.389248847961426,
          8.770926475524902,
          7.569047451019287,
          8.783310890197754,
          7.38543701171875,
          7.666675567626953,
          8.328484535217285,
          7.3967766761779785,
          7.657103538513184,
          7.76209831237793,
          8.74179458618164,
          8.882861137390137,
          8.982467651367188,
          8.76138973236084,
          7.741612434387207,
          7.806949138641357,
          7.492810249328613,
          7.501116752624512,
          7.470939636230469,
          7.684715270996094,
          8.025808334350586,
          7.086664199829102,
          8.337908744812012,
          7.360133647918701,
          8.65535831451416,
          8.539580345153809,
          7.639028072357178,
          8.928150177001953,
          8.230629920959473,
          7.585759162902832,
          8.350180625915527,
          7.774062633514404,
          6.8486833572387695,
          7.8255133628845215,
          7.7737717628479,
          7.214333534240723,
          8.196375846862793,
          7.332474708557129,
          7.381826400756836,
          7.6223320960998535,
          7.552407264709473,
          7.455085277557373,
          8.339340209960938,
          8.60925579071045,
          7.51882266998291,
          7.89354133605957,
          8.562528610229492,
          8.976518630981445,
          7.652819633483887,
          8.5109281539917,
          7.7435994148254395,
          8.590728759765625,
          8.532914161682129,
          2.810033082962036,
          2.536592960357666,
          5.328327178955078,
          6.00120210647583,
          3.4748568534851074,
          6.964910984039307,
          5.868468761444092,
          5.51229190826416,
          2.634871244430542,
          2.360852003097534,
          7.411202907562256,
          4.906316757202148,
          6.1052422523498535,
          5.1749396324157715,
          5.445681571960449,
          2.5174965858459473,
          5.122742176055908,
          5.661563396453857,
          6.077733039855957,
          3.8709824085235596,
          2.0634984970092773,
          5.843133449554443,
          5.851949214935303,
          3.7871181964874268,
          3.7853853702545166,
          4.138926029205322,
          4.0304765701293945,
          3.916668653488159,
          3.8788397312164307,
          3.9207277297973633,
          5.696874141693115,
          5.87713623046875,
          1.229899287223816,
          5.736654758453369,
          6.016884803771973,
          5.549788951873779,
          5.457018852233887,
          5.285513401031494,
          5.063182353973389,
          5.3253021240234375,
          5.569772243499756,
          4.069228172302246,
          5.139399528503418,
          4.023604393005371,
          5.429378032684326,
          5.928668975830078,
          5.142077922821045,
          3.3413188457489014,
          3.9942965507507324,
          4.540722846984863,
          5.241803169250488,
          5.192914009094238,
          1.735459327697754,
          5.1795501708984375,
          5.503948211669922,
          4.79099702835083,
          5.639490604400635,
          5.024735927581787,
          5.231405258178711,
          4.813586711883545,
          4.361745834350586,
          1.2358367443084717,
          1.0601226091384888,
          0.8957439661026001,
          0.8907828330993652,
          2.1813313961029053,
          1.789111852645874,
          1.3948911428451538,
          1.7662577629089355,
          1.477901816368103,
          1.4874886274337769,
          1.4350759983062744,
          1.535370945930481,
          1.7826114892959595,
          0.789323091506958,
          1.426011323928833,
          1.6195783615112305,
          1.1828718185424805,
          0.9375507235527039,
          0.34396088123321533,
          0.29108157753944397,
          0.3456844091415405,
          0.6426829695701599,
          1.5271942615509033,
          1.0979409217834473,
          0.8027895092964172,
          1.059993028640747,
          1.1559083461761475,
          1.5898046493530273,
          1.616754412651062,
          1.3118196725845337,
          0.8405008912086487,
          1.6025030612945557,
          0.3393310308456421,
          0.9831166863441467,
          0.38526687026023865,
          0.3028063476085663,
          1.4876545667648315,
          1.1170332431793213,
          0.7849091291427612,
          0.7383291721343994,
          0.38312414288520813,
          0.41750791668891907,
          0.6109238266944885
         ],
         "y": [
          2.413724899291992,
          3.2399134635925293,
          3.4044268131256104,
          2.7963666915893555,
          2.984112024307251,
          2.996005058288574,
          3.313055992126465,
          2.9277267456054688,
          3.3285136222839355,
          2.9483394622802734,
          3.307828664779663,
          3.423903226852417,
          3.5094213485717773,
          3.396019220352173,
          3.3903000354766846,
          3.157609701156616,
          3.2542765140533447,
          3.125474691390991,
          2.3418121337890625,
          2.3227202892303467,
          2.459817886352539,
          3.016031265258789,
          3.0693652629852295,
          2.883991241455078,
          3.270542860031128,
          3.305910110473633,
          2.99396014213562,
          3.1131441593170166,
          3.390022039413452,
          3.31156587600708,
          3.4154553413391113,
          3.1108527183532715,
          3.0479018688201904,
          2.807171583175659,
          3.1431312561035156,
          3.3192358016967773,
          3.2985754013061523,
          2.2472918033599854,
          2.610306978225708,
          2.648225784301758,
          2.709462881088257,
          2.392606258392334,
          2.589400053024292,
          2.37532901763916,
          2.8784544467926025,
          2.8768787384033203,
          3.234703779220581,
          3.2181923389434814,
          3.073812246322632,
          3.4716086387634277,
          2.748800039291382,
          3.1326982975006104,
          2.44008207321167,
          3.266916275024414,
          2.5450494289398193,
          3.347167491912842,
          2.8527984619140625,
          5.351879596710205,
          5.677231788635254,
          2.160046339035034,
          2.470444679260254,
          4.536679744720459,
          3.249471664428711,
          2.21408748626709,
          2.609264612197876,
          5.51190185546875,
          4.916698455810547,
          2.8703665733337402,
          3.2065515518188477,
          2.921722412109375,
          2.5364222526550293,
          2.1629505157470703,
          4.805648326873779,
          3.3601369857788086,
          2.4972083568573,
          2.636702299118042,
          4.266899585723877,
          6.07433557510376,
          3.4460434913635254,
          2.7547733783721924,
          4.596700668334961,
          4.2537150382995605,
          4.1999592781066895,
          4.231871604919434,
          4.597339153289795,
          4.590367317199707,
          4.815127849578857,
          2.9113335609436035,
          2.8404312133789062,
          5.064478397369385,
          2.4822378158569336,
          2.5568509101867676,
          2.9228715896606445,
          2.36322021484375,
          2.6062443256378174,
          3.687326431274414,
          2.9792470932006836,
          2.843074083328247,
          4.853737831115723,
          3.0497217178344727,
          4.845728397369385,
          3.134272813796997,
          3.5023651123046875,
          3.3996059894561768,
          4.48975944519043,
          4.078789234161377,
          3.871692419052124,
          2.9029505252838135,
          3.499068021774292,
          5.694597244262695,
          2.974430799484253,
          3.6025538444519043,
          3.6556105613708496,
          3.347954034805298,
          3.4901061058044434,
          3.610806703567505,
          3.696394920349121,
          3.983258008956909,
          5.18017578125,
          5.208582401275635,
          5.367889881134033,
          5.289762020111084,
          5.90711784362793,
          6.140680313110352,
          6.032558917999268,
          6.004724025726318,
          5.405489921569824,
          5.413362503051758,
          5.592645645141602,
          5.480995178222656,
          5.946012020111084,
          5.6914849281311035,
          5.461401462554932,
          6.213401794433594,
          6.33409309387207,
          6.210146427154541,
          5.771892070770264,
          5.522329807281494,
          5.4042510986328125,
          6.493160724639893,
          6.21712064743042,
          6.342754364013672,
          6.3851447105407715,
          5.591826438903809,
          6.393621921539307,
          5.424219608306885,
          5.497838497161865,
          5.491526126861572,
          6.321361541748047,
          6.353813171386719,
          5.9584221839904785,
          6.407368183135986,
          5.8323822021484375,
          5.664712429046631,
          5.682319164276123,
          6.396620273590088,
          6.389299392700195,
          5.90376615524292,
          6.0859375,
          6.4121928215026855,
          6.007141590118408
         ],
         "z": [
          7.236953258514404,
          6.00222110748291,
          6.277528762817383,
          7.202030658721924,
          5.218759059906006,
          6.9550652503967285,
          6.437490463256836,
          5.686995983123779,
          6.657052516937256,
          7.00441312789917,
          6.732816219329834,
          6.066995143890381,
          6.090486526489258,
          6.595198631286621,
          5.788684844970703,
          5.722900390625,
          5.782473564147949,
          6.856675624847412,
          6.612149238586426,
          7.368447303771973,
          5.630721092224121,
          6.031323432922363,
          5.406313896179199,
          5.220402717590332,
          5.719788074493408,
          5.758427619934082,
          5.240328788757324,
          6.517158508300781,
          6.11080265045166,
          6.720103740692139,
          5.663904190063477,
          5.608650207519531,
          5.296443939208984,
          5.485320568084717,
          5.328099250793457,
          5.222174167633057,
          5.616297721862793,
          6.876231670379639,
          7.432828426361084,
          5.8922295570373535,
          6.9577555656433105,
          5.966813087463379,
          6.996232509613037,
          6.178293228149414,
          6.762441635131836,
          7.082430362701416,
          6.402284622192383,
          6.853550910949707,
          7.030993461608887,
          6.348385334014893,
          7.168110370635986,
          5.71839714050293,
          7.057485580444336,
          6.409152507781982,
          7.213791370391846,
          5.691946029663086,
          7.142080307006836,
          3.2949366569519043,
          3.272120475769043,
          2.7197463512420654,
          3.46242618560791,
          3.3896429538726807,
          4.520599365234375,
          3.3404667377471924,
          2.6655545234680176,
          3.4232969284057617,
          3.085914134979248,
          4.952746868133545,
          2.9139626026153564,
          3.6922385692596436,
          2.4599268436431885,
          2.7308342456817627,
          2.952934503555298,
          3.673203945159912,
          3.0035207271575928,
          2.994442939758301,
          3.3706555366516113,
          4.082947731018066,
          3.611130714416504,
          3.0134823322296143,
          3.2198898792266846,
          3.372398614883423,
          3.4951539039611816,
          3.3203728199005127,
          3.4178316593170166,
          3.52579665184021,
          3.448528289794922,
          3.2954468727111816,
          3.394789457321167,
          2.9585959911346436,
          3.0267016887664795,
          3.624948024749756,
          3.539517879486084,
          2.5208146572113037,
          2.472137451171875,
          3.3184077739715576,
          2.493830680847168,
          2.550241470336914,
          3.6329872608184814,
          2.677405834197998,
          3.476006507873535,
          2.6740009784698486,
          3.7528293132781982,
          3.0063345432281494,
          3.567671537399292,
          3.5644099712371826,
          3.2031619548797607,
          2.639387845993042,
          2.8948161602020264,
          3.6051571369171143,
          2.7361979484558105,
          3.535835027694702,
          3.6854915618896484,
          3.590683937072754,
          3.060572385787964,
          3.1329407691955566,
          3.0733907222747803,
          3.5550949573516846,
          3.057797431945801,
          3.097399950027466,
          3.253587245941162,
          3.1589677333831787,
          3.359832286834717,
          3.4053986072540283,
          4.164649963378906,
          3.8291666507720947,
          4.516171455383301,
          4.344710826873779,
          3.523143768310547,
          4.401601791381836,
          4.171787738800049,
          3.2750158309936523,
          3.465480089187622,
          4.002967357635498,
          4.180387496948242,
          3.739476442337036,
          3.4877336025238037,
          3.5282680988311768,
          3.577669858932495,
          3.7203783988952637,
          3.288461446762085,
          4.1190104484558105,
          3.9612302780151367,
          4.397594451904297,
          3.8730640411376953,
          4.275667667388916,
          4.410527229309082,
          3.4340157508850098,
          3.5650997161865234,
          3.994065046310425,
          3.7249066829681396,
          3.510375738143921,
          3.776806116104126,
          3.7664437294006348,
          3.2887680530548096,
          3.4195501804351807,
          3.665127754211426,
          3.9761345386505127,
          3.4863836765289307,
          3.6863813400268555,
          4.054006099700928
         ]
        }
       ],
       "layout": {
        "coloraxis": {
         "colorbar": {
          "title": {
           "text": "color"
          }
         },
         "colorscale": [
          [
           0,
           "#0d0887"
          ],
          [
           0.1111111111111111,
           "#46039f"
          ],
          [
           0.2222222222222222,
           "#7201a8"
          ],
          [
           0.3333333333333333,
           "#9c179e"
          ],
          [
           0.4444444444444444,
           "#bd3786"
          ],
          [
           0.5555555555555556,
           "#d8576b"
          ],
          [
           0.6666666666666666,
           "#ed7953"
          ],
          [
           0.7777777777777778,
           "#fb9f3a"
          ],
          [
           0.8888888888888888,
           "#fdca26"
          ],
          [
           1,
           "#f0f921"
          ]
         ]
        },
        "height": 500,
        "legend": {
         "itemsizing": "constant",
         "tracegroupgap": 0
        },
        "scene": {
         "domain": {
          "x": [
           0,
           1
          ],
          "y": [
           0,
           1
          ]
         },
         "xaxis": {
          "title": {
           "text": "comp. 1"
          }
         },
         "yaxis": {
          "title": {
           "text": "comp. 2"
          }
         },
         "zaxis": {
          "title": {
           "text": "comp. 3"
          }
         }
        },
        "template": {
         "data": {
          "bar": [
           {
            "error_x": {
             "color": "#2a3f5f"
            },
            "error_y": {
             "color": "#2a3f5f"
            },
            "marker": {
             "line": {
              "color": "#E5ECF6",
              "width": 0.5
             },
             "pattern": {
              "fillmode": "overlay",
              "size": 10,
              "solidity": 0.2
             }
            },
            "type": "bar"
           }
          ],
          "barpolar": [
           {
            "marker": {
             "line": {
              "color": "#E5ECF6",
              "width": 0.5
             },
             "pattern": {
              "fillmode": "overlay",
              "size": 10,
              "solidity": 0.2
             }
            },
            "type": "barpolar"
           }
          ],
          "carpet": [
           {
            "aaxis": {
             "endlinecolor": "#2a3f5f",
             "gridcolor": "white",
             "linecolor": "white",
             "minorgridcolor": "white",
             "startlinecolor": "#2a3f5f"
            },
            "baxis": {
             "endlinecolor": "#2a3f5f",
             "gridcolor": "white",
             "linecolor": "white",
             "minorgridcolor": "white",
             "startlinecolor": "#2a3f5f"
            },
            "type": "carpet"
           }
          ],
          "choropleth": [
           {
            "colorbar": {
             "outlinewidth": 0,
             "ticks": ""
            },
            "type": "choropleth"
           }
          ],
          "contour": [
           {
            "colorbar": {
             "outlinewidth": 0,
             "ticks": ""
            },
            "colorscale": [
             [
              0,
              "#0d0887"
             ],
             [
              0.1111111111111111,
              "#46039f"
             ],
             [
              0.2222222222222222,
              "#7201a8"
             ],
             [
              0.3333333333333333,
              "#9c179e"
             ],
             [
              0.4444444444444444,
              "#bd3786"
             ],
             [
              0.5555555555555556,
              "#d8576b"
             ],
             [
              0.6666666666666666,
              "#ed7953"
             ],
             [
              0.7777777777777778,
              "#fb9f3a"
             ],
             [
              0.8888888888888888,
              "#fdca26"
             ],
             [
              1,
              "#f0f921"
             ]
            ],
            "type": "contour"
           }
          ],
          "contourcarpet": [
           {
            "colorbar": {
             "outlinewidth": 0,
             "ticks": ""
            },
            "type": "contourcarpet"
           }
          ],
          "heatmap": [
           {
            "colorbar": {
             "outlinewidth": 0,
             "ticks": ""
            },
            "colorscale": [
             [
              0,
              "#0d0887"
             ],
             [
              0.1111111111111111,
              "#46039f"
             ],
             [
              0.2222222222222222,
              "#7201a8"
             ],
             [
              0.3333333333333333,
              "#9c179e"
             ],
             [
              0.4444444444444444,
              "#bd3786"
             ],
             [
              0.5555555555555556,
              "#d8576b"
             ],
             [
              0.6666666666666666,
              "#ed7953"
             ],
             [
              0.7777777777777778,
              "#fb9f3a"
             ],
             [
              0.8888888888888888,
              "#fdca26"
             ],
             [
              1,
              "#f0f921"
             ]
            ],
            "type": "heatmap"
           }
          ],
          "heatmapgl": [
           {
            "colorbar": {
             "outlinewidth": 0,
             "ticks": ""
            },
            "colorscale": [
             [
              0,
              "#0d0887"
             ],
             [
              0.1111111111111111,
              "#46039f"
             ],
             [
              0.2222222222222222,
              "#7201a8"
             ],
             [
              0.3333333333333333,
              "#9c179e"
             ],
             [
              0.4444444444444444,
              "#bd3786"
             ],
             [
              0.5555555555555556,
              "#d8576b"
             ],
             [
              0.6666666666666666,
              "#ed7953"
             ],
             [
              0.7777777777777778,
              "#fb9f3a"
             ],
             [
              0.8888888888888888,
              "#fdca26"
             ],
             [
              1,
              "#f0f921"
             ]
            ],
            "type": "heatmapgl"
           }
          ],
          "histogram": [
           {
            "marker": {
             "pattern": {
              "fillmode": "overlay",
              "size": 10,
              "solidity": 0.2
             }
            },
            "type": "histogram"
           }
          ],
          "histogram2d": [
           {
            "colorbar": {
             "outlinewidth": 0,
             "ticks": ""
            },
            "colorscale": [
             [
              0,
              "#0d0887"
             ],
             [
              0.1111111111111111,
              "#46039f"
             ],
             [
              0.2222222222222222,
              "#7201a8"
             ],
             [
              0.3333333333333333,
              "#9c179e"
             ],
             [
              0.4444444444444444,
              "#bd3786"
             ],
             [
              0.5555555555555556,
              "#d8576b"
             ],
             [
              0.6666666666666666,
              "#ed7953"
             ],
             [
              0.7777777777777778,
              "#fb9f3a"
             ],
             [
              0.8888888888888888,
              "#fdca26"
             ],
             [
              1,
              "#f0f921"
             ]
            ],
            "type": "histogram2d"
           }
          ],
          "histogram2dcontour": [
           {
            "colorbar": {
             "outlinewidth": 0,
             "ticks": ""
            },
            "colorscale": [
             [
              0,
              "#0d0887"
             ],
             [
              0.1111111111111111,
              "#46039f"
             ],
             [
              0.2222222222222222,
              "#7201a8"
             ],
             [
              0.3333333333333333,
              "#9c179e"
             ],
             [
              0.4444444444444444,
              "#bd3786"
             ],
             [
              0.5555555555555556,
              "#d8576b"
             ],
             [
              0.6666666666666666,
              "#ed7953"
             ],
             [
              0.7777777777777778,
              "#fb9f3a"
             ],
             [
              0.8888888888888888,
              "#fdca26"
             ],
             [
              1,
              "#f0f921"
             ]
            ],
            "type": "histogram2dcontour"
           }
          ],
          "mesh3d": [
           {
            "colorbar": {
             "outlinewidth": 0,
             "ticks": ""
            },
            "type": "mesh3d"
           }
          ],
          "parcoords": [
           {
            "line": {
             "colorbar": {
              "outlinewidth": 0,
              "ticks": ""
             }
            },
            "type": "parcoords"
           }
          ],
          "pie": [
           {
            "automargin": true,
            "type": "pie"
           }
          ],
          "scatter": [
           {
            "fillpattern": {
             "fillmode": "overlay",
             "size": 10,
             "solidity": 0.2
            },
            "type": "scatter"
           }
          ],
          "scatter3d": [
           {
            "line": {
             "colorbar": {
              "outlinewidth": 0,
              "ticks": ""
             }
            },
            "marker": {
             "colorbar": {
              "outlinewidth": 0,
              "ticks": ""
             }
            },
            "type": "scatter3d"
           }
          ],
          "scattercarpet": [
           {
            "marker": {
             "colorbar": {
              "outlinewidth": 0,
              "ticks": ""
             }
            },
            "type": "scattercarpet"
           }
          ],
          "scattergeo": [
           {
            "marker": {
             "colorbar": {
              "outlinewidth": 0,
              "ticks": ""
             }
            },
            "type": "scattergeo"
           }
          ],
          "scattergl": [
           {
            "marker": {
             "colorbar": {
              "outlinewidth": 0,
              "ticks": ""
             }
            },
            "type": "scattergl"
           }
          ],
          "scattermapbox": [
           {
            "marker": {
             "colorbar": {
              "outlinewidth": 0,
              "ticks": ""
             }
            },
            "type": "scattermapbox"
           }
          ],
          "scatterpolar": [
           {
            "marker": {
             "colorbar": {
              "outlinewidth": 0,
              "ticks": ""
             }
            },
            "type": "scatterpolar"
           }
          ],
          "scatterpolargl": [
           {
            "marker": {
             "colorbar": {
              "outlinewidth": 0,
              "ticks": ""
             }
            },
            "type": "scatterpolargl"
           }
          ],
          "scatterternary": [
           {
            "marker": {
             "colorbar": {
              "outlinewidth": 0,
              "ticks": ""
             }
            },
            "type": "scatterternary"
           }
          ],
          "surface": [
           {
            "colorbar": {
             "outlinewidth": 0,
             "ticks": ""
            },
            "colorscale": [
             [
              0,
              "#0d0887"
             ],
             [
              0.1111111111111111,
              "#46039f"
             ],
             [
              0.2222222222222222,
              "#7201a8"
             ],
             [
              0.3333333333333333,
              "#9c179e"
             ],
             [
              0.4444444444444444,
              "#bd3786"
             ],
             [
              0.5555555555555556,
              "#d8576b"
             ],
             [
              0.6666666666666666,
              "#ed7953"
             ],
             [
              0.7777777777777778,
              "#fb9f3a"
             ],
             [
              0.8888888888888888,
              "#fdca26"
             ],
             [
              1,
              "#f0f921"
             ]
            ],
            "type": "surface"
           }
          ],
          "table": [
           {
            "cells": {
             "fill": {
              "color": "#EBF0F8"
             },
             "line": {
              "color": "white"
             }
            },
            "header": {
             "fill": {
              "color": "#C8D4E3"
             },
             "line": {
              "color": "white"
             }
            },
            "type": "table"
           }
          ]
         },
         "layout": {
          "annotationdefaults": {
           "arrowcolor": "#2a3f5f",
           "arrowhead": 0,
           "arrowwidth": 1
          },
          "autotypenumbers": "strict",
          "coloraxis": {
           "colorbar": {
            "outlinewidth": 0,
            "ticks": ""
           }
          },
          "colorscale": {
           "diverging": [
            [
             0,
             "#8e0152"
            ],
            [
             0.1,
             "#c51b7d"
            ],
            [
             0.2,
             "#de77ae"
            ],
            [
             0.3,
             "#f1b6da"
            ],
            [
             0.4,
             "#fde0ef"
            ],
            [
             0.5,
             "#f7f7f7"
            ],
            [
             0.6,
             "#e6f5d0"
            ],
            [
             0.7,
             "#b8e186"
            ],
            [
             0.8,
             "#7fbc41"
            ],
            [
             0.9,
             "#4d9221"
            ],
            [
             1,
             "#276419"
            ]
           ],
           "sequential": [
            [
             0,
             "#0d0887"
            ],
            [
             0.1111111111111111,
             "#46039f"
            ],
            [
             0.2222222222222222,
             "#7201a8"
            ],
            [
             0.3333333333333333,
             "#9c179e"
            ],
            [
             0.4444444444444444,
             "#bd3786"
            ],
            [
             0.5555555555555556,
             "#d8576b"
            ],
            [
             0.6666666666666666,
             "#ed7953"
            ],
            [
             0.7777777777777778,
             "#fb9f3a"
            ],
            [
             0.8888888888888888,
             "#fdca26"
            ],
            [
             1,
             "#f0f921"
            ]
           ],
           "sequentialminus": [
            [
             0,
             "#0d0887"
            ],
            [
             0.1111111111111111,
             "#46039f"
            ],
            [
             0.2222222222222222,
             "#7201a8"
            ],
            [
             0.3333333333333333,
             "#9c179e"
            ],
            [
             0.4444444444444444,
             "#bd3786"
            ],
            [
             0.5555555555555556,
             "#d8576b"
            ],
            [
             0.6666666666666666,
             "#ed7953"
            ],
            [
             0.7777777777777778,
             "#fb9f3a"
            ],
            [
             0.8888888888888888,
             "#fdca26"
            ],
            [
             1,
             "#f0f921"
            ]
           ]
          },
          "colorway": [
           "#636efa",
           "#EF553B",
           "#00cc96",
           "#ab63fa",
           "#FFA15A",
           "#19d3f3",
           "#FF6692",
           "#B6E880",
           "#FF97FF",
           "#FECB52"
          ],
          "font": {
           "color": "#2a3f5f"
          },
          "geo": {
           "bgcolor": "white",
           "lakecolor": "white",
           "landcolor": "#E5ECF6",
           "showlakes": true,
           "showland": true,
           "subunitcolor": "white"
          },
          "hoverlabel": {
           "align": "left"
          },
          "hovermode": "closest",
          "mapbox": {
           "style": "light"
          },
          "paper_bgcolor": "white",
          "plot_bgcolor": "#E5ECF6",
          "polar": {
           "angularaxis": {
            "gridcolor": "white",
            "linecolor": "white",
            "ticks": ""
           },
           "bgcolor": "#E5ECF6",
           "radialaxis": {
            "gridcolor": "white",
            "linecolor": "white",
            "ticks": ""
           }
          },
          "scene": {
           "xaxis": {
            "backgroundcolor": "#E5ECF6",
            "gridcolor": "white",
            "gridwidth": 2,
            "linecolor": "white",
            "showbackground": true,
            "ticks": "",
            "zerolinecolor": "white"
           },
           "yaxis": {
            "backgroundcolor": "#E5ECF6",
            "gridcolor": "white",
            "gridwidth": 2,
            "linecolor": "white",
            "showbackground": true,
            "ticks": "",
            "zerolinecolor": "white"
           },
           "zaxis": {
            "backgroundcolor": "#E5ECF6",
            "gridcolor": "white",
            "gridwidth": 2,
            "linecolor": "white",
            "showbackground": true,
            "ticks": "",
            "zerolinecolor": "white"
           }
          },
          "shapedefaults": {
           "line": {
            "color": "#2a3f5f"
           }
          },
          "ternary": {
           "aaxis": {
            "gridcolor": "white",
            "linecolor": "white",
            "ticks": ""
           },
           "baxis": {
            "gridcolor": "white",
            "linecolor": "white",
            "ticks": ""
           },
           "bgcolor": "#E5ECF6",
           "caxis": {
            "gridcolor": "white",
            "linecolor": "white",
            "ticks": ""
           }
          },
          "title": {
           "x": 0.05
          },
          "xaxis": {
           "automargin": true,
           "gridcolor": "white",
           "linecolor": "white",
           "ticks": "",
           "title": {
            "standoff": 15
           },
           "zerolinecolor": "white",
           "zerolinewidth": 2
          },
          "yaxis": {
           "automargin": true,
           "gridcolor": "white",
           "linecolor": "white",
           "ticks": "",
           "title": {
            "standoff": 15
           },
           "zerolinecolor": "white",
           "zerolinewidth": 2
          }
         }
        },
        "title": {
         "text": "UMAP plot in 3D"
        },
        "width": 650
       }
      }
     },
     "metadata": {},
     "output_type": "display_data"
    }
   ],
   "source": [
    "um = umap.UMAP(n_components=3)\n",
    "components_umap = um.fit_transform(X)\n",
    "\n",
    "# Gráfica 3D\n",
    "fig = px.scatter_3d(\n",
    "    components_umap, x=0, y=1, z=2, color=clusters, size=0.1*np.ones(len(X)), opacity = 1,\n",
    "    title='UMAP plot in 3D',\n",
    "    labels={'0': 'comp. 1', '1': 'comp. 2', '2': 'comp. 3'},\n",
    "    width=650, height=500\n",
    ")\n",
    "fig.show()"
   ]
  },
  {
   "cell_type": "markdown",
   "metadata": {},
   "source": [
    "Tanto en la gráfica 2D como 3D, podemos observar que el umap de igual manera logra separar los datos en clusters definidos, sin embargo, se pueden observar que los componentes que describen a estos clusters cambian a comparación de un PCA."
   ]
  },
  {
   "cell_type": "code",
   "execution_count": 19,
   "metadata": {},
   "outputs": [
    {
     "data": {
      "text/plain": [
       "<AxesSubplot: >"
      ]
     },
     "execution_count": 19,
     "metadata": {},
     "output_type": "execute_result"
    },
    {
     "data": {
      "image/png": "[encoded data removed]",
      "text/plain": [
       "<Figure size 800x800 with 1 Axes>"
      ]
     },
     "metadata": {},
     "output_type": "display_data"
    }
   ],
   "source": [
    "# Gráfica con conectividad de los puntos\n",
    "umap.plot.connectivity(X_fit, show_points=True)"
   ]
  },
  {
   "cell_type": "code",
   "execution_count": 20,
   "metadata": {},
   "outputs": [
    {
     "data": {
      "text/plain": [
       "<AxesSubplot: >"
      ]
     },
     "execution_count": 20,
     "metadata": {},
     "output_type": "execute_result"
    },
    {
     "data": {
      "image/png": "[encoded data removed]",
      "text/plain": [
       "<Figure size 800x800 with 1 Axes>"
      ]
     },
     "metadata": {},
     "output_type": "display_data"
    }
   ],
   "source": [
    "# Gráfica simplificada de las conexiones\n",
    "umap.plot.connectivity(X_fit, show_points=True, edge_bundling='hammer')"
   ]
  },
  {
   "cell_type": "markdown",
   "metadata": {},
   "source": [
    "Las dos gráficas anteriores nos son de gran ayuda para identificar que los datos correspondientes a cada cluster tienen relación, pero igual nos sirve para ver con que otros elementos a pesar de pertenecer a otro cluster tienen relación."
   ]
  },
  {
   "cell_type": "markdown",
   "metadata": {},
   "source": [
    "# Mapper"
   ]
  },
  {
   "cell_type": "markdown",
   "metadata": {},
   "source": [
    "A diferencia de los métodos utilizados anteriormente, este es directamente relacionado con el TDA, por lo que nos ayudará a tener un punto de vista distinto y espermos sea de ayuda para obtener nuevos hallazgos"
   ]
  },
  {
   "cell_type": "code",
   "execution_count": 35,
   "metadata": {},
   "outputs": [
    {
     "data": {
      "text/html": [
       "<div>\n",
       "<style scoped>\n",
       "    .dataframe tbody tr th:only-of-type {\n",
       "        vertical-align: middle;\n",
       "    }\n",
       "\n",
       "    .dataframe tbody tr th {\n",
       "        vertical-align: top;\n",
       "    }\n",
       "\n",
       "    .dataframe thead th {\n",
       "        text-align: right;\n",
       "    }\n",
       "</style>\n",
       "<table border=\"1\" class=\"dataframe\">\n",
       "  <thead>\n",
       "    <tr style=\"text-align: right;\">\n",
       "      <th></th>\n",
       "      <th>Alcohol</th>\n",
       "      <th>Malic_Acid</th>\n",
       "      <th>Ash</th>\n",
       "      <th>Ash_Alcanity</th>\n",
       "      <th>Magnesium</th>\n",
       "      <th>Total_Phenols</th>\n",
       "      <th>Flavanoids</th>\n",
       "      <th>Nonflavanoid_Phenols</th>\n",
       "      <th>Proanthocyanins</th>\n",
       "      <th>Color_Intensity</th>\n",
       "      <th>Hue</th>\n",
       "      <th>OD280</th>\n",
       "      <th>Proline</th>\n",
       "    </tr>\n",
       "  </thead>\n",
       "  <tbody>\n",
       "    <tr>\n",
       "      <th>0</th>\n",
       "      <td>1.515163</td>\n",
       "      <td>-0.579166</td>\n",
       "      <td>0.270936</td>\n",
       "      <td>-1.248144</td>\n",
       "      <td>2.298023</td>\n",
       "      <td>0.828643</td>\n",
       "      <td>1.055948</td>\n",
       "      <td>-0.650569</td>\n",
       "      <td>1.466583</td>\n",
       "      <td>0.282097</td>\n",
       "      <td>0.383333</td>\n",
       "      <td>1.828097</td>\n",
       "      <td>0.982174</td>\n",
       "    </tr>\n",
       "    <tr>\n",
       "      <th>1</th>\n",
       "      <td>0.209648</td>\n",
       "      <td>-0.512507</td>\n",
       "      <td>-0.931537</td>\n",
       "      <td>-2.732175</td>\n",
       "      <td>0.114047</td>\n",
       "      <td>0.589411</td>\n",
       "      <td>0.749315</td>\n",
       "      <td>-0.815257</td>\n",
       "      <td>-0.505150</td>\n",
       "      <td>-0.304357</td>\n",
       "      <td>0.429479</td>\n",
       "      <td>1.096928</td>\n",
       "      <td>0.934830</td>\n",
       "    </tr>\n",
       "    <tr>\n",
       "      <th>2</th>\n",
       "      <td>0.158948</td>\n",
       "      <td>0.039806</td>\n",
       "      <td>1.266087</td>\n",
       "      <td>-0.236305</td>\n",
       "      <td>0.194935</td>\n",
       "      <td>0.828643</td>\n",
       "      <td>1.239928</td>\n",
       "      <td>-0.485881</td>\n",
       "      <td>2.481732</td>\n",
       "      <td>0.300715</td>\n",
       "      <td>0.337186</td>\n",
       "      <td>0.773526</td>\n",
       "      <td>1.360929</td>\n",
       "    </tr>\n",
       "    <tr>\n",
       "      <th>3</th>\n",
       "      <td>1.692612</td>\n",
       "      <td>-0.350622</td>\n",
       "      <td>0.561189</td>\n",
       "      <td>-0.843409</td>\n",
       "      <td>1.165591</td>\n",
       "      <td>2.503264</td>\n",
       "      <td>1.495455</td>\n",
       "      <td>-0.979945</td>\n",
       "      <td>1.251840</td>\n",
       "      <td>1.287448</td>\n",
       "      <td>-0.447308</td>\n",
       "      <td>1.167233</td>\n",
       "      <td>2.292034</td>\n",
       "    </tr>\n",
       "    <tr>\n",
       "      <th>4</th>\n",
       "      <td>0.260347</td>\n",
       "      <td>0.258826</td>\n",
       "      <td>2.095379</td>\n",
       "      <td>0.573166</td>\n",
       "      <td>1.570031</td>\n",
       "      <td>0.828643</td>\n",
       "      <td>0.677767</td>\n",
       "      <td>0.255215</td>\n",
       "      <td>0.549044</td>\n",
       "      <td>-0.332284</td>\n",
       "      <td>0.383333</td>\n",
       "      <td>0.436064</td>\n",
       "      <td>-0.059401</td>\n",
       "    </tr>\n",
       "  </tbody>\n",
       "</table>\n",
       "</div>"
      ],
      "text/plain": [
       "    Alcohol  Malic_Acid       Ash  Ash_Alcanity  Magnesium  Total_Phenols  \\\n",
       "0  1.515163   -0.579166  0.270936     -1.248144   2.298023       0.828643   \n",
       "1  0.209648   -0.512507 -0.931537     -2.732175   0.114047       0.589411   \n",
       "2  0.158948    0.039806  1.266087     -0.236305   0.194935       0.828643   \n",
       "3  1.692612   -0.350622  0.561189     -0.843409   1.165591       2.503264   \n",
       "4  0.260347    0.258826  2.095379      0.573166   1.570031       0.828643   \n",
       "\n",
       "   Flavanoids  Nonflavanoid_Phenols  Proanthocyanins  Color_Intensity  \\\n",
       "0    1.055948             -0.650569         1.466583         0.282097   \n",
       "1    0.749315             -0.815257        -0.505150        -0.304357   \n",
       "2    1.239928             -0.485881         2.481732         0.300715   \n",
       "3    1.495455             -0.979945         1.251840         1.287448   \n",
       "4    0.677767              0.255215         0.549044        -0.332284   \n",
       "\n",
       "        Hue     OD280   Proline  \n",
       "0  0.383333  1.828097  0.982174  \n",
       "1  0.429479  1.096928  0.934830  \n",
       "2  0.337186  0.773526  1.360929  \n",
       "3 -0.447308  1.167233  2.292034  \n",
       "4  0.383333  0.436064 -0.059401  "
      ]
     },
     "execution_count": 35,
     "metadata": {},
     "output_type": "execute_result"
    }
   ],
   "source": [
    "X.head()"
   ]
  },
  {
   "cell_type": "code",
   "execution_count": 34,
   "metadata": {},
   "outputs": [],
   "source": [
    "df_normalized = X.to_numpy()"
   ]
  },
  {
   "cell_type": "markdown",
   "metadata": {},
   "source": [
    "### Visualización del mapper"
   ]
  },
  {
   "cell_type": "code",
   "execution_count": 80,
   "metadata": {},
   "outputs": [
    {
     "name": "stdout",
     "output_type": "stream",
     "text": [
      "KeplerMapper(verbose=1)\n",
      "..Composing projection pipeline of length 1:\n",
      "\tProjections: [0]\n",
      "\tDistance matrices: False\n",
      "\tScalers: None\n",
      "..Projecting on data shaped (161, 13)\n",
      "\n",
      "..Projecting data using: [0]\n",
      "Mapping on data shaped (161, 13) using lens shaped (161, 1)\n",
      "\n",
      "Creating 10 hypercubes.\n",
      "\n",
      "Created 13 edges and 27 nodes in 0:00:00.467070.\n",
      "Wrote visualization to: mapper_visualization_output.html\n"
     ]
    },
    {
     "data": {
      "text/plain": [
       "'<!DOCTYPE html>\\n<html>\\n\\n<head>\\n  <meta charset=\"utf-8\">\\n  <meta name=\"generator\" content=\"KeplerMapper\">\\n  <title>Mapper on Wine Data | KeplerMapper</title>\\n\\n  <link rel=\"icon\" type=\"image/png\" href=\"http://i.imgur.com/axOG6GJ.jpg\" />\\n\\n  <link href=\\'https://fonts.googleapis.com/css?family=Roboto+Mono:700,300\\' rel=\\'stylesheet\\' type=\\'text/css\\'>\\n  <style>* {\\n  margin: 0;\\n  padding: 0;\\n}\\n\\nhtml, body {\\n  height: 100%;\\n}\\n\\nbody {\\n  font-family: \"Roboto Mono\", \"Helvetica\", sans-serif;\\n  font-size: 14px;\\n}\\n\\n#logo {\\n  width:  85px;\\n  height: 85px;\\n}\\n\\n#display {\\n  color: #95A5A6;\\n  background: #212121;\\n}\\n\\n#header {\\n  background: #111111;\\n}\\n\\n#print {\\n  color: #000;\\n  background: #FFF;\\n}\\n\\nh1 {\\n  font-size: 21px;\\n  font-weight: 300;\\n  font-weight: 300;\\n}\\n\\nh2 {\\n  font-size: 18px;\\n  padding-bottom: 20px;\\n  font-weight: 300;\\n}\\n\\nh3 {\\n  font-size: 14px;\\n  font-weight: 700;\\n  text-transform: uppercase;\\n}\\n\\nh4 {\\n  font-size: 13px;\\n  font-weight: 700;\\n  text-transform: uppercase;\\n  padding-bottom:0px;\\n}\\n\\n\\n#meta_content h3 {\\n  float: left;\\n  padding-right: 8px;\\n}\\n\\np, #tooltip_content h3, ol, ul, table {\\n  padding-bottom: 10px;\\n}\\n\\nol, ul {\\n  padding-left: 20px;\\n}\\n\\nol b {\\n  display: block;\\n}\\n\\na {\\n  color: #16a085;\\n  text-decoration: none;\\n}\\n\\n.pane {\\n  position: relative;\\n}\\n\\n.pane-left {\\n  float: left;\\n}\\n\\n.pane-right {\\n  float: right;\\n}\\n\\na:hover {\\n  color: #2ecc71;\\n}\\n\\n.banner {\\n  /* height: 35px; */\\n  padding: 10px 0px;\\n}\\n\\n\\n#print #header {\\n  background: #FFF;\\n}\\n\\n\\n#canvas {\\n  width: 100%;\\n}\\n\\n#svg {\\n  position: absolute;\\n}\\n\\n#toolbar {\\n  padding-top: 5px;\\n  margin-bottom: 5px;\\n  width: 100%;\\n}\\n\\n#display #toolbar {\\n}\\n\\n#display .banner {\\n  border-top: 1px solid #000;\\n}\\n\\n.inline-block {\\n  display: inline-block;\\n}\\n\\n.tool_item {\\n  padding-left: 10px;\\n  padding-right: 10px;\\n}\\n\\n.pane_content {\\n  width: 300px;\\n  height:100%;\\n  padding: 20px;\\n  overflow: auto;\\n  display: none;\\n}\\n\\n.pane {\\n  z-index: 1;\\n}\\n\\n#display .pane_content {\\n  background: #191919;\\n}\\n\\n#print .pane_content{\\n  background: #FFF;\\n}\\n\\n#meta_content::-webkit-scrollbar, #tooltip_content::-webkit-scrollbar {\\n  width: 1em;\\n}\\n\\n#meta_content::-webkit-scrollbar-track, #tooltip_content::-webkit-scrollbar-track {\\n  -webkit-box-shadow: inset 0 0 6px rgba(0, 0, 0, 0.3);\\n}\\n\\n#meta_content::-webkit-scrollbar-thumb, #tooltip_content::-webkit-scrollbar-thumb {\\n  background-color: darkgrey;\\n  outline: 1px solid slategrey;\\n}\\n\\n.histogram {\\n  display: block;\\n  height: 100px;\\n  padding-top: 50px;\\n  clear: both;\\n}\\n\\n#display .histogram {\\n  opacity: 0.68;\\n}\\n\\n.bin {\\n  width: 10%;\\n  float: left;\\n}\\n\\n.bin div {\\n  font-size: 10px;\\n  display: block;\\n  width: 35px;\\n  margin-top: -30px;\\n  text-align: right;\\n  margin-left: -3px;\\n  -webkit-transform: rotate(-90deg);\\n  -moz-transform: rotate(-90deg);\\n  -ms-transform: rotate(-90deg);\\n  -o-transform: rotate(-90deg);\\n}\\n\\n.histogram:hover {\\n  opacity: 1.;\\n}\\n\\n#display .circle {\\n  stroke-opacity: 0.18;\\n  stroke-width: 7px;\\n  stroke: #000;\\n}\\n\\n#print .circle {\\n  stroke-opacity: 1;\\n  stroke-width: 2px;\\n  stroke: #000;\\n  stroke-linecap: round;\\n}\\n\\n#print .link {\\n  stroke: #000;\\n}\\n\\n#display .link {\\n  stroke: rgba(160, 160, 160, 0.5);\\n}\\n\\ntable {\\n  border-collapse: collapse;\\n  display: table;\\n  width: 100%;\\n  margin-bottom: 20px;\\n}\\n\\ntd, th {\\n  padding: 5px;\\n  text-align: left;\\n}\\n\\n#display th {\\n  background: #212121\\n}\\n\\ntd {\\n  border-bottom: 1px solid #111;\\n}\\n\\n.highlight {\\n  filter: url(#drop-shadow-pulse);\\n}\\n\\n.control-row {\\n  padding: 5px 0px;\\n}\\n\\n.btn {\\n  display: inline-block;\\n  padding: 0.35em 1.2em;\\n  border: 0.1em solid #FFFFFF;\\n  margin: 0 0.3em 0.3em 0;\\n  border-radius: 0.12em;\\n  box-sizing: border-box;\\n  text-decoration: none;\\n  background-color: transparent;\\n  font-weight: 300;\\n  color: #FFFFFF;\\n  text-align: center;\\n  transition: all 0.2s;\\n}\\n\\n.btn:hover {\\n  color: #000000;\\n  background-color: #FFFFFF;\\n}\\n\\n.btn:disabled {\\n  color: #FFFFFF;\\n  opacity: .35;\\n}\\n\\n#print .btn {\\n  color: #000;\\n  border-color: #000\\n}\\n\\n#print .btn:hover {\\n  color: #FFFFFF;\\n  background-color: #000000\\n}\\n\\n#print .btn:disabled {}\\n\\n#toolbar .btn {\\n  padding: 0 1.2em;\\n}\\n\\nlabel {\\n  display: inline-block;\\n  margin-bottom: .5rem;\\n}\\n\\n#config-file-loader {\\n  margin-bottom: .5em;\\n}\\n\\n.btn:not(:disabled):not(.disabled) {\\n    cursor: pointer;\\n}\\n\\n.wrap {\\n  display: flex;\\n}\\n\\n.wrap-header div:last-child {\\n  margin-left: auto;\\n}\\n\\n.wrap-end {\\n  justify-content: flex-end;\\n}\\n\\n.wrap-logo {\\n  display: flex;\\n  justify-content: center;\\n  align-items: center;\\n}\\n\\n.wrap-logo .logo {\\n  margin: auto;\\n}\\n\\n.wrap-header {\\n  /* padding: 5px 10px; */\\n  padding: 5px 5px 5px 10px;\\n  justify-content: space-between;\\n}\\n\\n#display .wrap-header {\\n  box-shadow: 0px 0px 4px #000;\\n}\\n\\n.toolbar-container {\\n  margin-left: -10px;\\n}\\n</style>\\n\\n</head>\\n\\n<body id=\"display\">\\n\\n  <!-- Variables used later -->\\n  <script>\\n    const graph = {\"links\": [{\"source\": 2, \"target\": 4, \"width\": 1}, {\"source\": 3, \"target\": 7, \"width\": 1}, {\"source\": 3, \"target\": 8, \"width\": 1}, {\"source\": 4, \"target\": 6, \"width\": 1}, {\"source\": 6, \"target\": 10, \"width\": 1}, {\"source\": 7, \"target\": 9, \"width\": 1}, {\"source\": 9, \"target\": 12, \"width\": 1}, {\"source\": 11, \"target\": 12, \"width\": 1}, {\"source\": 12, \"target\": 15, \"width\": 1}, {\"source\": 15, \"target\": 19, \"width\": 1}, {\"source\": 17, \"target\": 20, \"width\": 1}, {\"source\": 18, \"target\": 23, \"width\": 1}, {\"source\": 21, \"target\": 25, \"width\": 1}], \"nodes\": [{\"color\": [[0.5750000000000001], [0.0625], [1.1500000000000001], [0.6375000000000001], [0.5125000000000001]], \"id\": \"\", \"name\": \"cube0_cluster0\", \"size\": 2, \"tooltip\": {\"cluster_stats\": {\"above\": [], \"below\": [], \"size\": 2}, \"custom_tooltips\": [82, 102], \"dist_label\": \"Member\", \"histogram\": [[{\"color\": \"rgb(70, 18, 100)\", \"height\": 0.0, \"perc\": 0.0}, {\"color\": \"rgb(68, 51, 125)\", \"height\": 0.0, \"perc\": 0.0}, {\"color\": \"rgb(58, 80, 138)\", \"height\": 0.0, \"perc\": 0.0}, {\"color\": \"rgb(46, 107, 141)\", \"height\": 0.0, \"perc\": 0.0}, {\"color\": \"rgb(36, 131, 141)\", \"height\": 0.0, \"perc\": 0.0}, {\"color\": \"rgb(33, 155, 136)\", \"height\": 100.0, \"perc\": 50.0}, {\"color\": \"rgb(51, 178, 121)\", \"height\": 100.0, \"perc\": 50.0}, {\"color\": \"rgb(94, 199, 96)\", \"height\": 0.0, \"perc\": 0.0}, {\"color\": \"rgb(155, 215, 59)\", \"height\": 0.0, \"perc\": 0.0}, {\"color\": \"rgb(220, 226, 37)\", \"height\": 0.0, \"perc\": 0.0}]], \"node_id\": \"cube0_cluster0\", \"projection_stats\": []}, \"type\": \"circle\"}, {\"color\": [[0.5479166666666667], [0.08931646295927508], [1.64375], [0.65625], [0.4375]], \"id\": \"\", \"name\": \"cube0_cluster1\", \"size\": 2, \"tooltip\": {\"cluster_stats\": {\"above\": [], \"below\": [], \"size\": 3}, \"custom_tooltips\": [70, 88, 105], \"dist_label\": \"Member\", \"histogram\": [[{\"color\": \"rgb(70, 18, 100)\", \"height\": 0.0, \"perc\": 0.0}, {\"color\": \"rgb(68, 51, 125)\", \"height\": 0.0, \"perc\": 0.0}, {\"color\": \"rgb(58, 80, 138)\", \"height\": 0.0, \"perc\": 0.0}, {\"color\": \"rgb(46, 107, 141)\", \"height\": 0.0, \"perc\": 0.0}, {\"color\": \"rgb(36, 131, 141)\", \"height\": 100.0, \"perc\": 33.3}, {\"color\": \"rgb(33, 155, 136)\", \"height\": 100.0, \"perc\": 33.3}, {\"color\": \"rgb(51, 178, 121)\", \"height\": 100.0, \"perc\": 33.3}, {\"color\": \"rgb(94, 199, 96)\", \"height\": 0.0, \"perc\": 0.0}, {\"color\": \"rgb(155, 215, 59)\", \"height\": 0.0, \"perc\": 0.0}, {\"color\": \"rgb(220, 226, 37)\", \"height\": 0.0, \"perc\": 0.0}]], \"node_id\": \"cube0_cluster1\", \"projection_stats\": []}, \"type\": \"circle\"}, {\"color\": [[0.6166666666666667], [0.08009326161142123], [1.85], [0.6937500000000001], [0.50625]], \"id\": \"\", \"name\": \"cube0_cluster2\", \"size\": 2, \"tooltip\": {\"cluster_stats\": {\"above\": [], \"below\": [], \"size\": 3}, \"custom_tooltips\": [81, 104, 111], \"dist_label\": \"Member\", \"histogram\": [[{\"color\": \"rgb(70, 18, 100)\", \"height\": 0.0, \"perc\": 0.0}, {\"color\": \"rgb(68, 51, 125)\", \"height\": 0.0, \"perc\": 0.0}, {\"color\": \"rgb(58, 80, 138)\", \"height\": 0.0, \"perc\": 0.0}, {\"color\": \"rgb(46, 107, 141)\", \"height\": 0.0, \"perc\": 0.0}, {\"color\": \"rgb(36, 131, 141)\", \"height\": 0.0, \"perc\": 0.0}, {\"color\": \"rgb(33, 155, 136)\", \"height\": 50.0, \"perc\": 33.3}, {\"color\": \"rgb(51, 178, 121)\", \"height\": 100.0, \"perc\": 66.7}, {\"color\": \"rgb(94, 199, 96)\", \"height\": 0.0, \"perc\": 0.0}, {\"color\": \"rgb(155, 215, 59)\", \"height\": 0.0, \"perc\": 0.0}, {\"color\": \"rgb(220, 226, 37)\", \"height\": 0.0, \"perc\": 0.0}]], \"node_id\": \"cube0_cluster2\", \"projection_stats\": []}, \"type\": \"circle\"}, {\"color\": [[0.5909722222222222], [0.09638028299718406], [5.3187500000000005], [0.7125], [0.45]], \"id\": \"\", \"name\": \"cube1_cluster0\", \"size\": 3, \"tooltip\": {\"cluster_stats\": {\"above\": [], \"below\": [], \"size\": 9}, \"custom_tooltips\": [72, 74, 84, 85, 96, 106, 107, 113, 114], \"dist_label\": \"Member\", \"histogram\": [[{\"color\": \"rgb(70, 18, 100)\", \"height\": 0.0, \"perc\": 0.0}, {\"color\": \"rgb(68, 51, 125)\", \"height\": 0.0, \"perc\": 0.0}, {\"color\": \"rgb(58, 80, 138)\", \"height\": 0.0, \"perc\": 0.0}, {\"color\": \"rgb(46, 107, 141)\", \"height\": 0.0, \"perc\": 0.0}, {\"color\": \"rgb(36, 131, 141)\", \"height\": 67.0, \"perc\": 22.2}, {\"color\": \"rgb(33, 155, 136)\", \"height\": 67.0, \"perc\": 22.2}, {\"color\": \"rgb(51, 178, 121)\", \"height\": 100.0, \"perc\": 33.3}, {\"color\": \"rgb(94, 199, 96)\", \"height\": 67.0, \"perc\": 22.2}, {\"color\": \"rgb(155, 215, 59)\", \"height\": 0.0, \"perc\": 0.0}, {\"color\": \"rgb(220, 226, 37)\", \"height\": 0.0, \"perc\": 0.0}]], \"node_id\": \"cube1_cluster0\", \"projection_stats\": []}, \"type\": \"circle\"}, {\"color\": [[0.5859375000000001], [0.08870542454523286], [4.687500000000001], [0.7312500000000001], [0.47500000000000003]], \"id\": \"\", \"name\": \"cube1_cluster1\", \"size\": 3, \"tooltip\": {\"cluster_stats\": {\"above\": [], \"below\": [], \"size\": 8}, \"custom_tooltips\": [76, 78, 83, 89, 93, 104, 110, 117], \"dist_label\": \"Member\", \"histogram\": [[{\"color\": \"rgb(70, 18, 100)\", \"height\": 0.0, \"perc\": 0.0}, {\"color\": \"rgb(68, 51, 125)\", \"height\": 0.0, \"perc\": 0.0}, {\"color\": \"rgb(58, 80, 138)\", \"height\": 0.0, \"perc\": 0.0}, {\"color\": \"rgb(46, 107, 141)\", \"height\": 0.0, \"perc\": 0.0}, {\"color\": \"rgb(36, 131, 141)\", \"height\": 67.0, \"perc\": 25.0}, {\"color\": \"rgb(33, 155, 136)\", \"height\": 100.0, \"perc\": 37.5}, {\"color\": \"rgb(51, 178, 121)\", \"height\": 67.0, \"perc\": 25.0}, {\"color\": \"rgb(94, 199, 96)\", \"height\": 33.0, \"perc\": 12.5}, {\"color\": \"rgb(155, 215, 59)\", \"height\": 0.0, \"perc\": 0.0}, {\"color\": \"rgb(220, 226, 37)\", \"height\": 0.0, \"perc\": 0.0}]], \"node_id\": \"cube1_cluster1\", \"projection_stats\": []}, \"type\": \"circle\"}, {\"color\": [[0.43125], [0.0], [0.43125], [0.43125], [0.43125]], \"id\": \"\", \"name\": \"cube1_cluster2\", \"size\": 1, \"tooltip\": {\"cluster_stats\": {\"above\": [], \"below\": [], \"size\": 1}, \"custom_tooltips\": [69], \"dist_label\": \"Member\", \"histogram\": [[{\"color\": \"rgb(70, 18, 100)\", \"height\": 0.0, \"perc\": 0.0}, {\"color\": \"rgb(68, 51, 125)\", \"height\": 0.0, \"perc\": 0.0}, {\"color\": \"rgb(58, 80, 138)\", \"height\": 0.0, \"perc\": 0.0}, {\"color\": \"rgb(46, 107, 141)\", \"height\": 0.0, \"perc\": 0.0}, {\"color\": \"rgb(36, 131, 141)\", \"height\": 100.0, \"perc\": 100.0}, {\"color\": \"rgb(33, 155, 136)\", \"height\": 0.0, \"perc\": 0.0}, {\"color\": \"rgb(51, 178, 121)\", \"height\": 0.0, \"perc\": 0.0}, {\"color\": \"rgb(94, 199, 96)\", \"height\": 0.0, \"perc\": 0.0}, {\"color\": \"rgb(155, 215, 59)\", \"height\": 0.0, \"perc\": 0.0}, {\"color\": \"rgb(220, 226, 37)\", \"height\": 0.0, \"perc\": 0.0}]], \"node_id\": \"cube1_cluster2\", \"projection_stats\": []}, \"type\": \"circle\"}, {\"color\": [[0.5787500000000001], [0.1798697445375403], [5.7875000000000005], [0.89375], [0.35625]], \"id\": \"\", \"name\": \"cube2_cluster0\", \"size\": 3, \"tooltip\": {\"cluster_stats\": {\"above\": [], \"below\": [], \"size\": 10}, \"custom_tooltips\": [57, 62, 66, 76, 83, 91, 93, 124, 131, 143], \"dist_label\": \"Member\", \"histogram\": [[{\"color\": \"rgb(70, 18, 100)\", \"height\": 0.0, \"perc\": 0.0}, {\"color\": \"rgb(68, 51, 125)\", \"height\": 0.0, \"perc\": 0.0}, {\"color\": \"rgb(58, 80, 138)\", \"height\": 0.0, \"perc\": 0.0}, {\"color\": \"rgb(46, 107, 141)\", \"height\": 67.0, \"perc\": 20.0}, {\"color\": \"rgb(36, 131, 141)\", \"height\": 67.0, \"perc\": 20.0}, {\"color\": \"rgb(33, 155, 136)\", \"height\": 100.0, \"perc\": 30.0}, {\"color\": \"rgb(51, 178, 121)\", \"height\": 0.0, \"perc\": 0.0}, {\"color\": \"rgb(94, 199, 96)\", \"height\": 33.0, \"perc\": 10.0}, {\"color\": \"rgb(155, 215, 59)\", \"height\": 67.0, \"perc\": 20.0}, {\"color\": \"rgb(220, 226, 37)\", \"height\": 0.0, \"perc\": 0.0}]], \"node_id\": \"cube2_cluster0\", \"projection_stats\": []}, \"type\": \"circle\"}, {\"color\": [[0.6224999999999999], [0.09847271195615566], [6.225], [0.7250000000000001], [0.38125000000000003]], \"id\": \"\", \"name\": \"cube2_cluster1\", \"size\": 3, \"tooltip\": {\"cluster_stats\": {\"above\": [], \"below\": [], \"size\": 10}, \"custom_tooltips\": [61, 87, 92, 98, 101, 106, 108, 112, 115, 116], \"dist_label\": \"Member\", \"histogram\": [[{\"color\": \"rgb(70, 18, 100)\", \"height\": 0.0, \"perc\": 0.0}, {\"color\": \"rgb(68, 51, 125)\", \"height\": 0.0, \"perc\": 0.0}, {\"color\": \"rgb(58, 80, 138)\", \"height\": 0.0, \"perc\": 0.0}, {\"color\": \"rgb(46, 107, 141)\", \"height\": 25.0, \"perc\": 10.0}, {\"color\": \"rgb(36, 131, 141)\", \"height\": 0.0, \"perc\": 0.0}, {\"color\": \"rgb(33, 155, 136)\", \"height\": 50.0, \"perc\": 20.0}, {\"color\": \"rgb(51, 178, 121)\", \"height\": 100.0, \"perc\": 40.0}, {\"color\": \"rgb(94, 199, 96)\", \"height\": 75.0, \"perc\": 30.0}, {\"color\": \"rgb(155, 215, 59)\", \"height\": 0.0, \"perc\": 0.0}, {\"color\": \"rgb(220, 226, 37)\", \"height\": 0.0, \"perc\": 0.0}]], \"node_id\": \"cube2_cluster1\", \"projection_stats\": []}, \"type\": \"circle\"}, {\"color\": [[0.6041666666666666], [0.19128131551896715], [5.4375], [0.9625], [0.375]], \"id\": \"\", \"name\": \"cube2_cluster2\", \"size\": 3, \"tooltip\": {\"cluster_stats\": {\"above\": [], \"below\": [], \"size\": 9}, \"custom_tooltips\": [60, 64, 80, 84, 90, 95, 99, 144, 154], \"dist_label\": \"Member\", \"histogram\": [[{\"color\": \"rgb(70, 18, 100)\", \"height\": 0.0, \"perc\": 0.0}, {\"color\": \"rgb(68, 51, 125)\", \"height\": 0.0, \"perc\": 0.0}, {\"color\": \"rgb(58, 80, 138)\", \"height\": 0.0, \"perc\": 0.0}, {\"color\": \"rgb(46, 107, 141)\", \"height\": 25.0, \"perc\": 11.1}, {\"color\": \"rgb(36, 131, 141)\", \"height\": 25.0, \"perc\": 11.1}, {\"color\": \"rgb(33, 155, 136)\", \"height\": 100.0, \"perc\": 44.4}, {\"color\": \"rgb(51, 178, 121)\", \"height\": 25.0, \"perc\": 11.1}, {\"color\": \"rgb(94, 199, 96)\", \"height\": 0.0, \"perc\": 0.0}, {\"color\": \"rgb(155, 215, 59)\", \"height\": 0.0, \"perc\": 0.0}, {\"color\": \"rgb(220, 226, 37)\", \"height\": 50.0, \"perc\": 22.2}]], \"node_id\": \"cube2_cluster2\", \"projection_stats\": []}, \"type\": \"circle\"}, {\"color\": [[0.671875], [0.03512440687518201], [4.03125], [0.71875], [0.6125]], \"id\": \"\", \"name\": \"cube3_cluster0\", \"size\": 2, \"tooltip\": {\"cluster_stats\": {\"above\": [], \"below\": [], \"size\": 6}, \"custom_tooltips\": [98, 103, 108, 109, 112, 115], \"dist_label\": \"Member\", \"histogram\": [[{\"color\": \"rgb(70, 18, 100)\", \"height\": 0.0, \"perc\": 0.0}, {\"color\": \"rgb(68, 51, 125)\", \"height\": 0.0, \"perc\": 0.0}, {\"color\": \"rgb(58, 80, 138)\", \"height\": 0.0, \"perc\": 0.0}, {\"color\": \"rgb(46, 107, 141)\", \"height\": 0.0, \"perc\": 0.0}, {\"color\": \"rgb(36, 131, 141)\", \"height\": 0.0, \"perc\": 0.0}, {\"color\": \"rgb(33, 155, 136)\", \"height\": 0.0, \"perc\": 0.0}, {\"color\": \"rgb(51, 178, 121)\", \"height\": 100.0, \"perc\": 66.7}, {\"color\": \"rgb(94, 199, 96)\", \"height\": 50.0, \"perc\": 33.3}, {\"color\": \"rgb(155, 215, 59)\", \"height\": 0.0, \"perc\": 0.0}, {\"color\": \"rgb(220, 226, 37)\", \"height\": 0.0, \"perc\": 0.0}]], \"node_id\": \"cube3_cluster0\", \"projection_stats\": []}, \"type\": \"circle\"}, {\"color\": [[0.7330357142857143], [0.13866045556962342], [5.1312500000000005], [0.89375], [0.46875]], \"id\": \"\", \"name\": \"cube3_cluster1\", \"size\": 3, \"tooltip\": {\"cluster_stats\": {\"above\": [], \"below\": [], \"size\": 7}, \"custom_tooltips\": [75, 97, 121, 122, 123, 140, 143], \"dist_label\": \"Member\", \"histogram\": [[{\"color\": \"rgb(70, 18, 100)\", \"height\": 0.0, \"perc\": 0.0}, {\"color\": \"rgb(68, 51, 125)\", \"height\": 0.0, \"perc\": 0.0}, {\"color\": \"rgb(58, 80, 138)\", \"height\": 0.0, \"perc\": 0.0}, {\"color\": \"rgb(46, 107, 141)\", \"height\": 0.0, \"perc\": 0.0}, {\"color\": \"rgb(36, 131, 141)\", \"height\": 33.0, \"perc\": 14.3}, {\"color\": \"rgb(33, 155, 136)\", \"height\": 0.0, \"perc\": 0.0}, {\"color\": \"rgb(51, 178, 121)\", \"height\": 33.0, \"perc\": 14.3}, {\"color\": \"rgb(94, 199, 96)\", \"height\": 100.0, \"perc\": 42.9}, {\"color\": \"rgb(155, 215, 59)\", \"height\": 67.0, \"perc\": 28.6}, {\"color\": \"rgb(220, 226, 37)\", \"height\": 0.0, \"perc\": 0.0}]], \"node_id\": \"cube3_cluster1\", \"projection_stats\": []}, \"type\": \"circle\"}, {\"color\": [[0.5758928571428571], [0.17926650437780264], [4.03125], [0.96875], [0.36250000000000004]], \"id\": \"\", \"name\": \"cube3_cluster2\", \"size\": 3, \"tooltip\": {\"cluster_stats\": {\"above\": [], \"below\": [], \"size\": 7}, \"custom_tooltips\": [58, 73, 79, 86, 94, 100, 155], \"dist_label\": \"Member\", \"histogram\": [[{\"color\": \"rgb(70, 18, 100)\", \"height\": 0.0, \"perc\": 0.0}, {\"color\": \"rgb(68, 51, 125)\", \"height\": 0.0, \"perc\": 0.0}, {\"color\": \"rgb(58, 80, 138)\", \"height\": 0.0, \"perc\": 0.0}, {\"color\": \"rgb(46, 107, 141)\", \"height\": 50.0, \"perc\": 14.3}, {\"color\": \"rgb(36, 131, 141)\", \"height\": 100.0, \"perc\": 28.6}, {\"color\": \"rgb(33, 155, 136)\", \"height\": 100.0, \"perc\": 28.6}, {\"color\": \"rgb(51, 178, 121)\", \"height\": 50.0, \"perc\": 14.3}, {\"color\": \"rgb(94, 199, 96)\", \"height\": 0.0, \"perc\": 0.0}, {\"color\": \"rgb(155, 215, 59)\", \"height\": 0.0, \"perc\": 0.0}, {\"color\": \"rgb(220, 226, 37)\", \"height\": 50.0, \"perc\": 14.3}]], \"node_id\": \"cube3_cluster2\", \"projection_stats\": []}, \"type\": \"circle\"}, {\"color\": [[0.6535714285714286], [0.20462992355040574], [4.575], [0.96875], [0.39375000000000004]], \"id\": \"\", \"name\": \"cube4_cluster0\", \"size\": 3, \"tooltip\": {\"cluster_stats\": {\"above\": [], \"below\": [], \"size\": 7}, \"custom_tooltips\": [63, 71, 77, 109, 119, 138, 155], \"dist_label\": \"Member\", \"histogram\": [[{\"color\": \"rgb(70, 18, 100)\", \"height\": 0.0, \"perc\": 0.0}, {\"color\": \"rgb(68, 51, 125)\", \"height\": 0.0, \"perc\": 0.0}, {\"color\": \"rgb(58, 80, 138)\", \"height\": 0.0, \"perc\": 0.0}, {\"color\": \"rgb(46, 107, 141)\", \"height\": 50.0, \"perc\": 14.3}, {\"color\": \"rgb(36, 131, 141)\", \"height\": 100.0, \"perc\": 28.6}, {\"color\": \"rgb(33, 155, 136)\", \"height\": 0.0, \"perc\": 0.0}, {\"color\": \"rgb(51, 178, 121)\", \"height\": 50.0, \"perc\": 14.3}, {\"color\": \"rgb(94, 199, 96)\", \"height\": 50.0, \"perc\": 14.3}, {\"color\": \"rgb(155, 215, 59)\", \"height\": 50.0, \"perc\": 14.3}, {\"color\": \"rgb(220, 226, 37)\", \"height\": 50.0, \"perc\": 14.3}]], \"node_id\": \"cube4_cluster0\", \"projection_stats\": []}, \"type\": \"circle\"}, {\"color\": [[0.22875], [0.0541410195692693], [1.14375], [0.30000000000000004], [0.1375]], \"id\": \"\", \"name\": \"cube4_cluster1\", \"size\": 2, \"tooltip\": {\"cluster_stats\": {\"above\": [], \"below\": [], \"size\": 5}, \"custom_tooltips\": [22, 35, 36, 42, 48], \"dist_label\": \"Member\", \"histogram\": [[{\"color\": \"rgb(70, 18, 100)\", \"height\": 0.0, \"perc\": 0.0}, {\"color\": \"rgb(68, 51, 125)\", \"height\": 33.0, \"perc\": 20.0}, {\"color\": \"rgb(58, 80, 138)\", \"height\": 100.0, \"perc\": 60.0}, {\"color\": \"rgb(46, 107, 141)\", \"height\": 33.0, \"perc\": 20.0}, {\"color\": \"rgb(36, 131, 141)\", \"height\": 0.0, \"perc\": 0.0}, {\"color\": \"rgb(33, 155, 136)\", \"height\": 0.0, \"perc\": 0.0}, {\"color\": \"rgb(51, 178, 121)\", \"height\": 0.0, \"perc\": 0.0}, {\"color\": \"rgb(94, 199, 96)\", \"height\": 0.0, \"perc\": 0.0}, {\"color\": \"rgb(155, 215, 59)\", \"height\": 0.0, \"perc\": 0.0}, {\"color\": \"rgb(220, 226, 37)\", \"height\": 0.0, \"perc\": 0.0}]], \"node_id\": \"cube4_cluster1\", \"projection_stats\": []}, \"type\": \"circle\"}, {\"color\": [[0.7656250000000002], [0.22399515201227013], [7.656250000000002], [0.9437500000000001], [0.125]], \"id\": \"\", \"name\": \"cube4_cluster2\", \"size\": 3, \"tooltip\": {\"cluster_stats\": {\"above\": [], \"below\": [], \"size\": 10}, \"custom_tooltips\": [20, 118, 120, 126, 127, 134, 136, 146, 147, 151], \"dist_label\": \"Member\", \"histogram\": [[{\"color\": \"rgb(70, 18, 100)\", \"height\": 0.0, \"perc\": 0.0}, {\"color\": \"rgb(68, 51, 125)\", \"height\": 25.0, \"perc\": 10.0}, {\"color\": \"rgb(58, 80, 138)\", \"height\": 0.0, \"perc\": 0.0}, {\"color\": \"rgb(46, 107, 141)\", \"height\": 0.0, \"perc\": 0.0}, {\"color\": \"rgb(36, 131, 141)\", \"height\": 0.0, \"perc\": 0.0}, {\"color\": \"rgb(33, 155, 136)\", \"height\": 0.0, \"perc\": 0.0}, {\"color\": \"rgb(51, 178, 121)\", \"height\": 0.0, \"perc\": 0.0}, {\"color\": \"rgb(94, 199, 96)\", \"height\": 100.0, \"perc\": 40.0}, {\"color\": \"rgb(155, 215, 59)\", \"height\": 50.0, \"perc\": 20.0}, {\"color\": \"rgb(220, 226, 37)\", \"height\": 75.0, \"perc\": 30.0}]], \"node_id\": \"cube4_cluster2\", \"projection_stats\": []}, \"type\": \"circle\"}, {\"color\": [[0.73125], [0.26226605221198024], [5.1187499999999995], [0.95625], [0.25625000000000003]], \"id\": \"\", \"name\": \"cube5_cluster0\", \"size\": 3, \"tooltip\": {\"cluster_stats\": {\"above\": [], \"below\": [], \"size\": 7}, \"custom_tooltips\": [41, 63, 135, 138, 139, 150, 153], \"dist_label\": \"Member\", \"histogram\": [[{\"color\": \"rgb(70, 18, 100)\", \"height\": 0.0, \"perc\": 0.0}, {\"color\": \"rgb(68, 51, 125)\", \"height\": 0.0, \"perc\": 0.0}, {\"color\": \"rgb(58, 80, 138)\", \"height\": 33.0, \"perc\": 14.3}, {\"color\": \"rgb(46, 107, 141)\", \"height\": 33.0, \"perc\": 14.3}, {\"color\": \"rgb(36, 131, 141)\", \"height\": 0.0, \"perc\": 0.0}, {\"color\": \"rgb(33, 155, 136)\", \"height\": 0.0, \"perc\": 0.0}, {\"color\": \"rgb(51, 178, 121)\", \"height\": 0.0, \"perc\": 0.0}, {\"color\": \"rgb(94, 199, 96)\", \"height\": 0.0, \"perc\": 0.0}, {\"color\": \"rgb(155, 215, 59)\", \"height\": 100.0, \"perc\": 42.9}, {\"color\": \"rgb(220, 226, 37)\", \"height\": 67.0, \"perc\": 28.6}]], \"node_id\": \"cube5_cluster0\", \"projection_stats\": []}, \"type\": \"circle\"}, {\"color\": [[0.15208333333333335], [0.11966025400645315], [0.9125000000000001], [0.34375], [0.00625]], \"id\": \"\", \"name\": \"cube5_cluster1\", \"size\": 2, \"tooltip\": {\"cluster_stats\": {\"above\": [], \"below\": [], \"size\": 6}, \"custom_tooltips\": [1, 2, 24, 25, 39, 55], \"dist_label\": \"Member\", \"histogram\": [[{\"color\": \"rgb(70, 18, 100)\", \"height\": 100.0, \"perc\": 33.3}, {\"color\": \"rgb(68, 51, 125)\", \"height\": 100.0, \"perc\": 33.3}, {\"color\": \"rgb(58, 80, 138)\", \"height\": 50.0, \"perc\": 16.7}, {\"color\": \"rgb(46, 107, 141)\", \"height\": 50.0, \"perc\": 16.7}, {\"color\": \"rgb(36, 131, 141)\", \"height\": 0.0, \"perc\": 0.0}, {\"color\": \"rgb(33, 155, 136)\", \"height\": 0.0, \"perc\": 0.0}, {\"color\": \"rgb(51, 178, 121)\", \"height\": 0.0, \"perc\": 0.0}, {\"color\": \"rgb(94, 199, 96)\", \"height\": 0.0, \"perc\": 0.0}, {\"color\": \"rgb(155, 215, 59)\", \"height\": 0.0, \"perc\": 0.0}, {\"color\": \"rgb(220, 226, 37)\", \"height\": 0.0, \"perc\": 0.0}]], \"node_id\": \"cube5_cluster1\", \"projection_stats\": []}, \"type\": \"circle\"}, {\"color\": [[0.6318750000000001], [0.35825586614178423], [6.3187500000000005], [0.99375], [0.025]], \"id\": \"\", \"name\": \"cube5_cluster2\", \"size\": 3, \"tooltip\": {\"cluster_stats\": {\"above\": [], \"below\": [], \"size\": 10}, \"custom_tooltips\": [4, 33, 34, 65, 128, 132, 141, 157, 158, 159], \"dist_label\": \"Member\", \"histogram\": [[{\"color\": \"rgb(70, 18, 100)\", \"height\": 33.0, \"perc\": 10.0}, {\"color\": \"rgb(68, 51, 125)\", \"height\": 0.0, \"perc\": 0.0}, {\"color\": \"rgb(58, 80, 138)\", \"height\": 67.0, \"perc\": 20.0}, {\"color\": \"rgb(46, 107, 141)\", \"height\": 0.0, \"perc\": 0.0}, {\"color\": \"rgb(36, 131, 141)\", \"height\": 33.0, \"perc\": 10.0}, {\"color\": \"rgb(33, 155, 136)\", \"height\": 0.0, \"perc\": 0.0}, {\"color\": \"rgb(51, 178, 121)\", \"height\": 0.0, \"perc\": 0.0}, {\"color\": \"rgb(94, 199, 96)\", \"height\": 0.0, \"perc\": 0.0}, {\"color\": \"rgb(155, 215, 59)\", \"height\": 100.0, \"perc\": 30.0}, {\"color\": \"rgb(220, 226, 37)\", \"height\": 100.0, \"perc\": 30.0}]], \"node_id\": \"cube5_cluster2\", \"projection_stats\": []}, \"type\": \"circle\"}, {\"color\": [[0.21171875], [0.09839718916685324], [1.69375], [0.35000000000000003], [0.07500000000000001]], \"id\": \"\", \"name\": \"cube6_cluster0\", \"size\": 3, \"tooltip\": {\"cluster_stats\": {\"above\": [], \"below\": [], \"size\": 8}, \"custom_tooltips\": [12, 14, 28, 29, 31, 50, 51, 56], \"dist_label\": \"Member\", \"histogram\": [[{\"color\": \"rgb(70, 18, 100)\", \"height\": 67.0, \"perc\": 25.0}, {\"color\": \"rgb(68, 51, 125)\", \"height\": 100.0, \"perc\": 37.5}, {\"color\": \"rgb(58, 80, 138)\", \"height\": 0.0, \"perc\": 0.0}, {\"color\": \"rgb(46, 107, 141)\", \"height\": 100.0, \"perc\": 37.5}, {\"color\": \"rgb(36, 131, 141)\", \"height\": 0.0, \"perc\": 0.0}, {\"color\": \"rgb(33, 155, 136)\", \"height\": 0.0, \"perc\": 0.0}, {\"color\": \"rgb(51, 178, 121)\", \"height\": 0.0, \"perc\": 0.0}, {\"color\": \"rgb(94, 199, 96)\", \"height\": 0.0, \"perc\": 0.0}, {\"color\": \"rgb(155, 215, 59)\", \"height\": 0.0, \"perc\": 0.0}, {\"color\": \"rgb(220, 226, 37)\", \"height\": 0.0, \"perc\": 0.0}]], \"node_id\": \"cube6_cluster0\", \"projection_stats\": []}, \"type\": \"circle\"}, {\"color\": [[0.7909090909090909], [0.19422346176292285], [8.7], [0.9500000000000001], [0.36875]], \"id\": \"\", \"name\": \"cube6_cluster1\", \"size\": 3, \"tooltip\": {\"cluster_stats\": {\"above\": [], \"below\": [], \"size\": 11}, \"custom_tooltips\": [59, 68, 125, 129, 130, 137, 145, 148, 149, 150, 152], \"dist_label\": \"Member\", \"histogram\": [[{\"color\": \"rgb(70, 18, 100)\", \"height\": 0.0, \"perc\": 0.0}, {\"color\": \"rgb(68, 51, 125)\", \"height\": 0.0, \"perc\": 0.0}, {\"color\": \"rgb(58, 80, 138)\", \"height\": 0.0, \"perc\": 0.0}, {\"color\": \"rgb(46, 107, 141)\", \"height\": 20.0, \"perc\": 9.1}, {\"color\": \"rgb(36, 131, 141)\", \"height\": 20.0, \"perc\": 9.1}, {\"color\": \"rgb(33, 155, 136)\", \"height\": 0.0, \"perc\": 0.0}, {\"color\": \"rgb(51, 178, 121)\", \"height\": 0.0, \"perc\": 0.0}, {\"color\": \"rgb(94, 199, 96)\", \"height\": 20.0, \"perc\": 9.1}, {\"color\": \"rgb(155, 215, 59)\", \"height\": 60.0, \"perc\": 27.3}, {\"color\": \"rgb(220, 226, 37)\", \"height\": 100.0, \"perc\": 45.5}]], \"node_id\": \"cube6_cluster1\", \"projection_stats\": []}, \"type\": \"circle\"}, {\"color\": [[0.20833333333333337], [0.07406828681096325], [1.8750000000000002], [0.33125000000000004], [0.1125]], \"id\": \"\", \"name\": \"cube6_cluster2\", \"size\": 3, \"tooltip\": {\"cluster_stats\": {\"above\": [], \"below\": [], \"size\": 9}, \"custom_tooltips\": [18, 21, 23, 30, 32, 33, 38, 52, 53], \"dist_label\": \"Member\", \"histogram\": [[{\"color\": \"rgb(70, 18, 100)\", \"height\": 0.0, \"perc\": 0.0}, {\"color\": \"rgb(68, 51, 125)\", \"height\": 100.0, \"perc\": 44.4}, {\"color\": \"rgb(58, 80, 138)\", \"height\": 75.0, \"perc\": 33.3}, {\"color\": \"rgb(46, 107, 141)\", \"height\": 50.0, \"perc\": 22.2}, {\"color\": \"rgb(36, 131, 141)\", \"height\": 0.0, \"perc\": 0.0}, {\"color\": \"rgb(33, 155, 136)\", \"height\": 0.0, \"perc\": 0.0}, {\"color\": \"rgb(51, 178, 121)\", \"height\": 0.0, \"perc\": 0.0}, {\"color\": \"rgb(94, 199, 96)\", \"height\": 0.0, \"perc\": 0.0}, {\"color\": \"rgb(155, 215, 59)\", \"height\": 0.0, \"perc\": 0.0}, {\"color\": \"rgb(220, 226, 37)\", \"height\": 0.0, \"perc\": 0.0}]], \"node_id\": \"cube6_cluster2\", \"projection_stats\": []}, \"type\": \"circle\"}, {\"color\": [[0.8225000000000001], [0.21075014827990038], [4.112500000000001], [1.0], [0.41875]], \"id\": \"\", \"name\": \"cube7_cluster0\", \"size\": 2, \"tooltip\": {\"cluster_stats\": {\"above\": [], \"below\": [], \"size\": 5}, \"custom_tooltips\": [67, 133, 142, 156, 160], \"dist_label\": \"Member\", \"histogram\": [[{\"color\": \"rgb(70, 18, 100)\", \"height\": 0.0, \"perc\": 0.0}, {\"color\": \"rgb(68, 51, 125)\", \"height\": 0.0, \"perc\": 0.0}, {\"color\": \"rgb(58, 80, 138)\", \"height\": 0.0, \"perc\": 0.0}, {\"color\": \"rgb(46, 107, 141)\", \"height\": 0.0, \"perc\": 0.0}, {\"color\": \"rgb(36, 131, 141)\", \"height\": 50.0, \"perc\": 20.0}, {\"color\": \"rgb(33, 155, 136)\", \"height\": 0.0, \"perc\": 0.0}, {\"color\": \"rgb(51, 178, 121)\", \"height\": 0.0, \"perc\": 0.0}, {\"color\": \"rgb(94, 199, 96)\", \"height\": 0.0, \"perc\": 0.0}, {\"color\": \"rgb(155, 215, 59)\", \"height\": 100.0, \"perc\": 40.0}, {\"color\": \"rgb(220, 226, 37)\", \"height\": 100.0, \"perc\": 40.0}]], \"node_id\": \"cube7_cluster0\", \"projection_stats\": []}, \"type\": \"circle\"}, {\"color\": [[0.178125], [0.0810695110692053], [1.425], [0.28750000000000003], [0.05625]], \"id\": \"\", \"name\": \"cube7_cluster1\", \"size\": 3, \"tooltip\": {\"cluster_stats\": {\"above\": [], \"below\": [], \"size\": 8}, \"custom_tooltips\": [9, 16, 19, 26, 27, 40, 45, 46], \"dist_label\": \"Member\", \"histogram\": [[{\"color\": \"rgb(70, 18, 100)\", \"height\": 25.0, \"perc\": 12.5}, {\"color\": \"rgb(68, 51, 125)\", \"height\": 100.0, \"perc\": 50.0}, {\"color\": \"rgb(58, 80, 138)\", \"height\": 75.0, \"perc\": 37.5}, {\"color\": \"rgb(46, 107, 141)\", \"height\": 0.0, \"perc\": 0.0}, {\"color\": \"rgb(36, 131, 141)\", \"height\": 0.0, \"perc\": 0.0}, {\"color\": \"rgb(33, 155, 136)\", \"height\": 0.0, \"perc\": 0.0}, {\"color\": \"rgb(51, 178, 121)\", \"height\": 0.0, \"perc\": 0.0}, {\"color\": \"rgb(94, 199, 96)\", \"height\": 0.0, \"perc\": 0.0}, {\"color\": \"rgb(155, 215, 59)\", \"height\": 0.0, \"perc\": 0.0}, {\"color\": \"rgb(220, 226, 37)\", \"height\": 0.0, \"perc\": 0.0}]], \"node_id\": \"cube7_cluster1\", \"projection_stats\": []}, \"type\": \"circle\"}, {\"color\": [[0.18125], [0.12326926827072512], [1.0875], [0.3125], [0.043750000000000004]], \"id\": \"\", \"name\": \"cube7_cluster2\", \"size\": 2, \"tooltip\": {\"cluster_stats\": {\"above\": [], \"below\": [], \"size\": 6}, \"custom_tooltips\": [7, 10, 11, 47, 49, 50], \"dist_label\": \"Member\", \"histogram\": [[{\"color\": \"rgb(70, 18, 100)\", \"height\": 100.0, \"perc\": 50.0}, {\"color\": \"rgb(68, 51, 125)\", \"height\": 0.0, \"perc\": 0.0}, {\"color\": \"rgb(58, 80, 138)\", \"height\": 33.0, \"perc\": 16.7}, {\"color\": \"rgb(46, 107, 141)\", \"height\": 67.0, \"perc\": 33.3}, {\"color\": \"rgb(36, 131, 141)\", \"height\": 0.0, \"perc\": 0.0}, {\"color\": \"rgb(33, 155, 136)\", \"height\": 0.0, \"perc\": 0.0}, {\"color\": \"rgb(51, 178, 121)\", \"height\": 0.0, \"perc\": 0.0}, {\"color\": \"rgb(94, 199, 96)\", \"height\": 0.0, \"perc\": 0.0}, {\"color\": \"rgb(155, 215, 59)\", \"height\": 0.0, \"perc\": 0.0}, {\"color\": \"rgb(220, 226, 37)\", \"height\": 0.0, \"perc\": 0.0}]], \"node_id\": \"cube7_cluster2\", \"projection_stats\": []}, \"type\": \"circle\"}, {\"color\": [[0.05750000000000001], [0.03544361719689456], [0.28750000000000003], [0.10625000000000001], [0.018750000000000003]], \"id\": \"\", \"name\": \"cube8_cluster0\", \"size\": 2, \"tooltip\": {\"cluster_stats\": {\"above\": [], \"below\": [], \"size\": 5}, \"custom_tooltips\": [3, 5, 6, 15, 17], \"dist_label\": \"Member\", \"histogram\": [[{\"color\": \"rgb(70, 18, 100)\", \"height\": 100.0, \"perc\": 80.0}, {\"color\": \"rgb(68, 51, 125)\", \"height\": 25.0, \"perc\": 20.0}, {\"color\": \"rgb(58, 80, 138)\", \"height\": 0.0, \"perc\": 0.0}, {\"color\": \"rgb(46, 107, 141)\", \"height\": 0.0, \"perc\": 0.0}, {\"color\": \"rgb(36, 131, 141)\", \"height\": 0.0, \"perc\": 0.0}, {\"color\": \"rgb(33, 155, 136)\", \"height\": 0.0, \"perc\": 0.0}, {\"color\": \"rgb(51, 178, 121)\", \"height\": 0.0, \"perc\": 0.0}, {\"color\": \"rgb(94, 199, 96)\", \"height\": 0.0, \"perc\": 0.0}, {\"color\": \"rgb(155, 215, 59)\", \"height\": 0.0, \"perc\": 0.0}, {\"color\": \"rgb(220, 226, 37)\", \"height\": 0.0, \"perc\": 0.0}]], \"node_id\": \"cube8_cluster0\", \"projection_stats\": []}, \"type\": \"circle\"}, {\"color\": [[0.7354166666666666], [0.35664573536712246], [2.20625], [1.0], [0.23125]], \"id\": \"\", \"name\": \"cube8_cluster1\", \"size\": 2, \"tooltip\": {\"cluster_stats\": {\"above\": [], \"below\": [], \"size\": 3}, \"custom_tooltips\": [37, 156, 160], \"dist_label\": \"Member\", \"histogram\": [[{\"color\": \"rgb(70, 18, 100)\", \"height\": 0.0, \"perc\": 0.0}, {\"color\": \"rgb(68, 51, 125)\", \"height\": 0.0, \"perc\": 0.0}, {\"color\": \"rgb(58, 80, 138)\", \"height\": 50.0, \"perc\": 33.3}, {\"color\": \"rgb(46, 107, 141)\", \"height\": 0.0, \"perc\": 0.0}, {\"color\": \"rgb(36, 131, 141)\", \"height\": 0.0, \"perc\": 0.0}, {\"color\": \"rgb(33, 155, 136)\", \"height\": 0.0, \"perc\": 0.0}, {\"color\": \"rgb(51, 178, 121)\", \"height\": 0.0, \"perc\": 0.0}, {\"color\": \"rgb(94, 199, 96)\", \"height\": 0.0, \"perc\": 0.0}, {\"color\": \"rgb(155, 215, 59)\", \"height\": 0.0, \"perc\": 0.0}, {\"color\": \"rgb(220, 226, 37)\", \"height\": 100.0, \"perc\": 66.7}]], \"node_id\": \"cube8_cluster1\", \"projection_stats\": []}, \"type\": \"circle\"}, {\"color\": [[0.2203125], [0.13000713622240126], [0.88125], [0.3375], [0.0]], \"id\": \"\", \"name\": \"cube8_cluster2\", \"size\": 2, \"tooltip\": {\"cluster_stats\": {\"above\": [], \"below\": [], \"size\": 4}, \"custom_tooltips\": [0, 43, 44, 54], \"dist_label\": \"Member\", \"histogram\": [[{\"color\": \"rgb(70, 18, 100)\", \"height\": 50.0, \"perc\": 25.0}, {\"color\": \"rgb(68, 51, 125)\", \"height\": 0.0, \"perc\": 0.0}, {\"color\": \"rgb(58, 80, 138)\", \"height\": 100.0, \"perc\": 50.0}, {\"color\": \"rgb(46, 107, 141)\", \"height\": 50.0, \"perc\": 25.0}, {\"color\": \"rgb(36, 131, 141)\", \"height\": 0.0, \"perc\": 0.0}, {\"color\": \"rgb(33, 155, 136)\", \"height\": 0.0, \"perc\": 0.0}, {\"color\": \"rgb(51, 178, 121)\", \"height\": 0.0, \"perc\": 0.0}, {\"color\": \"rgb(94, 199, 96)\", \"height\": 0.0, \"perc\": 0.0}, {\"color\": \"rgb(155, 215, 59)\", \"height\": 0.0, \"perc\": 0.0}, {\"color\": \"rgb(220, 226, 37)\", \"height\": 0.0, \"perc\": 0.0}]], \"node_id\": \"cube8_cluster2\", \"projection_stats\": []}, \"type\": \"circle\"}]};\\n    const colorscale = [[0.0, \"rgb(68, 1, 84)\"], [0.1, \"rgb(72, 35, 116)\"], [0.2, \"rgb(64, 67, 135)\"], [0.3, \"rgb(52, 94, 141)\"], [0.4, \"rgb(41, 120, 142)\"], [0.5, \"rgb(32, 144, 140)\"], [0.6, \"rgb(34, 167, 132)\"], [0.7, \"rgb(68, 190, 112)\"], [0.8, \"rgb(121, 209, 81)\"], [0.9, \"rgb(189, 222, 38)\"], [1.0, \"rgb(253, 231, 36)\"]];\\n    const summary = {\"color_function_name\": [\"Row number\"], \"custom_meta\": {\"clusterer\": \"KMeans(n_clusters=3)\", \"n_cubes\": 10, \"perc_overlap\": 0.123, \"projection\": \"[0]\", \"scaler\": \"None\"}, \"n_edges\": 13, \"n_nodes\": 27, \"n_total\": 179, \"n_unique\": 159, \"node_color_function\": null};\\n    const summary_histogram = [[[{\"color\": \"rgb(70, 18, 100)\", \"height\": 17.0, \"perc\": 3.7}, {\"color\": \"rgb(68, 51, 125)\", \"height\": 50.0, \"perc\": 11.1}, {\"color\": \"rgb(58, 80, 138)\", \"height\": 67.0, \"perc\": 14.8}, {\"color\": \"rgb(46, 107, 141)\", \"height\": 0.0, \"perc\": 0.0}, {\"color\": \"rgb(36, 131, 141)\", \"height\": 17.0, \"perc\": 3.7}, {\"color\": \"rgb(33, 155, 136)\", \"height\": 100.0, \"perc\": 22.2}, {\"color\": \"rgb(51, 178, 121)\", \"height\": 100.0, \"perc\": 22.2}, {\"color\": \"rgb(94, 199, 96)\", \"height\": 83.0, \"perc\": 18.5}, {\"color\": \"rgb(155, 215, 59)\", \"height\": 17.0, \"perc\": 3.7}, {\"color\": \"rgb(220, 226, 37)\", \"height\": 0.0, \"perc\": 0.0}]], [[{\"color\": \"rgb(70, 18, 100)\", \"height\": 100.0, \"perc\": 48.1}, {\"color\": \"rgb(68, 51, 125)\", \"height\": 62.0, \"perc\": 29.6}, {\"color\": \"rgb(58, 80, 138)\", \"height\": 31.0, \"perc\": 14.8}, {\"color\": \"rgb(46, 107, 141)\", \"height\": 15.0, \"perc\": 7.4}, {\"color\": \"rgb(36, 131, 141)\", \"height\": 0.0, \"perc\": 0.0}, {\"color\": \"rgb(33, 155, 136)\", \"height\": 0.0, \"perc\": 0.0}, {\"color\": \"rgb(51, 178, 121)\", \"height\": 0.0, \"perc\": 0.0}, {\"color\": \"rgb(94, 199, 96)\", \"height\": 0.0, \"perc\": 0.0}, {\"color\": \"rgb(155, 215, 59)\", \"height\": 0.0, \"perc\": 0.0}, {\"color\": \"rgb(220, 226, 37)\", \"height\": 0.0, \"perc\": 0.0}]], [[{\"color\": \"rgb(70, 18, 100)\", \"height\": 0.0, \"perc\": 0.0}, {\"color\": \"rgb(68, 51, 125)\", \"height\": 0.0, \"perc\": 0.0}, {\"color\": \"rgb(58, 80, 138)\", \"height\": 100.0, \"perc\": 25.0}, {\"color\": \"rgb(46, 107, 141)\", \"height\": 0.0, \"perc\": 0.0}, {\"color\": \"rgb(36, 131, 141)\", \"height\": 100.0, \"perc\": 25.0}, {\"color\": \"rgb(33, 155, 136)\", \"height\": 0.0, \"perc\": 0.0}, {\"color\": \"rgb(51, 178, 121)\", \"height\": 0.0, \"perc\": 0.0}, {\"color\": \"rgb(94, 199, 96)\", \"height\": 0.0, \"perc\": 0.0}, {\"color\": \"rgb(155, 215, 59)\", \"height\": 100.0, \"perc\": 25.0}, {\"color\": \"rgb(220, 226, 37)\", \"height\": 100.0, \"perc\": 25.0}]], [[{\"color\": \"rgb(70, 18, 100)\", \"height\": 0.0, \"perc\": 0.0}, {\"color\": \"rgb(68, 51, 125)\", \"height\": 11.0, \"perc\": 3.7}, {\"color\": \"rgb(58, 80, 138)\", \"height\": 11.0, \"perc\": 3.7}, {\"color\": \"rgb(46, 107, 141)\", \"height\": 67.0, \"perc\": 22.2}, {\"color\": \"rgb(36, 131, 141)\", \"height\": 11.0, \"perc\": 3.7}, {\"color\": \"rgb(33, 155, 136)\", \"height\": 0.0, \"perc\": 0.0}, {\"color\": \"rgb(51, 178, 121)\", \"height\": 33.0, \"perc\": 11.1}, {\"color\": \"rgb(94, 199, 96)\", \"height\": 44.0, \"perc\": 14.8}, {\"color\": \"rgb(155, 215, 59)\", \"height\": 22.0, \"perc\": 7.4}, {\"color\": \"rgb(220, 226, 37)\", \"height\": 100.0, \"perc\": 33.3}]], [[{\"color\": \"rgb(70, 18, 100)\", \"height\": 100.0, \"perc\": 25.9}, {\"color\": \"rgb(68, 51, 125)\", \"height\": 43.0, \"perc\": 11.1}, {\"color\": \"rgb(58, 80, 138)\", \"height\": 29.0, \"perc\": 7.4}, {\"color\": \"rgb(46, 107, 141)\", \"height\": 86.0, \"perc\": 22.2}, {\"color\": \"rgb(36, 131, 141)\", \"height\": 86.0, \"perc\": 22.2}, {\"color\": \"rgb(33, 155, 136)\", \"height\": 29.0, \"perc\": 7.4}, {\"color\": \"rgb(51, 178, 121)\", \"height\": 14.0, \"perc\": 3.7}, {\"color\": \"rgb(94, 199, 96)\", \"height\": 0.0, \"perc\": 0.0}, {\"color\": \"rgb(155, 215, 59)\", \"height\": 0.0, \"perc\": 0.0}, {\"color\": \"rgb(220, 226, 37)\", \"height\": 0.0, \"perc\": 0.0}]]];\\n  </script>\\n\\n  <div id=\"header\">\\n    <div class=\"wrap wrap-header\">\\n\\n      <div class=\"\">\\n\\n        <!-- toolbar -->\\n        <div class=\"toolbar-container\">\\n        \\n<div id=\"toolbar\" class=\\'wrap\\'>\\n    <div id=\"tooltip_control\" class=\"tool_item\">\\n        <h3>\\n        <a href=\"#\"><small id=\"tooltip_tag\">[+]</small></a>\\n        Cluster Details\\n        </h3>\\n    </div>\\n\\n    <div id=\"meta_control\" class=\"tool_item\">\\n        <h3>\\n        <a href=\"#\"><small id=\"meta_tag\">[+]</small></a>\\n        Mapper Summary\\n        </h3>\\n    </div>\\n\\n    <div id=\"help_control\" class=\"tool_item\">\\n        <h3>\\n        <a href=\"#\"><small id=\"helptip_tag\">[+]</small></a>\\n        Help\\n        </h3>\\n    </div>\\n\\n    \\n\\n    \\n    <div id=\"node_color_function_control\" class=\"tool_item\">\\n      <h3>Node Color Function\\n        <select class=\"btn\" id=\\'select-node-color-function\\' name=\"node_color_function\">\\n        \\n          <option value=\"0\">average</option>\\n        \\n          <option value=\"1\">std</option>\\n        \\n          <option value=\"2\">sum</option>\\n        \\n          <option value=\"3\">max</option>\\n        \\n          <option value=\"4\">min</option>\\n        \\n        </select>\\n      </h3>\\n    </div>\\n    \\n\\n    \\n\\n</div>\\n        </div>\\n        <!-- /toolbar -->\\n\\n        <div class=\\'banner\\'>\\n          <noscript><b>Requires JavaScript (d3.js) for visualizations</b></noscript>\\n          <h1> Mapper on Wine Data </h1>\\n        </div>\\n\\n      </div>\\n\\n      <div class=\"wrap-logo\">\\n        <img id=\"logo\" class=\\'logo\\' src=\"data:image/png;base64, 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\">\\n      </div>\\n    </div>\\n\\n  </div>\\n\\n    <div id=\"canvas\" class=\\'canvas\\'>\\n      <!-- Graph will go in here -->\\n      <svg id=\\'svg\\'>\\n        <defs>\\n          <filter id=\"drop-shadow-glow\" filterUnits=\"userSpaceOnUse\" width=\"250%\" height=\"250%\">\\n            <feGaussianBlur in=\"SourceGraphic\" stdDeviation=\"12\" result=\"blur-out\"/>\\n            <feColorMatrix in=\"blur-out\" type=\"hueRotate\" values=\"0\" result=\"color-out\"/>\\n            <feOffset in=\"color-out\" dx=\"0\" dy=\"0\" result=\"the-shadow\"/>\\n            <feComponentTransfer type=\"linear\" slope=\"0.2\" result=\"shadow-opacity\"/>\\n            <feBlend in=\"SourceGraphic\" in2=\"the-shadow\" mode=\"normal\"/>\\n          </filter>\\n          <filter id=\"drop-shadow-pulse\" filterUnits=\"userSpaceOnUse\" width=\"250%\" height=\"250%\">\\n            <feGaussianBlur in=\"SourceGraphic\" stdDeviation=\"12\" result=\"blur-out\">\\n              <animate attributeName=\"stdDeviation\" from=\"0\" to=\"100\" dur=\"1.5s\" repeatCount=\"indefinite\" />\\n            </feGaussianBlur>\\n            <feColorMatrix in=\"blur-out\" type=\"hueRotate\" values=\"0\" result=\"color-out\"/>\\n            <feOffset in=\"color-out\" dx=\"0\" dy=\"0\" result=\"the-shadow\"/>\\n            <feComponentTransfer type=\"linear\" slope=\"0.2\" result=\"shadow-opacity\"/>\\n            <feBlend in=\"SourceGraphic\" in2=\"the-shadow\" mode=\"normal\"/>\\n          </filter>\\n        </defs>\\n      </svg>\\n\\n    <!-- Panes for each of the tips -->\\n    <div id=\"tooltip\" class=\\'pane pane-left\\'>\\n      <div id=\"tooltip_content\" class=\"pane_content\">\\n        <div id=\\'tooltip_content_no_focus_node\\'>\\n          Hover over a node to see attributes about it.\\n        </div>\\n        <div id=\\'tooltip_content_focus_node\\' style=\\'display:none\\'>\\n        <div>\\n  <div class=\\'actions\\'>\\n    <h3>Actions</h3>\\n    <p>\\n      <button class=\\'btn center-on-node\\'>Center viewport on node</button>\\n    </p>\\n  </div>\\n\\n  <div class=\\'details\\'>\\n    <h2>Cluster Details <span style=\"font-size:0.7em\">(node id: <span class=\\'node_id\\'></span>)</span></h2>\\n\\n    <!-- histogram -->\\n    <div class=\\'histogram-wrapper\\'>\\n      <hr><br/>\\n\\n      <h3><span class=\\'distribution_label\\'></span> Distribution</h3>\\n\\n      <div class=\"histogram\"></div>\\n\\n      <br><br>\\n    </div>\\n    <!-- /histogram -->\\n\\n    <!-- Projection Statistics -->\\n    <div class=\\'projection_stats\\' style=\\'display:none\\'>\\n\\n      <hr><br/>\\n\\n      <h3>Projection Statistics</h3>\\n      <table>\\n        <thead>\\n          <tr>\\n            <th>Lens</th>\\n            <th style=\"width:50px;\"><small>Mean</small></th>\\n            <th style=\"width:50px;\"><small>Max</small></th>\\n            <th style=\"width:50px;\"><small>Min</small></th>\\n          </tr>\\n        </thead>\\n        <tbody></tbody>\\n      </table>\\n    </div>\\n\\n    <!-- Cluster Statistics -->\\n    <div class=\\'cluster_stats\\'>\\n        <hr><br/>\\n\\n        <h3>Cluster Statistics</h3>\\n        <div class=\\'above-wrapper\\'>\\n            <h3>Above Average</h3>\\n            <table>\\n              <thead>\\n                <tr>\\n                  <th>Feature</th>\\n                  <th style=\"width:50px;\"><small>Mean</small></th>\\n                  <th style=\"width:50px;\"><small>STD</small></th>\\n                </tr>\\n              </thead>\\n              <tbody></tbody>\\n            </table>\\n        </div>\\n\\n        <div class=\\'below-wrapper\\'>\\n            <h3>Below Average</h3>\\n            <table>\\n              <thead>\\n                <tr>\\n                  <th>Feature</th>\\n                  <th style=\"width:50px;\"><small>Mean</small></th>\\n                  <th style=\"width:50px;\"><small>STD</small></th>\\n                </tr>\\n              </thead>\\n              <tbody></tbody>\\n            </table>\\n        </div>\\n\\n        <h3>Size</h3>\\n        <p class=\\'cluster-size\\'></p>\\n    </div>\\n\\n    <!-- Membership information -->\\n    <div class=\\'membership-information\\'>\\n      <hr> <br/>\\n\\n      <h3>Members</h3>\\n      <div class=\\'list-of-members\\'></div>\\n\\n      <br><br>\\n      <hr><br>\\n    </div>\\n    <!-- /membership information -->\\n  </div>\\n</div>\\n        </div>\\n      </div>\\n    </div>\\n\\n    <div id=\"helptip\" class=\\'pane pane-right\\'>\\n      <div id=\"helptip_content\" class=\"pane_content\">\\n        <!-- Help pane.\\n    TODO: Add more information here.  -->\\n\\n<ul>\\n<li>Click on a node to lock focus on that node. The node with the current focus will pulse. Click off of a node to release the lock.</li>\\n<li>Dragging a node will fix its position on the screen. Double-click a fixed-position node to unfreeze it.</li>\\n</ul>\\n\\n<table>\\n    <tr>\\n        <th>Key</th>\\n        <th><small>Action</small></th>\\n    </tr>\\n\\n    <tr>\\n        <td>s</td>\\n        <td><small>Nodes glow :D</small></td>\\n    </tr>\\n\\n    <tr>\\n        <td>c</td>\\n        <td><small>remove glow</small></td>\\n    </tr>\\n\\n    <tr>\\n        <td>p</td>\\n        <td><small>Print mode - white backgrounds</small></td>\\n    </tr>\\n\\n    <tr>\\n        <td>d</td>\\n        <td><small>Display mode - black backgrounds</small></td>\\n    </tr>\\n\\n    <tr>\\n        <td>z</td>\\n        <td><small>Turn off gravity</small></td>\\n    </tr>\\n\\n    <tr>\\n        <td>m</td>\\n        <td><small>Spacious layout</small></td>\\n    </tr>\\n\\n    <tr>\\n        <td>e</td>\\n        <td><small>Tight layout</small></td>\\n    </tr>\\n\\n    <tr>\\n        <td>f</td>\\n        <td><small>Freeze layout</small></td>\\n    </tr>\\n\\n    <tr>\\n        <td>x</td>\\n        <td><small>Unfreeze all nodes</small></td>\\n    </tr>\\n\\n</table>\\n\\n<div class=\"control-wrapper\">\\n  <div class=\"control-row\">\\n    <button class=\\'btn\\' type=\"button\" id=\"download-config\" name=\"download-config\">Save config</button>\\n  </div>\\n\\n  <div class=\"control-row\">\\n    <label for=\"config-file-loader\">Load config file</label>\\n    <input type=\"file\" id=\"config-file-loader\" name=\"config-file-loader\" accept=\"application/json\">\\n    <button class=\\'btn\\' id=\\'load-config\\' disabled>Load</button>\\n  </div>\\n</div>\\n      </div>\\n    </div>\\n\\n    <div id=\"meta\" class=\\'pane pane-right\\'>\\n      <div id=\"meta_content\" class=\"pane_content\">\\n        <h2>Mapper Summary</h2>\\n\\n<hr><br>\\n\\n\\n    \\n        <h3>projection </h3> <p> [0]</p>\\n    \\n        <h3>n_cubes </h3> <p> 10</p>\\n    \\n        <h3>perc_overlap </h3> <p> 0.123</p>\\n    \\n        <h3>clusterer </h3> <p> KMeans(n_clusters=3)</p>\\n    \\n        <h3>scaler </h3> <p> None</p>\\n    \\n\\n\\n<h3>Nodes</h3><p> 27 </p>\\n\\n<h3>Edges</h3><p> 13 </p>\\n\\n<h3>Total Samples</h3><p> 179</p>\\n\\n<h3>Unique Samples</h3><p> 159</p>\\n\\n<h3>Color function</h3><p>\\n  Row number\\n</p>\\n\\n<h3>Node Color Functions</h3><p> average, std, sum, max, min</p>\\n\\n\\n<!-- histogram -->\\n<hr><br/>\\n\\n<h3>Node Distribution</h3>\\n\\n<div class=\"histogram\"></div>\\n\\n<br><br>\\n<!-- /histogram -->\\n\\n<hr><br>\\n      </div>\\n    </div>\\n\\n  </div>\\n\\n  <script src=\"https://cdnjs.cloudflare.com/ajax/libs/d3/6.1.1/d3.js\"></script>\\n  <script src=\"https://cdn.jsdelivr.net/npm/file-saver@2.0.2/dist/FileSaver.min.js\"></script>\\n\\n  <script>// Height and width settings\\nvar page_height = window.innerHeight - 5;\\nvar header_height = document.getElementById(\\'header\\').offsetHeight;\\nvar canvas_height = page_height - header_height;\\ndocument.getElementById(\"canvas\").style.height = canvas_height + \"px\";\\nvar width = document.getElementById(\"canvas\").offsetWidth;\\nvar height = document.getElementById(\"canvas\").offsetHeight;\\nvar w = width;\\nvar h = height;\\nvar padding = 40;\\n\\nvar focus_node_id = null;\\nvar focus_node = null;\\nvar text_center = false;\\nvar outline = false;\\n\\n// Size for zooming\\nvar size = d3.scalePow().exponent(1)\\n           .domain([1,100])\\n           .range([8,24]);\\n\\n// Variety of variable inits\\nvar default_node_color = \"#ccc\";\\nvar default_node_color = \"rgba(160,160,160, 0.5)\";\\nvar default_link_color = \"rgba(160,160,160, 0.5)\";\\nvar nominal_base_node_size = 8;\\nvar nominal_text_size = 15;\\nvar max_text_size = 24;\\nvar nominal_stroke = 1.0;\\nvar max_stroke = 4.5;\\nvar max_base_node_size = 36;\\nvar min_zoom = 0.1;\\nvar max_zoom = 7;\\nvar zoom;\\nvar svg, g;\\nvar simulation;\\nvar link, node;\\nvar drag;\\nvar dragging = false;\\nvar circle;\\nvar text;\\nvar focus_via_click = false;\\nvar nodes = [];\\nvar links = [];\\n\\nvar tocolor = \"fill\";\\nvar towhite = \"stroke\";\\nif (outline) {\\n  tocolor = \"stroke\";\\n  towhite = \"fill\";\\n}\\n\\n/**\\n * Side panes\\n */\\n\\n// Show/Hide Functionality\\nfunction toggle_pane(content, content_id, tag) {\\n  var active = content.active ? false : true;\\n\\n  if (active) {\\n    content_id.style(\"display\", \"block\");\\n    tag.node().textContent = \"[-]\";\\n  } else {\\n    content_id.style(\"display\", \"none\");\\n    tag.node().textContent = \"[+]\";\\n  }\\n\\n  // TODO: This is probably not the best way to find the correct height.\\n  var h = canvas_height - content.offsetTop - padding;\\n  content_id.style(\"height\", h + \"px\")\\n\\n  content.active = active;\\n}\\n\\nd3.select(\"#tooltip_control\").on(\"click\", function(e) {\\n  toggle_pane(tooltip_content,\\n              d3.select(\"#tooltip_content\"),\\n              d3.select(\"#tooltip_tag\"))\\n\\n});\\n\\nd3.select(\"#meta_control\").on(\"click\", function(e) {\\n  toggle_pane(meta_content,\\n              d3.select(\"#meta_content\"),\\n              d3.select(\"#meta_tag\"))\\n\\n});\\n\\nd3.select(\"#help_control\").on(\"click\", function(e) {\\n  toggle_pane(helptip_content,\\n              d3.select(\"#helptip_content\"),\\n              d3.select(\"#helptip_tag\"))\\n});\\n\\nd3.select(\\'#select-color-function\\').on(\\'input\\', function(e){\\n  color_function_index = parseInt(e.target.value);\\n  update_color_functions()\\n})\\nd3.select(\\'#select-node-color-function\\').on(\\'input\\', function(e){\\n  node_color_function_index = parseInt(e.target.value);\\n  update_color_functions()\\n})\\n\\n/**\\n *\\n * Set up color scale\\n *\\n *\\n */\\n// var colorscale defined in base.html\\nvar domain = colorscale.map((x)=>x[0])\\nvar palette = colorscale.map((x)=>x[1])\\n\\nvar color = d3.scaleLinear()\\n  .domain(domain)\\n  .range(palette);\\n\\n/*\\n* one-time setups, like SVG and force init\\n*/\\nfunction init() {\\n\\n  zoom = d3.zoom()\\n    .scaleExtent([min_zoom, max_zoom])\\n    .on(\\'zoom\\', zoomed)\\n\\n  // We draw the graph in SVG\\n  svg = d3.select(\"#canvas svg\")\\n          .attr(\"width\", width)\\n          .attr(\"height\", height)\\n          .style(\"cursor\",\"move\")\\n          .call(zoom)\\n          .on(\\'dblclick.zoom\\', null); // prevent default zoom-in on dblclick\\n\\n  svg.on(\\'click.focus\\', function(e){\\n    set_focus_via_click(null);\\n  });\\n\\n  g = svg.append(\"g\")\\n\\n  link = g.selectAll(\".link\")\\n  node = g.selectAll(\".node\")\\n  text = g.selectAll(\".text\")\\n\\n  simulation = d3.forceSimulation()\\n    .force(\\'charge\\', d3.forceManyBody().strength(-1200))\\n    .force(\\'center\\', d3.forceCenter(width / 2, height / 2))\\n    .force(\\'link\\', d3.forceLink().distance(5))\\n    .force(\\'x\\', d3.forceX()) // not sure what this does...\\n    .force(\\'y\\', d3.forceY())\\n    .on(\\'tick\\', ticked)\\n\\n  drag = d3.drag()\\n    .on(\"start\", function(e, d){\\n      svg.style(\\'cursor\\',\\'grabbing\\');\\n      if (!e.active) {\\n        simulation.alphaTarget(0.3).restart()\\n      }\\n      d.fx = d.x\\n      d.fy = d.y\\n      dragging = true;\\n    })\\n    .on(\\'drag\\', function(e, d){\\n      d.fx = e.x\\n      d.fy = e.y\\n    })\\n    .on(\\'end\\', function(e, d){\\n      if (!e.active) {\\n        simulation.alphaTarget(0)\\n      }\\n      dragging = false;\\n    });\\n\\n  resize();\\n  d3.select(window).on(\"resize\", resize);\\n\\n  d3.select(window).on(\"mouseup.focus\", function(e){\\n    if (focus_node == null) {\\n      set_cursor(\\'move\\');\\n    } else {\\n      set_cursor(\\'pointer\\');\\n    }\\n  });\\n}\\n\\nfunction set_histogram(selection, data){\\n  selection.selectAll(\\'.bin\\')\\n    .data(data)\\n    .join(\\n      enter => enter.append(\\'div\\')\\n        .attr(\\'class\\', \\'bin\\')\\n        .call(enter => enter.append(\\'div\\')\\n          .text(d => d.perc + \\'%\\'))\\n      ,\\n      update => update\\n        .call(update => update.select(\\'div\\')\\n          .text(d => d.perc + \\'%\\'))\\n    )\\n    .style(\\'height\\', (d) => (d.height || 1) + \\'px\\')\\n    .style(\\'background\\', (d) => d.color);\\n}\\n\\n\\n\\nvar color_function_index = 0;\\nvar node_color_function_index = 0;\\n\\nfunction reset_color_functions(){\\n  color_function_index = 0;\\n  node_color_function_index = 0;\\n  update_color_functions()\\n}\\n\\nfunction update_color_functions(){\\n  // update_meta_content_histogram\\n  set_histogram(d3.select(\\'#meta_content .histogram\\'), summary_histogram[node_color_function_index][color_function_index])\\n\\n  // update node colors\\n  node.style(tocolor, function(d) {\\n    return color(d.color[node_color_function_index][color_function_index]);\\n  })\\n\\n  // update focus node display, if focus_node\\n  if (focus_node != null){\\n    set_focus_node_histogram(focus_node)\\n  }\\n}\\n\\nfunction update_meta_content_histogram(){\\n\\n}\\n\\nfunction draw_circle_size(d) {\\n  return (d3.symbol()\\n    .size(function(d) {\\n      if (!d.size_modifier) {\\n          d.size_modifier = 1;\\n      }\\n      return d.size * 50 * d.size_modifier;\\n    })\\n    .type(d3.symbolCircle))(d)\\n}\\n\\nfunction start() {\\n\\n  /*\\n  * Force-related things\\n  *\\n  */\\n  // shallow copy to enable restarting,\\n  // because otherwise, starting the force simulation mutates the links (replaces indeces with refs)\\n  nodes = graph.nodes.map(n => Object.assign({}, n));\\n  links = graph.links.map(l => Object.assign({}, l));\\n\\n  // draw links first so that they appear behind nodes\\n  link = link\\n    .data(links)\\n    .join(\"line\")\\n      .attr(\"class\", \"link\")\\n      .style(\"stroke-width\", function(d) { return d.w * nominal_stroke; })\\n      .style(\"stroke-width\", function(d) { return d.w * nominal_stroke; });\\n\\n  node = node\\n    .data(nodes, d => d.name)\\n    .join(enter => enter.append(\"g\")\\n      .attr(\"class\", \"node\")\\n      .attr(\"id\", function(d){ return \"node-\" + d.name })\\n      // append circles...\\n      .append(\"path\")\\n        .attr(\"d\", draw_circle_size )\\n        .attr(\"class\", \"circle\")\\n        .on(\"mouseover.focus\", node_mouseover)\\n        .on(\"mouseout.focus\", node_mouseout)\\n        .on(\\'mousedown.focus\\', node_mousedown)\\n        .on(\"dblclick.freeze\", (e, d) => unfreeze_node(d) )\\n        .on(\\'click.zoom\\', node_click)\\n        .on(\\'center_viewport\\', center_on_node)\\n        .call(drag));\\n\\n  simulation.nodes(nodes);\\n  simulation.force(\\'link\\').links(links);\\n  simulation.alpha(1).restart()\\n\\n  reset_color_functions()\\n}\\n\\ninit();\\nstart();\\n\\nfunction restart() {\\n  // nodes = []\\n  // links = []\\n  // node.remove()\\n  // link.remove()\\n  focus_via_click = false;\\n  start()\\n}\\n\\nfunction zoomed({transform}){\\n  g.attr(\\'transform\\', transform)\\n}\\n\\nfunction ticked() {\\n  node.attr(\"transform\", function(d) { return \"translate(\" + d.x + \",\" + d.y + \")\"; })\\n      .attr(\"cx\", function(d) { return d.x; })\\n      .attr(\"cy\", function(d) { return d.y; })\\n\\n  link.attr(\"x1\", function(d) { return d.source.x; })\\n      .attr(\"y1\", function(d) { return d.source.y; })\\n      .attr(\"x2\", function(d) { return d.target.x; })\\n      .attr(\"y2\", function(d) { return d.target.y; });\\n}\\n\\n/*\\n* Resizing window and redraws\\n*/\\nfunction resize() {\\n  var width = document.getElementById(\"canvas\").offsetWidth;\\n  var height = document.getElementById(\"canvas\").offsetHeight;\\n\\n  svg.attr(\"width\", width)\\n     .attr(\"height\", height);\\n\\n  simulation.force(\\'center\\', d3.forceCenter(width / 2, height / 2));\\n  simulation.alpha(.3).restart();\\n\\n  w = width;\\n  h = height;\\n}\\n\\nfunction set_focus_via_click(d) {\\n  focus_via_click = (d != null ? true : false);\\n  set_focus_node(d);\\n}\\n\\nfunction do_above_below_stats(wrapper, data) {\\n  let column_order = [\\'feature\\', \\'mean\\', \\'std\\'];\\n  wrapper.select(\\'tbody\\')\\n    .selectAll(\\'tr\\')\\n    .data(data, d => d)\\n    .join(enter => {\\n        let tr = enter.append(\\'tr\\')\\n        tr.append(\\'td\\')\\n        tr.append(\\'td\\').style(\\'font-size\\', \\'smaller\\')\\n        tr.append(\\'td\\').style(\\'font-size\\', \\'smaller\\').attr(\\'class\\', \\'std\\')\\n        return tr\\n        })\\n    .selectAll(\\'td\\')\\n    .text( (d, i) => d[column_order[i]] )\\n  if (data.length > 0) {\\n    wrapper.style(\\'display\\', \\'block\\')\\n  } else {\\n    wrapper.style(\\'display\\', \\'none\\')\\n  }\\n}\\n\\nfunction do_projection_stats(wrapper, data) {\\n  let column_order = [\\'name\\', \\'mean\\', \\'min\\', \\'max\\'];\\n  wrapper.select(\\'tbody\\').selectAll(\\'tr\\')\\n    .data(data, d => d)\\n    .join(enter => {\\n      let tr = enter.append(\\'tr\\')\\n      tr.append(\\'td\\')\\n      tr.append(\\'td\\').style(\\'font-size\\', \\'smaller\\')\\n      tr.append(\\'td\\').style(\\'font-size\\', \\'smaller\\')\\n      tr.append(\\'td\\').style(\\'font-size\\', \\'smaller\\')\\n      return tr;\\n    })\\n    .selectAll(\\'td\\')\\n    .text( (d, i) => d[column_order[i]] );\\n  if (data.length > 0) {\\n    wrapper.style(\\'display\\', \\'block\\')\\n  } else {\\n    wrapper.style(\\'display\\', \\'none\\')\\n  }\\n}\\n\\nlet focus_node_tooltip_select = d3.select(\\'#tooltip_content_focus_node\\');\\nlet tooltip_content_no_focus_node = d3.select(\\'#tooltip_content_no_focus_node\\')\\nlet projection_stats_select = focus_node_tooltip_select.select(\\'.projection_stats\\');\\nlet cluster_stats_select = focus_node_tooltip_select.select(\\'.cluster_stats\\');\\nlet above_wrapper = cluster_stats_select.select(\\'.above-wrapper\\');\\nlet below_wrapper = cluster_stats_select.select(\\'.below-wrapper\\');\\nlet list_of_members = focus_node_tooltip_select.select(\\'.membership-information .list-of-members\\');\\n\\nfunction set_focus_node(d){\\n  if (d == null) {\\n    focus_node = null;\\n    set_cursor(\\'move\\');\\n    tooltip_content_no_focus_node.style(\\'display\\', \\'block\\');\\n    focus_node_tooltip_select.style(\\'display\\', \\'none\\')\\n    exit_highlight();\\n  } else if (focus_node == null || d.name != focus_node.name) {\\n    exit_highlight(focus_node);\\n    focus_node = d;\\n    set_highlight(focus_node);\\n    set_cursor(\\'pointer\\');\\n\\n    tooltip_content_no_focus_node.style(\\'display\\', \\'none\\');\\n\\n    focus_node_tooltip_select.select(\\'button.center-on-node\\').node().dataset.nodeId = d.tooltip.node_id;\\n    focus_node_tooltip_select.select(\\'.node_id\\').text(d.tooltip.node_id)\\n    focus_node_tooltip_select.select(\\'.distribution_label\\').text(d.tooltip.dist_label)\\n\\n    // histogram\\n    set_focus_node_histogram(d)\\n\\n    // projection statistics\\n    let projection_stats = d.tooltip.projection_stats;\\n    do_projection_stats(projection_stats_select, projection_stats)\\n\\n    // cluster statistics\\n    let cluster_stats = d.tooltip.cluster_stats;\\n    if (cluster_stats) {\\n\\n      do_above_below_stats(above_wrapper, cluster_stats.above);\\n\\n      do_above_below_stats(below_wrapper, cluster_stats.below);\\n\\n      cluster_stats_select.select(\\'.cluster-size\\').text(cluster_stats.size)\\n\\n      cluster_stats_select.style(\\'display\\', \\'block\\')\\n    } else {\\n      cluster_stats_select.style(\\'display\\', \\'none\\')\\n    }\\n\\n    // membership information\\n    list_of_members.selectAll(\\'span\\')\\n      .data(d.tooltip.custom_tooltips, d => d)\\n      .join(\\'span\\')\\n        .html(d => d)\\n        .style(\\'display\\', \\'inline-block\\')\\n        .style(\\'padding\\', \\'0 3px\\')\\n\\n    focus_node_tooltip_select.style(\\'display\\', \\'block\\');\\n\\n    set_focus_node_histogram(d)\\n  }\\n  // else, it\\'s already the focus node, so do nothing...\\n}\\n\\nd3.select(\\'#tooltip .center-on-node\\').on(\\'click\\', function(e){\\n  // d3.select(\\'#node-\\' + focus_node.name + \\' .circle\\').dispatch(\\'center_viewport\\')\\n  d3.select(\\'#node-\\' + e.target.dataset.nodeId + \\' .circle\\').dispatch(\\'center_viewport\\')\\n})\\n\\nfunction set_focus_node_histogram(d){\\n  set_histogram(d3.select(\\'#tooltip_content .histogram\\'), d.tooltip.histogram[color_function_index])\\n}\\n\\nfunction set_highlight(node) {\\n  let node_id = node.name;\\n  d3.select(\\'#node-\\' + node_id + \\' .circle\\').classed(\\'highlight\\', true);\\n  d3.select(\\'#node-\\' + node_id).classed(\\'highlight\\', true);\\n}\\n\\nfunction exit_highlight(node) {\\n  let node_id = false;\\n  if (node) {\\n    node_id = node.name\\n  }\\n  if (!node_id) {\\n     d3.selectAll(\\'.node .circle\\').classed(\\'highlight\\', false);\\n     d3.selectAll(\\'.node\\').classed(\\'highlight\\', false);\\n  } else {\\n     d3.select(\\'#node-\\' + node_id + \\' .circle\\').classed(\\'highlight\\', false);\\n     d3.select(\\'#node-\\' + node_id).classed(\\'highlight\\', false);\\n  }\\n\\n  do_projection_stats(projection_stats_select, [])\\n  do_above_below_stats(above_wrapper, [])\\n  do_above_below_stats(below_wrapper, [])\\n}\\n\\nfunction set_cursor(state) {\\n  if (!dragging) {\\n    svg.style(\\'cursor\\', state);\\n  }\\n}\\n\\nfunction node_is_fixed(d){\\n  return d.hasOwnProperty(\\'fx\\') || d.hasOwnProperty(\\'fy\\')\\n}\\n\\nfunction node_click(e, d) {\\n  e.stopPropagation()\\n  // to prevent the svg click.focus listener from unsetting the focus node...\\n}\\n\\nfunction center_on_node(e, d) {\\n  svg.transition().duration(250).call(zoom.translateTo, d.x, d.y);\\n}\\n\\nfunction node_mouseover(e, d) {\\n  d.was_fixed = d.hasOwnProperty(\\'fx\\') || d.hasOwnProperty(\\'fy\\')\\n  if (!d.was_fixed){\\n    d.fx = d.x;\\n    d.fy = d.y;\\n  }\\n\\n  if (e.buttons == 0){\\n    set_cursor(\\'pointer\\');\\n    if (!focus_via_click) {\\n      set_focus_node(d);\\n    }\\n  }\\n}\\n\\nfunction node_mouseout(e, d) {\\n  if (!d.was_fixed){\\n      delete d.fx\\n      delete d.fy\\n  }\\n  if (e.buttons == 0){\\n    set_cursor(\\'move\\');\\n    if (!focus_via_click) {\\n        set_focus_node(null);\\n    }\\n  }\\n}\\n\\nfunction node_mousedown(e, d) {\\n  e.stopPropagation();\\n  if (focus_node.name != d.name) {\\n      //switch click focus\\n      set_focus_via_click(d);\\n  } else if (!focus_via_click) {\\n      //d already selected but not via click; set click true\\n      focus_via_click = true;\\n  }\\n}\\n\\n\\n\\nfunction isNumber(n) {\\n  return !isNaN(parseFloat(n)) && isFinite(n);\\n}\\n\\nfunction unfreeze_node(d){\\n  delete d.fy\\n  delete d.fx\\n  return d\\n}\\n\\nfunction freeze_node(d){\\n  d.fx = d.x;\\n  d.fy = d.y;\\n  return d\\n}\\n\\n// search functionality\\nd3.select(\\'#searchbar\\')\\n  .on(\\'submit\\', function(event){\\n      /*\\n      * Searchbar functionality\\n      *\\n      * Permits AND, OR, and EXACT functionality\\n      *\\n      */\\n      event.preventDefault();\\n      // always running this will clear search results on a submit with an empty query\\n      node.datum(d => { d.size_modifier = 1; return d });\\n      node.style(\\'filter\\', null)\\n\\n      node.datum(d => {\\n        let to_lower = tooltip => String(tooltip).toLowerCase();\\n        d.tooltip.custom_tooltips_lowercase = d.tooltip.custom_tooltips.map(to_lower)\\n        return d\\n      });\\n\\n      let search_query = d3.select(this).select(\\'input\\').property(\\'value\\').toLowerCase();\\n      if (search_query) {\\n          let search_mode = d3.select(this).select(\\'input[name=\"search_mode\"]:checked\\').property(\\'value\\');\\n\\n          let node_ratio_fn = (d, i) => {\\n            matches = d.tooltip.custom_tooltips_lowercase.map(map_fn)\\n            let how_many = matches.filter(x=>x).length;\\n\\n            // Future optional feature -- size relative to ratio _within-node_\\n            let out_of = d.tooltip.cluster_stats.size;\\n            let ratio = how_many / out_of;\\n\\n            // Node sizes will be overall number of items in the node\\n            // number of matching\\n            d.size_modifier = how_many;\\n          }\\n\\n          let map_fn;\\n          let node_each_fn;\\n          switch (search_mode) {\\n            case \\'and\\':\\n              search_query = search_query.split(\\' \\');\\n              map_fn = tooltip => {\\n                return search_query.every(query_word => { return tooltip.includes( query_word ) })\\n              }\\n              node.each(node_ratio_fn)\\n              break;\\n            case \\'or\\':\\n              search_query = search_query.split(\\' \\');\\n              map_fn = tooltip => {\\n                return search_query.some(query_word => { return tooltip.includes( query_word ) })\\n              }\\n              node.each(node_ratio_fn)\\n              break;\\n            case \\'exact\\':\\n              node.filter((d,i) => {\\n                  matches = d.tooltip.custom_tooltips_lowercase.map(tooltip => tooltip == search_query)\\n                  return matches.some(e => e);\\n              })\\n              .style(\"filter\", \"url(#drop-shadow-glow)\");\\n              break;\\n            default:\\n              console.error(`search mode ${search_mode} unknown`);\\n              return;\\n          }\\n\\n      }\\n      node.attr(\"d\", draw_circle_size )\\n\\n  })\\n\\n// Key press events\\nlet searchbar = d3.select(\\'#searchbar input\\');\\n\\nd3.select(window).on(\"keydown\", function (event) {\\n  if (event.defaultPrevented) {\\n    return; // Do nothing if the event was already processed\\n  }\\n\\n  if (searchbar.size() && searchbar.node().matches(\\':focus\\')){\\n      return; // let them use the search bar.\\n  }\\n\\n  if (!event.ctrlKey && !event.altKey && !event.metaKey) {\\n    switch (event.key) {\\n      case \"f\": // freeze all\\n        node.datum(freeze_node);\\n        break;\\n      case \"x\": // unfreeze all\\n        node.datum(unfreeze_node);\\n        simulation.alphaTarget(.3).restart()\\n        break\\n      case \"s\":\\n        // Glow\\n        node.style(\"filter\", \"url(#drop-shadow-glow)\");\\n        break;\\n      case \"c\":\\n        // Remove glow\\n        node.style(\"filter\", null);\\n        break;\\n      case \"p\":\\n        // Turn to print mode, white backgrounds\\n        d3.select(\"body\").attr(\\'id\\', null).attr(\\'id\\', \"print\")\\n        break;\\n      case \"d\":\\n        // \"Display\" mode (dark background)\\n        d3.select(\"body\").attr(\\'id\\', null).attr(\\'id\\', \"display\")\\n        break;\\n      case \"z\":\\n        // turn off gravity (??)\\n        simulation\\n          .force(\\'charge\\', d3.forceManyBody().strength(0))\\n          .alphaTarget(.3)\\n          .restart()\\n        break\\n      case \"m\":\\n        // spacious layout\\n        simulation\\n          .force(\\'charge\\', d3.forceManyBody().strength(-1200))\\n          .alphaTarget(.3)\\n          .restart()\\n        break\\n      case \"e\":\\n        // tight layout\\n        simulation\\n          .force(\\'charge\\', d3.forceManyBody().strength(-60))\\n          .alphaTarget(.3)\\n          .restart()\\n        break\\n      default:\\n        return; // Quit when this doesn\\'t handle the key event.\\n    }\\n  event.preventDefault();\\n  }\\n  // Cancel the default action to avoid it being handled twice\\n}, true);\\n\\n\\n\\n/*\\n* Save and load config\\n*\\n*/\\n\\n// save config\\ndocument.getElementById(\\'download-config\\').addEventListener(\\'click\\', function(e){\\n  let config = {}\\n  node.data().forEach(node => {\\n      let config_node = {}\\n\\n      if ( node.hasOwnProperty(\\'fx\\') && node.hasOwnProperty(\\'fy\\') ) {\\n        config_node[\\'fx\\'] = config_node[\\'x\\'] = node[\\'fx\\']\\n        config_node[\\'fy\\'] = config_node[\\'y\\'] = node[\\'fy\\']\\n      } else {\\n        config_node[\\'x\\'] = node[\\'x\\']\\n        config_node[\\'y\\'] = node[\\'y\\']\\n      }\\n      config[node[\\'name\\']] = config_node\\n    })\\n\\n  //JSON.stringify(config,undefined,2)\\n\\n  // https://stackoverflow.com/a/45594892\\n  var fileName = \\'kmapper-config.json\\';\\n\\n  // Create a blob of the data. Blob is native JS api\\n  var fileToSave = new Blob([JSON.stringify(config)], {\\n      type: \\'application/json\\',\\n      name: fileName\\n  });\\n\\n  // function from FileSaver.js\\n  saveAs(fileToSave, fileName);\\n})\\n\\n// load config\\nvar config_file_loader = document.getElementById(\\'config-file-loader\\');\\n\\nconfig_file_loader.addEventListener(\\'change\\', function(){\\n  document.getElementById(\\'load-config\\').disabled = ( config_file_loader.files.length === 0 )\\n})\\n\\ndocument.getElementById(\\'load-config\\').addEventListener(\\'click\\', function(){\\n  const config_file = config_file_loader.files[0];\\n  const fr = new FileReader();\\n  fr.onload = function(e) {\\n    var config = JSON.parse(e.target.result);\\n    load_config(config);\\n  }\\n  fr.readAsText(config_file)\\n})\\nfunction load_config(config){\\n  node = node.datum(function(d, i){\\n    let load_node_config = config[d[\\'name\\']]\\n    d = Object.assign(d, load_node_config);\\n    if ( d.hasOwnProperty(\\'fx\\') && !load_node_config.hasOwnProperty(\\'fx\\') ) {\\n      delete d[\\'fx\\']\\n    }\\n    if ( d.hasOwnProperty(\\'fy\\') && !load_node_config.hasOwnProperty(\\'fy\\') ) {\\n      delete d[\\'fy\\']\\n    }\\n    return d;\\n  })\\n  simulation.restart()\\n}\\n</script>\\n</body>\\n\\n</html>'"
      ]
     },
     "execution_count": 80,
     "metadata": {},
     "output_type": "execute_result"
    }
   ],
   "source": [
    "warnings.filterwarnings('ignore')\n",
    "\n",
    "mapper = km.KeplerMapper(verbose=1)\n",
    "\n",
    "# La proyección sobre alcohol, corresponde a proyectar sobre la primera columna de data\n",
    "projected_data = mapper.fit_transform(df_normalized, projection=[0], scaler=None) \n",
    "\n",
    "covering=km.Cover(n_cubes=10,perc_overlap=0.123)\n",
    "\n",
    "\n",
    "G = mapper.map(projected_data, data, clusterer=sklearn.cluster.KMeans(n_clusters=3),cover=covering)\n",
    "\n",
    "mapper.visualize(G, \n",
    "                path_html=\"mapper_visualization_output.html\",\n",
    "                 title=\"Mapper on Wine Data\",\n",
    "                #custom_tooltips = performance_data['gender'].to_numpy(),\n",
    "                #color_values = mean,\n",
    "                #color_function_name = 'Mean of Reading and Writing Score',\n",
    "                node_color_function=np.array(['average','std','sum','max','min']))"
   ]
  },
  {
   "cell_type": "markdown",
   "metadata": {},
   "source": [
    "### Análisis de los nodos"
   ]
  },
  {
   "cell_type": "code",
   "execution_count": 74,
   "metadata": {},
   "outputs": [
    {
     "data": {
      "text/html": [
       "<div>\n",
       "<style scoped>\n",
       "    .dataframe tbody tr th:only-of-type {\n",
       "        vertical-align: middle;\n",
       "    }\n",
       "\n",
       "    .dataframe tbody tr th {\n",
       "        vertical-align: top;\n",
       "    }\n",
       "\n",
       "    .dataframe thead th {\n",
       "        text-align: right;\n",
       "    }\n",
       "</style>\n",
       "<table border=\"1\" class=\"dataframe\">\n",
       "  <thead>\n",
       "    <tr style=\"text-align: right;\">\n",
       "      <th></th>\n",
       "      <th>Alcohol</th>\n",
       "      <th>Malic_Acid</th>\n",
       "      <th>Ash</th>\n",
       "      <th>Ash_Alcanity</th>\n",
       "      <th>Magnesium</th>\n",
       "      <th>Total_Phenols</th>\n",
       "      <th>Flavanoids</th>\n",
       "      <th>Nonflavanoid_Phenols</th>\n",
       "      <th>Proanthocyanins</th>\n",
       "      <th>Color_Intensity</th>\n",
       "      <th>Hue</th>\n",
       "      <th>OD280</th>\n",
       "      <th>Proline</th>\n",
       "      <th>node_id</th>\n",
       "    </tr>\n",
       "  </thead>\n",
       "  <tbody>\n",
       "    <tr>\n",
       "      <th>0</th>\n",
       "      <td>11.66</td>\n",
       "      <td>1.88</td>\n",
       "      <td>1.92</td>\n",
       "      <td>16.0</td>\n",
       "      <td>97</td>\n",
       "      <td>1.61</td>\n",
       "      <td>1.57</td>\n",
       "      <td>0.34</td>\n",
       "      <td>1.15</td>\n",
       "      <td>3.80</td>\n",
       "      <td>1.23</td>\n",
       "      <td>2.14</td>\n",
       "      <td>428</td>\n",
       "      <td>cube0_cluster0</td>\n",
       "    </tr>\n",
       "    <tr>\n",
       "      <th>1</th>\n",
       "      <td>11.62</td>\n",
       "      <td>1.99</td>\n",
       "      <td>2.28</td>\n",
       "      <td>18.0</td>\n",
       "      <td>98</td>\n",
       "      <td>3.02</td>\n",
       "      <td>2.26</td>\n",
       "      <td>0.17</td>\n",
       "      <td>1.35</td>\n",
       "      <td>3.25</td>\n",
       "      <td>1.16</td>\n",
       "      <td>2.96</td>\n",
       "      <td>345</td>\n",
       "      <td>cube0_cluster0</td>\n",
       "    </tr>\n",
       "    <tr>\n",
       "      <th>2</th>\n",
       "      <td>11.41</td>\n",
       "      <td>0.74</td>\n",
       "      <td>2.50</td>\n",
       "      <td>21.0</td>\n",
       "      <td>88</td>\n",
       "      <td>2.48</td>\n",
       "      <td>2.01</td>\n",
       "      <td>0.42</td>\n",
       "      <td>1.44</td>\n",
       "      <td>3.08</td>\n",
       "      <td>1.10</td>\n",
       "      <td>2.31</td>\n",
       "      <td>434</td>\n",
       "      <td>cube0_cluster0</td>\n",
       "    </tr>\n",
       "    <tr>\n",
       "      <th>3</th>\n",
       "      <td>11.65</td>\n",
       "      <td>1.67</td>\n",
       "      <td>2.62</td>\n",
       "      <td>26.0</td>\n",
       "      <td>88</td>\n",
       "      <td>1.92</td>\n",
       "      <td>1.61</td>\n",
       "      <td>0.40</td>\n",
       "      <td>1.34</td>\n",
       "      <td>2.60</td>\n",
       "      <td>1.36</td>\n",
       "      <td>3.21</td>\n",
       "      <td>562</td>\n",
       "      <td>cube0_cluster1</td>\n",
       "    </tr>\n",
       "    <tr>\n",
       "      <th>4</th>\n",
       "      <td>11.76</td>\n",
       "      <td>2.68</td>\n",
       "      <td>2.92</td>\n",
       "      <td>20.0</td>\n",
       "      <td>103</td>\n",
       "      <td>1.75</td>\n",
       "      <td>2.03</td>\n",
       "      <td>0.60</td>\n",
       "      <td>1.05</td>\n",
       "      <td>3.80</td>\n",
       "      <td>1.23</td>\n",
       "      <td>2.50</td>\n",
       "      <td>607</td>\n",
       "      <td>cube0_cluster1</td>\n",
       "    </tr>\n",
       "  </tbody>\n",
       "</table>\n",
       "</div>"
      ],
      "text/plain": [
       "   Alcohol  Malic_Acid   Ash  Ash_Alcanity  Magnesium  Total_Phenols  \\\n",
       "0    11.66        1.88  1.92          16.0         97           1.61   \n",
       "1    11.62        1.99  2.28          18.0         98           3.02   \n",
       "2    11.41        0.74  2.50          21.0         88           2.48   \n",
       "3    11.65        1.67  2.62          26.0         88           1.92   \n",
       "4    11.76        2.68  2.92          20.0        103           1.75   \n",
       "\n",
       "   Flavanoids  Nonflavanoid_Phenols  Proanthocyanins  Color_Intensity   Hue  \\\n",
       "0        1.57                  0.34             1.15             3.80  1.23   \n",
       "1        2.26                  0.17             1.35             3.25  1.16   \n",
       "2        2.01                  0.42             1.44             3.08  1.10   \n",
       "3        1.61                  0.40             1.34             2.60  1.36   \n",
       "4        2.03                  0.60             1.05             3.80  1.23   \n",
       "\n",
       "   OD280  Proline         node_id  \n",
       "0   2.14      428  cube0_cluster0  \n",
       "1   2.96      345  cube0_cluster0  \n",
       "2   2.31      434  cube0_cluster0  \n",
       "3   3.21      562  cube0_cluster1  \n",
       "4   2.50      607  cube0_cluster1  "
      ]
     },
     "execution_count": 74,
     "metadata": {},
     "output_type": "execute_result"
    }
   ],
   "source": [
    "# Lista para almacenar los DataFrames de cada nodo\n",
    "node_dfs = []\n",
    "\n",
    "# Iterar sobre cada nodo en el grafo\n",
    "for node, indices in G['nodes'].items():\n",
    "    # Extraer los datos para este nodo utilizando los índices\n",
    "    node_data = data.iloc[indices]\n",
    "    \n",
    "    # Añadir una columna indicando el ID del nodo\n",
    "    node_data['node_id'] = node\n",
    "    \n",
    "    # Añadir el DataFrame del nodo a la lista\n",
    "    node_dfs.append(node_data)\n",
    "\n",
    "# Concatenar todos los DataFrames de los nodos en un único DataFrame\n",
    "all_nodes_df = pd.concat(node_dfs, ignore_index=True)\n",
    "\n",
    "# Ahora 'all_nodes_df' contiene todos los datos con una columna adicional 'node_id' que indica a qué nodo pertenecen\n",
    "all_nodes_df.head()\n"
   ]
  },
  {
   "cell_type": "code",
   "execution_count": 76,
   "metadata": {},
   "outputs": [
    {
     "data": {
      "image/png": "[encoded data removed]",
      "text/plain": [
       "<Figure size 1000x600 with 1 Axes>"
      ]
     },
     "metadata": {},
     "output_type": "display_data"
    }
   ],
   "source": [
    "# Elegir un nodo específico para visualizar\n",
    "node_id_to_visualize = 'cube6_cluster1'  # Ajusta esto según los IDs de tus nodos\n",
    "node_data = all_nodes_df[all_nodes_df['node_id'] == node_id_to_visualize]\n",
    "\n",
    "# Visualizar la distribución del 'Alcohol' en el nodo seleccionado\n",
    "plt.figure(figsize=(10, 6))\n",
    "sns.histplot(node_data['Alcohol'], kde=True)\n",
    "plt.title(f'Distribución de Alcohol en {node_id_to_visualize}')\n",
    "plt.xlabel('Alcohol')\n",
    "plt.ylabel('Frecuencia')\n",
    "plt.show()\n"
   ]
  },
  {
   "cell_type": "markdown",
   "metadata": {},
   "source": [
    "En el gráfico anterior se puede observar cómo se ditribuye la variable alcohol y la frecuencia con la que aparece en los nodos"
   ]
  },
  {
   "cell_type": "code",
   "execution_count": 82,
   "metadata": {},
   "outputs": [
    {
     "data": {
      "image/png": "[encoded data removed]",
      "text/plain": [
       "<Figure size 1000x600 with 1 Axes>"
      ]
     },
     "metadata": {},
     "output_type": "display_data"
    }
   ],
   "source": [
    "# Visualizar la relación entre 'Alcohol' y 'Malic acid'\n",
    "plt.figure(figsize=(10, 6))\n",
    "sns.scatterplot(x='Alcohol', y='Malic_Acid', data=node_data)\n",
    "plt.title(f'Relación entre Alcohol y Acidez Málica en {node_id_to_visualize}')\n",
    "plt.xlabel('Alcohol')\n",
    "plt.ylabel('Acidez Málica')\n",
    "plt.show()\n"
   ]
  },
  {
   "cell_type": "markdown",
   "metadata": {},
   "source": [
    "En este gráfico se observa la relación entre el alcohol y la acidez máliza, que no aparenta haber alguna al menos en ese nodo"
   ]
  },
  {
   "cell_type": "code",
   "execution_count": 85,
   "metadata": {},
   "outputs": [
    {
     "name": "stdout",
     "output_type": "stream",
     "text": [
      "Elementos comunes entre los nodos especificados: set()\n"
     ]
    }
   ],
   "source": [
    "# Obtener los índices de los nodos especificados\n",
    "indices_cube4_cluster0 = set(G['nodes']['cube4_cluster0'])\n",
    "indices_cube5_cluster0 = set(G['nodes']['cube5_cluster0'])\n",
    "indices_cube3_cluster2 = set(G['nodes']['cube3_cluster2'])\n",
    "indices_cube0_cluster0 = set(G['nodes']['cube0_cluster0'])\n",
    "\n",
    "# Encontrar elementos comunes\n",
    "common_elements = indices_cube4_cluster0.intersection(\n",
    "    indices_cube5_cluster0,\n",
    "    indices_cube3_cluster2,\n",
    "    indices_cube0_cluster0\n",
    ")\n",
    "\n",
    "print(f\"Elementos comunes entre los nodos especificados: {common_elements}\")\n"
   ]
  },
  {
   "cell_type": "code",
   "execution_count": 86,
   "metadata": {},
   "outputs": [
    {
     "data": {
      "image/png": "[encoded data removed]",
      "text/plain": [
       "<Figure size 1000x800 with 1 Axes>"
      ]
     },
     "metadata": {},
     "output_type": "display_data"
    }
   ],
   "source": [
    "import matplotlib.pyplot as plt\n",
    "from matplotlib_venn import venn3\n",
    "\n",
    "# Preparar los datos para el diagrama de Venn\n",
    "venn_labels = {\n",
    "    '100': len(indices_cube4_cluster0 - indices_cube5_cluster0 - indices_cube3_cluster2),\n",
    "    '010': len(indices_cube5_cluster0 - indices_cube4_cluster0 - indices_cube3_cluster2),\n",
    "    '001': len(indices_cube3_cluster2 - indices_cube4_cluster0 - indices_cube5_cluster0),\n",
    "    '110': len(indices_cube4_cluster0 & indices_cube5_cluster0 - indices_cube3_cluster2),\n",
    "    '101': len(indices_cube4_cluster0 & indices_cube3_cluster2 - indices_cube5_cluster0),\n",
    "    '011': len(indices_cube5_cluster0 & indices_cube3_cluster2 - indices_cube4_cluster0),\n",
    "    '111': len(indices_cube4_cluster0 & indices_cube5_cluster0 & indices_cube3_cluster2),\n",
    "}\n",
    "\n",
    "# Crear el diagrama de Venn\n",
    "plt.figure(figsize=(10, 8))\n",
    "venn3(subsets=venn_labels, set_labels=('cube4_cluster0', 'cube5_cluster0', 'cube3_cluster2'))\n",
    "plt.title(\"Intersección de Elementos entre Tres Nodos\")\n",
    "plt.show()\n"
   ]
  },
  {
   "cell_type": "markdown",
   "metadata": {},
   "source": [
    "En este gráfico de diagramas de Venn se puede observar con respecto a 3 nodos los elementos que tienen en común, que nos hacer referencia a que son similares"
   ]
  }
 ],
 "metadata": {
  "kernelspec": {
   "display_name": "Python 3",
   "language": "python",
   "name": "python3"
  },
  "language_info": {
   "codemirror_mode": {
    "name": "ipython",
    "version": 3
   },
   "file_extension": ".py",
   "mimetype": "text/x-python",
   "name": "python",
   "nbconvert_exporter": "python",
   "pygments_lexer": "ipython3",
   "version": "3.11.0"
  }
 },
 "nbformat": 4,
 "nbformat_minor": 2
}
